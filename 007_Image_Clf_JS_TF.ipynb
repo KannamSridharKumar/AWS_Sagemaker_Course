{
 "cells": [
  {
   "cell_type": "markdown",
   "id": "da4c42cb",
   "metadata": {},
   "source": [
    "## Image Classification - TensorFlow "
   ]
  },
  {
   "cell_type": "markdown",
   "id": "9c2a4074",
   "metadata": {},
   "source": [
    "https://github.com/aws/amazon-sagemaker-examples/blob/main/introduction_to_amazon_algorithms/image_classification_tensorflow/Amazon_TensorFlow_Image_Classification.ipynb\n",
    "\n",
    "\n",
    "https://github.com/aws/amazon-sagemaker-examples/blob/93fc48d21bf88d07853775f11d6ef7db92110549/introduction_to_amazon_algorithms/jumpstart_image_classification/Amazon_JumpStart_Image_Classification.ipynb\n",
    "\n",
    "\n",
    "https://aws.amazon.com/blogs/machine-learning/transfer-learning-for-tensorflow-image-classification-models-in-amazon-sagemaker/\n",
    "\n",
    "\n",
    "https://aws.amazon.com/blogs/machine-learning/run-image-classification-with-amazon-sagemaker-jumpstart/"
   ]
  },
  {
   "cell_type": "code",
   "execution_count": 1,
   "id": "6ceed41f",
   "metadata": {},
   "outputs": [
    {
     "data": {
      "application/javascript": [
       "\n",
       "            setTimeout(function() {\n",
       "                var nbb_cell_id = 1;\n",
       "                var nbb_unformatted_code = \"%load_ext nb_black\";\n",
       "                var nbb_formatted_code = \"%load_ext nb_black\";\n",
       "                var nbb_cells = Jupyter.notebook.get_cells();\n",
       "                for (var i = 0; i < nbb_cells.length; ++i) {\n",
       "                    if (nbb_cells[i].input_prompt_number == nbb_cell_id) {\n",
       "                        if (nbb_cells[i].get_text() == nbb_unformatted_code) {\n",
       "                             nbb_cells[i].set_text(nbb_formatted_code);\n",
       "                        }\n",
       "                        break;\n",
       "                    }\n",
       "                }\n",
       "            }, 500);\n",
       "            "
      ],
      "text/plain": [
       "<IPython.core.display.Javascript object>"
      ]
     },
     "metadata": {},
     "output_type": "display_data"
    }
   ],
   "source": [
    "%load_ext nb_black"
   ]
  },
  {
   "cell_type": "code",
   "execution_count": 2,
   "id": "547f0395",
   "metadata": {},
   "outputs": [
    {
     "data": {
      "application/javascript": [
       "\n",
       "            setTimeout(function() {\n",
       "                var nbb_cell_id = 2;\n",
       "                var nbb_unformatted_code = \"import os\\nimport json\\nimport logging\\nfrom datetime import datetime\";\n",
       "                var nbb_formatted_code = \"import os\\nimport json\\nimport logging\\nfrom datetime import datetime\";\n",
       "                var nbb_cells = Jupyter.notebook.get_cells();\n",
       "                for (var i = 0; i < nbb_cells.length; ++i) {\n",
       "                    if (nbb_cells[i].input_prompt_number == nbb_cell_id) {\n",
       "                        if (nbb_cells[i].get_text() == nbb_unformatted_code) {\n",
       "                             nbb_cells[i].set_text(nbb_formatted_code);\n",
       "                        }\n",
       "                        break;\n",
       "                    }\n",
       "                }\n",
       "            }, 500);\n",
       "            "
      ],
      "text/plain": [
       "<IPython.core.display.Javascript object>"
      ]
     },
     "metadata": {},
     "output_type": "display_data"
    }
   ],
   "source": [
    "import os\n",
    "import json\n",
    "import logging\n",
    "from datetime import datetime"
   ]
  },
  {
   "cell_type": "code",
   "execution_count": 3,
   "id": "9326763c",
   "metadata": {},
   "outputs": [
    {
     "data": {
      "application/javascript": [
       "\n",
       "            setTimeout(function() {\n",
       "                var nbb_cell_id = 3;\n",
       "                var nbb_unformatted_code = \"import boto3\\nimport sagemaker\\nfrom sagemaker import get_execution_role\\nfrom sagemaker import image_uris, model_uris, script_uris, hyperparameters\\nfrom sagemaker import hyperparameters\\nfrom sagemaker.estimator import Estimator\";\n",
       "                var nbb_formatted_code = \"import boto3\\nimport sagemaker\\nfrom sagemaker import get_execution_role\\nfrom sagemaker import image_uris, model_uris, script_uris, hyperparameters\\nfrom sagemaker import hyperparameters\\nfrom sagemaker.estimator import Estimator\";\n",
       "                var nbb_cells = Jupyter.notebook.get_cells();\n",
       "                for (var i = 0; i < nbb_cells.length; ++i) {\n",
       "                    if (nbb_cells[i].input_prompt_number == nbb_cell_id) {\n",
       "                        if (nbb_cells[i].get_text() == nbb_unformatted_code) {\n",
       "                             nbb_cells[i].set_text(nbb_formatted_code);\n",
       "                        }\n",
       "                        break;\n",
       "                    }\n",
       "                }\n",
       "            }, 500);\n",
       "            "
      ],
      "text/plain": [
       "<IPython.core.display.Javascript object>"
      ]
     },
     "metadata": {},
     "output_type": "display_data"
    }
   ],
   "source": [
    "import boto3\n",
    "import sagemaker\n",
    "from sagemaker import get_execution_role\n",
    "from sagemaker import image_uris,  script_uris\n",
    "from sagemaker import hyperparameters\n",
    "from sagemaker.estimator import Estimator\n"
   ]
  },
  {
   "cell_type": "code",
   "execution_count": 4,
   "id": "d78e5f84",
   "metadata": {},
   "outputs": [
    {
     "data": {
      "application/javascript": [
       "\n",
       "            setTimeout(function() {\n",
       "                var nbb_cell_id = 4;\n",
       "                var nbb_unformatted_code = \"boto3.set_stream_logger(name=\\\"botocore.credentials\\\", level=logging.WARNING)\";\n",
       "                var nbb_formatted_code = \"boto3.set_stream_logger(name=\\\"botocore.credentials\\\", level=logging.WARNING)\";\n",
       "                var nbb_cells = Jupyter.notebook.get_cells();\n",
       "                for (var i = 0; i < nbb_cells.length; ++i) {\n",
       "                    if (nbb_cells[i].input_prompt_number == nbb_cell_id) {\n",
       "                        if (nbb_cells[i].get_text() == nbb_unformatted_code) {\n",
       "                             nbb_cells[i].set_text(nbb_formatted_code);\n",
       "                        }\n",
       "                        break;\n",
       "                    }\n",
       "                }\n",
       "            }, 500);\n",
       "            "
      ],
      "text/plain": [
       "<IPython.core.display.Javascript object>"
      ]
     },
     "metadata": {},
     "output_type": "display_data"
    }
   ],
   "source": [
    "boto3.set_stream_logger(name=\"botocore.credentials\", level=logging.WARNING)"
   ]
  },
  {
   "cell_type": "code",
   "execution_count": 5,
   "id": "21d68778",
   "metadata": {},
   "outputs": [
    {
     "name": "stdout",
     "output_type": "stream",
     "text": [
      "ap-southeast-2\n"
     ]
    },
    {
     "data": {
      "application/javascript": [
       "\n",
       "            setTimeout(function() {\n",
       "                var nbb_cell_id = 5;\n",
       "                var nbb_unformatted_code = \"sess = sagemaker.Session()\\nregion = sess.boto_region_name\\nprint(region)\";\n",
       "                var nbb_formatted_code = \"sess = sagemaker.Session()\\nregion = sess.boto_region_name\\nprint(region)\";\n",
       "                var nbb_cells = Jupyter.notebook.get_cells();\n",
       "                for (var i = 0; i < nbb_cells.length; ++i) {\n",
       "                    if (nbb_cells[i].input_prompt_number == nbb_cell_id) {\n",
       "                        if (nbb_cells[i].get_text() == nbb_unformatted_code) {\n",
       "                             nbb_cells[i].set_text(nbb_formatted_code);\n",
       "                        }\n",
       "                        break;\n",
       "                    }\n",
       "                }\n",
       "            }, 500);\n",
       "            "
      ],
      "text/plain": [
       "<IPython.core.display.Javascript object>"
      ]
     },
     "metadata": {},
     "output_type": "display_data"
    }
   ],
   "source": [
    "sess = sagemaker.Session()\n",
    "region = sess.boto_region_name\n",
    "print(region)"
   ]
  },
  {
   "cell_type": "code",
   "execution_count": 6,
   "id": "2bce8711",
   "metadata": {},
   "outputs": [
    {
     "data": {
      "application/javascript": [
       "\n",
       "            setTimeout(function() {\n",
       "                var nbb_cell_id = 6;\n",
       "                var nbb_unformatted_code = \"# role_arn = sagemaker.get_execution_role()\\nrole_arn = os.getenv(\\\"SGMKR_ROLE_ARN\\\")\";\n",
       "                var nbb_formatted_code = \"# role_arn = sagemaker.get_execution_role()\\nrole_arn = os.getenv(\\\"SGMKR_ROLE_ARN\\\")\";\n",
       "                var nbb_cells = Jupyter.notebook.get_cells();\n",
       "                for (var i = 0; i < nbb_cells.length; ++i) {\n",
       "                    if (nbb_cells[i].input_prompt_number == nbb_cell_id) {\n",
       "                        if (nbb_cells[i].get_text() == nbb_unformatted_code) {\n",
       "                             nbb_cells[i].set_text(nbb_formatted_code);\n",
       "                        }\n",
       "                        break;\n",
       "                    }\n",
       "                }\n",
       "            }, 500);\n",
       "            "
      ],
      "text/plain": [
       "<IPython.core.display.Javascript object>"
      ]
     },
     "metadata": {},
     "output_type": "display_data"
    }
   ],
   "source": [
    "# role_arn = sagemaker.get_execution_role()\n",
    "role_arn = os.getenv(\"SGMKR_ROLE_ARN\")"
   ]
  },
  {
   "cell_type": "code",
   "execution_count": 7,
   "id": "172c6302",
   "metadata": {},
   "outputs": [
    {
     "data": {
      "application/javascript": [
       "\n",
       "            setTimeout(function() {\n",
       "                var nbb_cell_id = 7;\n",
       "                var nbb_unformatted_code = \"bucket_name = \\\"sgmkr-course\\\"\\ndata_path = \\\"sgmkr_clf_subfolders\\\"\\n\\nnepochs = 10\\nmini_batch_size = 8\\n\\ntrain_instance_type = \\\"ml.g4dn.xlarge\\\"\\njob_name_prefix = \\\"flowers-clf-js-tf-\\\"\";\n",
       "                var nbb_formatted_code = \"bucket_name = \\\"sgmkr-course\\\"\\ndata_path = \\\"sgmkr_clf_subfolders\\\"\\n\\nnepochs = 10\\nmini_batch_size = 8\\n\\ntrain_instance_type = \\\"ml.g4dn.xlarge\\\"\\njob_name_prefix = \\\"flowers-clf-js-tf-\\\"\";\n",
       "                var nbb_cells = Jupyter.notebook.get_cells();\n",
       "                for (var i = 0; i < nbb_cells.length; ++i) {\n",
       "                    if (nbb_cells[i].input_prompt_number == nbb_cell_id) {\n",
       "                        if (nbb_cells[i].get_text() == nbb_unformatted_code) {\n",
       "                             nbb_cells[i].set_text(nbb_formatted_code);\n",
       "                        }\n",
       "                        break;\n",
       "                    }\n",
       "                }\n",
       "            }, 500);\n",
       "            "
      ],
      "text/plain": [
       "<IPython.core.display.Javascript object>"
      ]
     },
     "metadata": {},
     "output_type": "display_data"
    }
   ],
   "source": [
    "bucket_name = \"sgmkr-course\"\n",
    "data_path = \"sgmkr_clf_subfolders\"\n",
    "\n",
    "nepochs = 10\n",
    "mini_batch_size = 8\n",
    "\n",
    "train_instance_type = \"ml.g4dn.xlarge\"\n",
    "job_name_prefix = \"flowers-clf-js-tf-\""
   ]
  },
  {
   "cell_type": "code",
   "execution_count": null,
   "id": "7a0a7d26",
   "metadata": {},
   "outputs": [],
   "source": []
  },
  {
   "cell_type": "code",
   "execution_count": 8,
   "id": "d6ee0e75",
   "metadata": {},
   "outputs": [
    {
     "data": {
      "application/javascript": [
       "\n",
       "            setTimeout(function() {\n",
       "                var nbb_cell_id = 8;\n",
       "                var nbb_unformatted_code = \"model_id = \\\"pytorch-ic-mobilenet-v2\\\"\\nmodel_version = \\\"*\\\"\";\n",
       "                var nbb_formatted_code = \"model_id = \\\"pytorch-ic-mobilenet-v2\\\"\\nmodel_version = \\\"*\\\"\";\n",
       "                var nbb_cells = Jupyter.notebook.get_cells();\n",
       "                for (var i = 0; i < nbb_cells.length; ++i) {\n",
       "                    if (nbb_cells[i].input_prompt_number == nbb_cell_id) {\n",
       "                        if (nbb_cells[i].get_text() == nbb_unformatted_code) {\n",
       "                             nbb_cells[i].set_text(nbb_formatted_code);\n",
       "                        }\n",
       "                        break;\n",
       "                    }\n",
       "                }\n",
       "            }, 500);\n",
       "            "
      ],
      "text/plain": [
       "<IPython.core.display.Javascript object>"
      ]
     },
     "metadata": {},
     "output_type": "display_data"
    }
   ],
   "source": [
    "model_id = \"pytorch-ic-mobilenet-v2\"\n",
    "model_version = \"*\""
   ]
  },
  {
   "cell_type": "code",
   "execution_count": 9,
   "id": "3a5e1a56",
   "metadata": {},
   "outputs": [
    {
     "name": "stderr",
     "output_type": "stream",
     "text": [
      "image_uri is not presented, retrieving image_uri based on instance_type, framework etc.\n"
     ]
    },
    {
     "name": "stdout",
     "output_type": "stream",
     "text": [
      "763104351884.dkr.ecr.ap-southeast-2.amazonaws.com/pytorch-training:1.10.0-gpu-py38\n",
      "s3://jumpstart-cache-prod-ap-southeast-2/source-directory-tarballs/pytorch/transfer_learning/ic/v2.2.4/sourcedir.tar.gz\n",
      "s3://jumpstart-cache-prod-ap-southeast-2/pytorch-training/v2.0.0/train-pytorch-ic-mobilenet-v2.tar.gz\n"
     ]
    },
    {
     "data": {
      "application/javascript": [
       "\n",
       "            setTimeout(function() {\n",
       "                var nbb_cell_id = 9;\n",
       "                var nbb_unformatted_code = \"train_image_uri = image_uris.retrieve(\\n    region=None,\\n    framework=None,\\n    model_id=model_id,\\n    model_version=model_version,\\n    image_scope=\\\"training\\\",\\n    instance_type=train_instance_type,\\n)\\n\\ntrain_source_uri = script_uris.retrieve(\\n    model_id = model_id, \\n    model_version = model_version, \\n    script_scope = \\\"training\\\"\\n)\\n\\ntrain_model_uri = model_uris.retrieve(\\n    model_id = model_id, \\n    model_version = model_version, \\n    model_scope = \\\"training\\\"\\n)\\n\\nprint(train_image_uri)\\nprint(train_source_uri)\\nprint(train_model_uri)\";\n",
       "                var nbb_formatted_code = \"train_image_uri = image_uris.retrieve(\\n    region=None,\\n    framework=None,\\n    model_id=model_id,\\n    model_version=model_version,\\n    image_scope=\\\"training\\\",\\n    instance_type=train_instance_type,\\n)\\n\\ntrain_source_uri = script_uris.retrieve(\\n    model_id=model_id, model_version=model_version, script_scope=\\\"training\\\"\\n)\\n\\ntrain_model_uri = model_uris.retrieve(\\n    model_id=model_id, model_version=model_version, model_scope=\\\"training\\\"\\n)\\n\\nprint(train_image_uri)\\nprint(train_source_uri)\\nprint(train_model_uri)\";\n",
       "                var nbb_cells = Jupyter.notebook.get_cells();\n",
       "                for (var i = 0; i < nbb_cells.length; ++i) {\n",
       "                    if (nbb_cells[i].input_prompt_number == nbb_cell_id) {\n",
       "                        if (nbb_cells[i].get_text() == nbb_unformatted_code) {\n",
       "                             nbb_cells[i].set_text(nbb_formatted_code);\n",
       "                        }\n",
       "                        break;\n",
       "                    }\n",
       "                }\n",
       "            }, 500);\n",
       "            "
      ],
      "text/plain": [
       "<IPython.core.display.Javascript object>"
      ]
     },
     "metadata": {},
     "output_type": "display_data"
    }
   ],
   "source": [
    "train_image_uri = image_uris.retrieve(\n",
    "    region=None,\n",
    "    framework=None,\n",
    "    model_id=model_id,\n",
    "    model_version=model_version,\n",
    "    image_scope=\"training\",\n",
    "    instance_type=train_instance_type,\n",
    ")\n",
    "\n",
    "train_source_uri = script_uris.retrieve(\n",
    "    model_id=model_id, model_version=model_version, script_scope=\"training\"\n",
    ")\n",
    "\n",
    "train_model_uri = model_uris.retrieve(\n",
    "    model_id=model_id, model_version=model_version, model_scope=\"training\"\n",
    ")\n",
    "\n",
    "print(train_image_uri)\n",
    "print(train_source_uri)\n",
    "print(train_model_uri)"
   ]
  },
  {
   "cell_type": "code",
   "execution_count": null,
   "id": "4620fe86",
   "metadata": {},
   "outputs": [],
   "source": []
  },
  {
   "cell_type": "code",
   "execution_count": null,
   "id": "fbd17397",
   "metadata": {},
   "outputs": [],
   "source": []
  },
  {
   "cell_type": "code",
   "execution_count": null,
   "id": "da728769",
   "metadata": {},
   "outputs": [],
   "source": []
  },
  {
   "cell_type": "code",
   "execution_count": 10,
   "id": "4670fee5",
   "metadata": {},
   "outputs": [
    {
     "name": "stdout",
     "output_type": "stream",
     "text": [
      "{'train_only_top_layer': 'True', 'epochs': '5', 'learning_rate': '0.001', 'batch_size': '4', 'reinitialize_top_layer': 'Auto'}\n"
     ]
    },
    {
     "data": {
      "application/javascript": [
       "\n",
       "            setTimeout(function() {\n",
       "                var nbb_cell_id = 10;\n",
       "                var nbb_unformatted_code = \"hyperparameters = hyperparameters.retrieve_default(\\n    model_id = model_id, \\n    model_version = model_version\\n)\\n\\nhyperparameters[\\\"epochs\\\"] = \\\"5\\\"\\nprint(hyperparameters)\";\n",
       "                var nbb_formatted_code = \"hyperparameters = hyperparameters.retrieve_default(\\n    model_id=model_id, model_version=model_version\\n)\\n\\nhyperparameters[\\\"epochs\\\"] = \\\"5\\\"\\nprint(hyperparameters)\";\n",
       "                var nbb_cells = Jupyter.notebook.get_cells();\n",
       "                for (var i = 0; i < nbb_cells.length; ++i) {\n",
       "                    if (nbb_cells[i].input_prompt_number == nbb_cell_id) {\n",
       "                        if (nbb_cells[i].get_text() == nbb_unformatted_code) {\n",
       "                             nbb_cells[i].set_text(nbb_formatted_code);\n",
       "                        }\n",
       "                        break;\n",
       "                    }\n",
       "                }\n",
       "            }, 500);\n",
       "            "
      ],
      "text/plain": [
       "<IPython.core.display.Javascript object>"
      ]
     },
     "metadata": {},
     "output_type": "display_data"
    }
   ],
   "source": [
    "hyperparameters = hyperparameters.retrieve_default(\n",
    "    model_id=model_id, model_version=model_version\n",
    ")\n",
    "\n",
    "hyperparameters[\"epochs\"] = \"5\"\n",
    "print(hyperparameters)"
   ]
  },
  {
   "cell_type": "code",
   "execution_count": 11,
   "id": "a43e30cc",
   "metadata": {},
   "outputs": [
    {
     "data": {
      "application/javascript": [
       "\n",
       "            setTimeout(function() {\n",
       "                var nbb_cell_id = 11;\n",
       "                var nbb_unformatted_code = \"s3_output_path = \\\"s3://{}/{}/{}\\\".format(bucket_name, data_path, \\\"model_output\\\")\";\n",
       "                var nbb_formatted_code = \"s3_output_path = \\\"s3://{}/{}/{}\\\".format(bucket_name, data_path, \\\"model_output\\\")\";\n",
       "                var nbb_cells = Jupyter.notebook.get_cells();\n",
       "                for (var i = 0; i < nbb_cells.length; ++i) {\n",
       "                    if (nbb_cells[i].input_prompt_number == nbb_cell_id) {\n",
       "                        if (nbb_cells[i].get_text() == nbb_unformatted_code) {\n",
       "                             nbb_cells[i].set_text(nbb_formatted_code);\n",
       "                        }\n",
       "                        break;\n",
       "                    }\n",
       "                }\n",
       "            }, 500);\n",
       "            "
      ],
      "text/plain": [
       "<IPython.core.display.Javascript object>"
      ]
     },
     "metadata": {},
     "output_type": "display_data"
    }
   ],
   "source": [
    "s3_output_path = \"s3://{}/{}/{}\".format(bucket_name, data_path, \"model_output\")"
   ]
  },
  {
   "cell_type": "code",
   "execution_count": 12,
   "id": "6652c46f",
   "metadata": {},
   "outputs": [
    {
     "data": {
      "application/javascript": [
       "\n",
       "            setTimeout(function() {\n",
       "                var nbb_cell_id = 12;\n",
       "                var nbb_unformatted_code = \"clf_estimator = Estimator(\\n    role=role_arn,\\n    image_uri=train_image_uri,\\n    source_dir=train_source_uri,\\n    model_uri=train_model_uri,\\n    entry_point=\\\"transfer_learning.py\\\",\\n    instance_count=1,\\n    instance_type=train_instance_type,\\n    max_run=360000,\\n    hyperparameters=hyperparameters,\\n    output_path=s3_output_path,\\n)\";\n",
       "                var nbb_formatted_code = \"clf_estimator = Estimator(\\n    role=role_arn,\\n    image_uri=train_image_uri,\\n    source_dir=train_source_uri,\\n    model_uri=train_model_uri,\\n    entry_point=\\\"transfer_learning.py\\\",\\n    instance_count=1,\\n    instance_type=train_instance_type,\\n    max_run=360000,\\n    hyperparameters=hyperparameters,\\n    output_path=s3_output_path,\\n)\";\n",
       "                var nbb_cells = Jupyter.notebook.get_cells();\n",
       "                for (var i = 0; i < nbb_cells.length; ++i) {\n",
       "                    if (nbb_cells[i].input_prompt_number == nbb_cell_id) {\n",
       "                        if (nbb_cells[i].get_text() == nbb_unformatted_code) {\n",
       "                             nbb_cells[i].set_text(nbb_formatted_code);\n",
       "                        }\n",
       "                        break;\n",
       "                    }\n",
       "                }\n",
       "            }, 500);\n",
       "            "
      ],
      "text/plain": [
       "<IPython.core.display.Javascript object>"
      ]
     },
     "metadata": {},
     "output_type": "display_data"
    }
   ],
   "source": [
    "clf_estimator = Estimator(\n",
    "    role=role_arn,\n",
    "    image_uri=train_image_uri,\n",
    "    source_dir=train_source_uri,\n",
    "    model_uri=train_model_uri,\n",
    "    entry_point=\"transfer_learning.py\",\n",
    "    instance_count=1,\n",
    "    instance_type=train_instance_type,\n",
    "    max_run=360000,\n",
    "    hyperparameters=hyperparameters,\n",
    "    output_path=s3_output_path,\n",
    ")"
   ]
  },
  {
   "cell_type": "code",
   "execution_count": null,
   "id": "4bb0992c",
   "metadata": {},
   "outputs": [],
   "source": []
  },
  {
   "cell_type": "code",
   "execution_count": null,
   "id": "df9d3219",
   "metadata": {},
   "outputs": [],
   "source": []
  },
  {
   "cell_type": "code",
   "execution_count": 17,
   "id": "0d46384f",
   "metadata": {},
   "outputs": [
    {
     "name": "stdout",
     "output_type": "stream",
     "text": [
      "{'training': 's3://sgmkr-course/sgmkr_clf_subfolders/train_imgs/', 'validation': 's3://sgmkr-course/sgmkr_clf_subfolders/valid_imgs/'}\n"
     ]
    },
    {
     "data": {
      "application/javascript": [
       "\n",
       "            setTimeout(function() {\n",
       "                var nbb_cell_id = 17;\n",
       "                var nbb_unformatted_code = \"s3_train_imgs = \\\"s3://{}/{}/{}\\\".format(bucket_name, data_path, \\\"train_imgs/\\\")\\ns3_valid_imgs = \\\"s3://{}/{}/{}\\\".format(bucket_name, data_path, \\\"valid_imgs/\\\")\\ndata_channels = {\\n    \\\"training\\\": s3_train_imgs,\\n    \\\"validation\\\": s3_valid_imgs,\\n}\\nprint(data_channels)\";\n",
       "                var nbb_formatted_code = \"s3_train_imgs = \\\"s3://{}/{}/{}\\\".format(bucket_name, data_path, \\\"train_imgs/\\\")\\ns3_valid_imgs = \\\"s3://{}/{}/{}\\\".format(bucket_name, data_path, \\\"valid_imgs/\\\")\\ndata_channels = {\\n    \\\"training\\\": s3_train_imgs,\\n    \\\"validation\\\": s3_valid_imgs,\\n}\\nprint(data_channels)\";\n",
       "                var nbb_cells = Jupyter.notebook.get_cells();\n",
       "                for (var i = 0; i < nbb_cells.length; ++i) {\n",
       "                    if (nbb_cells[i].input_prompt_number == nbb_cell_id) {\n",
       "                        if (nbb_cells[i].get_text() == nbb_unformatted_code) {\n",
       "                             nbb_cells[i].set_text(nbb_formatted_code);\n",
       "                        }\n",
       "                        break;\n",
       "                    }\n",
       "                }\n",
       "            }, 500);\n",
       "            "
      ],
      "text/plain": [
       "<IPython.core.display.Javascript object>"
      ]
     },
     "metadata": {},
     "output_type": "display_data"
    }
   ],
   "source": [
    "s3_train_imgs = \"s3://{}/{}/{}\".format(bucket_name, data_path, \"train_imgs\")\n",
    "s3_valid_imgs = \"s3://{}/{}/{}\".format(bucket_name, data_path, \"valid_imgs\")\n",
    "data_channels = {\n",
    "    \"training\": s3_train_imgs,\n",
    "    \"validation\": s3_valid_imgs,\n",
    "}\n",
    "print(data_channels)"
   ]
  },
  {
   "cell_type": "code",
   "execution_count": null,
   "id": "17e41238",
   "metadata": {},
   "outputs": [],
   "source": []
  },
  {
   "cell_type": "code",
   "execution_count": null,
   "id": "23b1398c",
   "metadata": {},
   "outputs": [],
   "source": []
  },
  {
   "cell_type": "code",
   "execution_count": 18,
   "id": "8032dbb5",
   "metadata": {},
   "outputs": [
    {
     "name": "stdout",
     "output_type": "stream",
     "text": [
      "flowers-clf-js-tf-2023-03-21-17-39-10\n"
     ]
    },
    {
     "data": {
      "application/javascript": [
       "\n",
       "            setTimeout(function() {\n",
       "                var nbb_cell_id = 18;\n",
       "                var nbb_unformatted_code = \"timestamp = (\\n    str(datetime.now().replace(microsecond=0)).replace(\\\" \\\", \\\"-\\\").replace(\\\":\\\", \\\"-\\\")\\n)\\njob_name = job_name_prefix + timestamp\\nprint(job_name)\";\n",
       "                var nbb_formatted_code = \"timestamp = (\\n    str(datetime.now().replace(microsecond=0)).replace(\\\" \\\", \\\"-\\\").replace(\\\":\\\", \\\"-\\\")\\n)\\njob_name = job_name_prefix + timestamp\\nprint(job_name)\";\n",
       "                var nbb_cells = Jupyter.notebook.get_cells();\n",
       "                for (var i = 0; i < nbb_cells.length; ++i) {\n",
       "                    if (nbb_cells[i].input_prompt_number == nbb_cell_id) {\n",
       "                        if (nbb_cells[i].get_text() == nbb_unformatted_code) {\n",
       "                             nbb_cells[i].set_text(nbb_formatted_code);\n",
       "                        }\n",
       "                        break;\n",
       "                    }\n",
       "                }\n",
       "            }, 500);\n",
       "            "
      ],
      "text/plain": [
       "<IPython.core.display.Javascript object>"
      ]
     },
     "metadata": {},
     "output_type": "display_data"
    }
   ],
   "source": [
    "timestamp = (\n",
    "    str(datetime.now().replace(microsecond=0)).replace(\" \", \"-\").replace(\":\", \"-\")\n",
    ")\n",
    "job_name = job_name_prefix + timestamp\n",
    "print(job_name)"
   ]
  },
  {
   "cell_type": "code",
   "execution_count": 19,
   "id": "68d5816e",
   "metadata": {},
   "outputs": [
    {
     "name": "stderr",
     "output_type": "stream",
     "text": [
      "Creating training-job with name: flowers-clf-js-tf-2023-03-21-17-39-10\n"
     ]
    },
    {
     "name": "stdout",
     "output_type": "stream",
     "text": [
      "2023-03-21 06:39:12 Starting - Starting the training job...\n",
      "2023-03-21 06:39:27 Starting - Preparing the instances for training...\n",
      "2023-03-21 06:40:19 Downloading - Downloading input data...\n",
      "2023-03-21 06:40:39 Training - Downloading the training image..................\n",
      "2023-03-21 06:43:55 Training - Training image download completed. Training in progress...\u001b[34mbash: cannot set terminal process group (-1): Inappropriate ioctl for device\u001b[0m\n",
      "\u001b[34mbash: no job control in this shell\u001b[0m\n",
      "\u001b[34m2023-03-21 06:44:07,323 sagemaker-training-toolkit INFO     Imported framework sagemaker_pytorch_container.training\u001b[0m\n",
      "\u001b[34m2023-03-21 06:44:07,349 sagemaker_pytorch_container.training INFO     Block until all host DNS lookups succeed.\u001b[0m\n",
      "\u001b[34m2023-03-21 06:44:07,354 sagemaker_pytorch_container.training INFO     Invoking user training script.\u001b[0m\n",
      "\u001b[34m2023-03-21 06:44:07,574 sagemaker-training-toolkit INFO     Invoking user script\u001b[0m\n",
      "\u001b[34mTraining Env:\u001b[0m\n",
      "\u001b[34m{\n",
      "    \"additional_framework_parameters\": {},\n",
      "    \"channel_input_dirs\": {\n",
      "        \"model\": \"/opt/ml/input/data/model\",\n",
      "        \"training\": \"/opt/ml/input/data/training\",\n",
      "        \"validation\": \"/opt/ml/input/data/validation\"\n",
      "    },\n",
      "    \"current_host\": \"algo-1\",\n",
      "    \"framework_module\": \"sagemaker_pytorch_container.training:main\",\n",
      "    \"hosts\": [\n",
      "        \"algo-1\"\n",
      "    ],\n",
      "    \"hyperparameters\": {\n",
      "        \"batch_size\": \"4\",\n",
      "        \"epochs\": \"5\",\n",
      "        \"learning_rate\": \"0.001\",\n",
      "        \"reinitialize_top_layer\": \"Auto\",\n",
      "        \"train_only_top_layer\": \"True\"\n",
      "    },\n",
      "    \"input_config_dir\": \"/opt/ml/input/config\",\n",
      "    \"input_data_config\": {\n",
      "        \"model\": {\n",
      "            \"ContentType\": \"application/x-sagemaker-model\",\n",
      "            \"TrainingInputMode\": \"File\",\n",
      "            \"S3DistributionType\": \"FullyReplicated\",\n",
      "            \"RecordWrapperType\": \"None\"\n",
      "        },\n",
      "        \"training\": {\n",
      "            \"TrainingInputMode\": \"File\",\n",
      "            \"S3DistributionType\": \"FullyReplicated\",\n",
      "            \"RecordWrapperType\": \"None\"\n",
      "        },\n",
      "        \"validation\": {\n",
      "            \"TrainingInputMode\": \"File\",\n",
      "            \"S3DistributionType\": \"FullyReplicated\",\n",
      "            \"RecordWrapperType\": \"None\"\n",
      "        }\n",
      "    },\n",
      "    \"input_dir\": \"/opt/ml/input\",\n",
      "    \"is_master\": true,\n",
      "    \"job_name\": \"flowers-clf-js-tf-2023-03-21-17-39-10\",\n",
      "    \"log_level\": 20,\n",
      "    \"master_hostname\": \"algo-1\",\n",
      "    \"model_dir\": \"/opt/ml/model\",\n",
      "    \"module_dir\": \"s3://jumpstart-cache-prod-ap-southeast-2/source-directory-tarballs/pytorch/transfer_learning/ic/v2.2.4/sourcedir.tar.gz\",\n",
      "    \"module_name\": \"transfer_learning\",\n",
      "    \"network_interface_name\": \"eth0\",\n",
      "    \"num_cpus\": 4,\n",
      "    \"num_gpus\": 1,\n",
      "    \"output_data_dir\": \"/opt/ml/output/data\",\n",
      "    \"output_dir\": \"/opt/ml/output\",\n",
      "    \"output_intermediate_dir\": \"/opt/ml/output/intermediate\",\n",
      "    \"resource_config\": {\n",
      "        \"current_host\": \"algo-1\",\n",
      "        \"current_instance_type\": \"ml.g4dn.xlarge\",\n",
      "        \"current_group_name\": \"homogeneousCluster\",\n",
      "        \"hosts\": [\n",
      "            \"algo-1\"\n",
      "        ],\n",
      "        \"instance_groups\": [\n",
      "            {\n",
      "                \"instance_group_name\": \"homogeneousCluster\",\n",
      "                \"instance_type\": \"ml.g4dn.xlarge\",\n",
      "                \"hosts\": [\n",
      "                    \"algo-1\"\n",
      "                ]\n",
      "            }\n",
      "        ],\n",
      "        \"network_interface_name\": \"eth0\"\n",
      "    },\n",
      "    \"user_entry_point\": \"transfer_learning.py\"\u001b[0m\n",
      "\u001b[34m}\u001b[0m\n",
      "\u001b[34mEnvironment variables:\u001b[0m\n",
      "\u001b[34mSM_HOSTS=[\"algo-1\"]\u001b[0m\n",
      "\u001b[34mSM_NETWORK_INTERFACE_NAME=eth0\u001b[0m\n",
      "\u001b[34mSM_HPS={\"batch_size\":\"4\",\"epochs\":\"5\",\"learning_rate\":\"0.001\",\"reinitialize_top_layer\":\"Auto\",\"train_only_top_layer\":\"True\"}\u001b[0m\n",
      "\u001b[34mSM_USER_ENTRY_POINT=transfer_learning.py\u001b[0m\n",
      "\u001b[34mSM_FRAMEWORK_PARAMS={}\u001b[0m\n",
      "\u001b[34mSM_RESOURCE_CONFIG={\"current_group_name\":\"homogeneousCluster\",\"current_host\":\"algo-1\",\"current_instance_type\":\"ml.g4dn.xlarge\",\"hosts\":[\"algo-1\"],\"instance_groups\":[{\"hosts\":[\"algo-1\"],\"instance_group_name\":\"homogeneousCluster\",\"instance_type\":\"ml.g4dn.xlarge\"}],\"network_interface_name\":\"eth0\"}\u001b[0m\n",
      "\u001b[34mSM_INPUT_DATA_CONFIG={\"model\":{\"ContentType\":\"application/x-sagemaker-model\",\"RecordWrapperType\":\"None\",\"S3DistributionType\":\"FullyReplicated\",\"TrainingInputMode\":\"File\"},\"training\":{\"RecordWrapperType\":\"None\",\"S3DistributionType\":\"FullyReplicated\",\"TrainingInputMode\":\"File\"},\"validation\":{\"RecordWrapperType\":\"None\",\"S3DistributionType\":\"FullyReplicated\",\"TrainingInputMode\":\"File\"}}\u001b[0m\n",
      "\u001b[34mSM_OUTPUT_DATA_DIR=/opt/ml/output/data\u001b[0m\n",
      "\u001b[34mSM_CHANNELS=[\"model\",\"training\",\"validation\"]\u001b[0m\n",
      "\u001b[34mSM_CURRENT_HOST=algo-1\u001b[0m\n",
      "\u001b[34mSM_MODULE_NAME=transfer_learning\u001b[0m\n",
      "\u001b[34mSM_LOG_LEVEL=20\u001b[0m\n",
      "\u001b[34mSM_FRAMEWORK_MODULE=sagemaker_pytorch_container.training:main\u001b[0m\n",
      "\u001b[34mSM_INPUT_DIR=/opt/ml/input\u001b[0m\n",
      "\u001b[34mSM_INPUT_CONFIG_DIR=/opt/ml/input/config\u001b[0m\n",
      "\u001b[34mSM_OUTPUT_DIR=/opt/ml/output\u001b[0m\n",
      "\u001b[34mSM_NUM_CPUS=4\u001b[0m\n",
      "\u001b[34mSM_NUM_GPUS=1\u001b[0m\n",
      "\u001b[34mSM_MODEL_DIR=/opt/ml/model\u001b[0m\n",
      "\u001b[34mSM_MODULE_DIR=s3://jumpstart-cache-prod-ap-southeast-2/source-directory-tarballs/pytorch/transfer_learning/ic/v2.2.4/sourcedir.tar.gz\u001b[0m\n",
      "\u001b[34mSM_TRAINING_ENV={\"additional_framework_parameters\":{},\"channel_input_dirs\":{\"model\":\"/opt/ml/input/data/model\",\"training\":\"/opt/ml/input/data/training\",\"validation\":\"/opt/ml/input/data/validation\"},\"current_host\":\"algo-1\",\"framework_module\":\"sagemaker_pytorch_container.training:main\",\"hosts\":[\"algo-1\"],\"hyperparameters\":{\"batch_size\":\"4\",\"epochs\":\"5\",\"learning_rate\":\"0.001\",\"reinitialize_top_layer\":\"Auto\",\"train_only_top_layer\":\"True\"},\"input_config_dir\":\"/opt/ml/input/config\",\"input_data_config\":{\"model\":{\"ContentType\":\"application/x-sagemaker-model\",\"RecordWrapperType\":\"None\",\"S3DistributionType\":\"FullyReplicated\",\"TrainingInputMode\":\"File\"},\"training\":{\"RecordWrapperType\":\"None\",\"S3DistributionType\":\"FullyReplicated\",\"TrainingInputMode\":\"File\"},\"validation\":{\"RecordWrapperType\":\"None\",\"S3DistributionType\":\"FullyReplicated\",\"TrainingInputMode\":\"File\"}},\"input_dir\":\"/opt/ml/input\",\"is_master\":true,\"job_name\":\"flowers-clf-js-tf-2023-03-21-17-39-10\",\"log_level\":20,\"master_hostname\":\"algo-1\",\"model_dir\":\"/opt/ml/model\",\"module_dir\":\"s3://jumpstart-cache-prod-ap-southeast-2/source-directory-tarballs/pytorch/transfer_learning/ic/v2.2.4/sourcedir.tar.gz\",\"module_name\":\"transfer_learning\",\"network_interface_name\":\"eth0\",\"num_cpus\":4,\"num_gpus\":1,\"output_data_dir\":\"/opt/ml/output/data\",\"output_dir\":\"/opt/ml/output\",\"output_intermediate_dir\":\"/opt/ml/output/intermediate\",\"resource_config\":{\"current_group_name\":\"homogeneousCluster\",\"current_host\":\"algo-1\",\"current_instance_type\":\"ml.g4dn.xlarge\",\"hosts\":[\"algo-1\"],\"instance_groups\":[{\"hosts\":[\"algo-1\"],\"instance_group_name\":\"homogeneousCluster\",\"instance_type\":\"ml.g4dn.xlarge\"}],\"network_interface_name\":\"eth0\"},\"user_entry_point\":\"transfer_learning.py\"}\u001b[0m\n",
      "\u001b[34mSM_USER_ARGS=[\"--batch_size\",\"4\",\"--epochs\",\"5\",\"--learning_rate\",\"0.001\",\"--reinitialize_top_layer\",\"Auto\",\"--train_only_top_layer\",\"True\"]\u001b[0m\n",
      "\u001b[34mSM_OUTPUT_INTERMEDIATE_DIR=/opt/ml/output/intermediate\u001b[0m\n",
      "\u001b[34mSM_CHANNEL_MODEL=/opt/ml/input/data/model\u001b[0m\n",
      "\u001b[34mSM_CHANNEL_TRAINING=/opt/ml/input/data/training\u001b[0m\n",
      "\u001b[34mSM_CHANNEL_VALIDATION=/opt/ml/input/data/validation\u001b[0m\n",
      "\u001b[34mSM_HP_BATCH_SIZE=4\u001b[0m\n",
      "\u001b[34mSM_HP_EPOCHS=5\u001b[0m\n",
      "\u001b[34mSM_HP_LEARNING_RATE=0.001\u001b[0m\n",
      "\u001b[34mSM_HP_REINITIALIZE_TOP_LAYER=Auto\u001b[0m\n",
      "\u001b[34mSM_HP_TRAIN_ONLY_TOP_LAYER=True\u001b[0m\n",
      "\u001b[34mPYTHONPATH=/opt/ml/code:/opt/conda/bin:/opt/conda/lib/python38.zip:/opt/conda/lib/python3.8:/opt/conda/lib/python3.8/lib-dynload:/opt/conda/lib/python3.8/site-packages\u001b[0m\n",
      "\u001b[34mInvoking script with the following command:\u001b[0m\n",
      "\u001b[34m/opt/conda/bin/python3.8 transfer_learning.py --batch_size 4 --epochs 5 --learning_rate 0.001 --reinitialize_top_layer Auto --train_only_top_layer True\u001b[0m\n",
      "\u001b[34mdataset sizes: {'train': 29, 'val': 7}\u001b[0m\n",
      "\u001b[34mprediction class indices mapping to input training data labels: {'daisy': 0, 'rose': 1, 'sunflower': 2}\u001b[0m\n",
      "\u001b[34m'_input_model_extracted/__models_info__.json' file could not be found.\u001b[0m\n",
      "\u001b[34mEpoch 0/4\u001b[0m\n",
      "\u001b[34m[2023-03-21 06:44:11.206 algo-1:28 INFO utils.py:27] RULE_JOB_STOP_SIGNAL_FILENAME: None\u001b[0m\n",
      "\u001b[34m[2023-03-21 06:44:11.282 algo-1:28 INFO profiler_config_parser.py:102] User has disabled profiler.\u001b[0m\n",
      "\u001b[34m[2023-03-21 06:44:11.283 algo-1:28 INFO json_config.py:91] Creating hook from json_config at /opt/ml/input/config/debughookconfig.json.\u001b[0m\n",
      "\u001b[34m[2023-03-21 06:44:11.283 algo-1:28 INFO hook.py:200] tensorboard_dir has not been set for the hook. SMDebug will not be exporting tensorboard summaries.\u001b[0m\n",
      "\u001b[34m[2023-03-21 06:44:11.284 algo-1:28 INFO hook.py:255] Saving to /opt/ml/output/tensors\u001b[0m\n",
      "\u001b[34m[2023-03-21 06:44:11.284 algo-1:28 INFO state_store.py:77] The checkpoint config file /opt/ml/input/config/checkpointconfig.json does not exist.\u001b[0m\n",
      "\u001b[34m[2023-03-21 06:44:11.537 algo-1:28 INFO hook.py:591] name:classifier.1.weight count_params:3840\u001b[0m\n",
      "\u001b[34m[2023-03-21 06:44:11.537 algo-1:28 INFO hook.py:591] name:classifier.1.bias count_params:3\u001b[0m\n",
      "\u001b[34m[2023-03-21 06:44:11.537 algo-1:28 INFO hook.py:593] Total Trainable Params: 3843\u001b[0m\n",
      "\u001b[34m[2023-03-21 06:44:11.537 algo-1:28 INFO hook.py:424] Monitoring the collections: losses\u001b[0m\n",
      "\u001b[34m[2023-03-21 06:44:11.538 algo-1:28 INFO hook.py:488] Hook is writing from the hook with pid: 28\u001b[0m\n"
     ]
    },
    {
     "name": "stdout",
     "output_type": "stream",
     "text": [
      "\n",
      "2023-03-21 06:44:26 Uploading - Uploading generated training model\u001b[34mtrain Loss: 1.4059 train Acc: 0.3103\u001b[0m\n",
      "\u001b[34mval Loss: 1.0486 val Acc: 0.4286\u001b[0m\n",
      "\u001b[34mEpoch 1/4\u001b[0m\n",
      "\u001b[34mtrain Loss: 1.0888 train Acc: 0.5172\u001b[0m\n",
      "\u001b[34mval Loss: 0.9716 val Acc: 0.7143\u001b[0m\n",
      "\u001b[34mEpoch 2/4\u001b[0m\n",
      "\u001b[34mtrain Loss: 0.9761 train Acc: 0.4138\u001b[0m\n",
      "\u001b[34mval Loss: 0.8658 val Acc: 0.8571\u001b[0m\n",
      "\u001b[34mEpoch 3/4\u001b[0m\n",
      "\u001b[34mtrain Loss: 0.9784 train Acc: 0.5172\u001b[0m\n",
      "\u001b[34mval Loss: 0.9652 val Acc: 0.5714\u001b[0m\n",
      "\u001b[34mEpoch 4/4\u001b[0m\n",
      "\u001b[34mtrain Loss: 1.0012 train Acc: 0.4828\u001b[0m\n",
      "\u001b[34mval Loss: 0.9213 val Acc: 0.7143\u001b[0m\n",
      "\u001b[34mTraining complete in 0m 8s\u001b[0m\n",
      "\u001b[34mBest val Acc: 0.857143\u001b[0m\n",
      "\u001b[34mInfo file not found at '_input_model_extracted/__models_info__.json'.\u001b[0m\n",
      "\u001b[34m2023-03-21 06:44:20,125 sagemaker-training-toolkit INFO     Reporting training SUCCESS\u001b[0m\n",
      "\n",
      "2023-03-21 06:44:37 Completed - Training job completed\n",
      "Training seconds: 258\n",
      "Billable seconds: 258\n"
     ]
    },
    {
     "data": {
      "application/javascript": [
       "\n",
       "            setTimeout(function() {\n",
       "                var nbb_cell_id = 19;\n",
       "                var nbb_unformatted_code = \"clf_estimator.fit(inputs=data_channels, logs=True, job_name=job_name)\";\n",
       "                var nbb_formatted_code = \"clf_estimator.fit(inputs=data_channels, logs=True, job_name=job_name)\";\n",
       "                var nbb_cells = Jupyter.notebook.get_cells();\n",
       "                for (var i = 0; i < nbb_cells.length; ++i) {\n",
       "                    if (nbb_cells[i].input_prompt_number == nbb_cell_id) {\n",
       "                        if (nbb_cells[i].get_text() == nbb_unformatted_code) {\n",
       "                             nbb_cells[i].set_text(nbb_formatted_code);\n",
       "                        }\n",
       "                        break;\n",
       "                    }\n",
       "                }\n",
       "            }, 500);\n",
       "            "
      ],
      "text/plain": [
       "<IPython.core.display.Javascript object>"
      ]
     },
     "metadata": {},
     "output_type": "display_data"
    }
   ],
   "source": [
    "clf_estimator.fit(inputs=data_channels, logs=True, job_name=job_name)"
   ]
  },
  {
   "cell_type": "code",
   "execution_count": null,
   "id": "3aab6426",
   "metadata": {},
   "outputs": [],
   "source": []
  },
  {
   "cell_type": "code",
   "execution_count": null,
   "id": "024658b7",
   "metadata": {},
   "outputs": [],
   "source": []
  },
  {
   "cell_type": "code",
   "execution_count": 20,
   "id": "ac068035",
   "metadata": {},
   "outputs": [
    {
     "data": {
      "application/javascript": [
       "\n",
       "            setTimeout(function() {\n",
       "                var nbb_cell_id = 20;\n",
       "                var nbb_unformatted_code = \"infer_instance_type = \\\"ml.t2.medium\\\"\";\n",
       "                var nbb_formatted_code = \"infer_instance_type = \\\"ml.t2.medium\\\"\";\n",
       "                var nbb_cells = Jupyter.notebook.get_cells();\n",
       "                for (var i = 0; i < nbb_cells.length; ++i) {\n",
       "                    if (nbb_cells[i].input_prompt_number == nbb_cell_id) {\n",
       "                        if (nbb_cells[i].get_text() == nbb_unformatted_code) {\n",
       "                             nbb_cells[i].set_text(nbb_formatted_code);\n",
       "                        }\n",
       "                        break;\n",
       "                    }\n",
       "                }\n",
       "            }, 500);\n",
       "            "
      ],
      "text/plain": [
       "<IPython.core.display.Javascript object>"
      ]
     },
     "metadata": {},
     "output_type": "display_data"
    }
   ],
   "source": [
    "infer_instance_type = \"ml.t2.medium\""
   ]
  },
  {
   "cell_type": "code",
   "execution_count": 21,
   "id": "43e05587",
   "metadata": {},
   "outputs": [
    {
     "data": {
      "application/javascript": [
       "\n",
       "            setTimeout(function() {\n",
       "                var nbb_cell_id = 21;\n",
       "                var nbb_unformatted_code = \"deploy_image_uri = image_uris.retrieve(\\n    region=None,\\n    framework=None,\\n    image_scope=\\\"inference\\\",\\n    model_id=model_id,\\n    model_version=model_version,\\n    instance_type=infer_instance_type,\\n)\\n\\ndeploy_source_uri = script_uris.retrieve(\\n    model_id=model_id, model_version=model_version, script_scope=\\\"inference\\\"\\n)\";\n",
       "                var nbb_formatted_code = \"deploy_image_uri = image_uris.retrieve(\\n    region=None,\\n    framework=None,\\n    image_scope=\\\"inference\\\",\\n    model_id=model_id,\\n    model_version=model_version,\\n    instance_type=infer_instance_type,\\n)\\n\\ndeploy_source_uri = script_uris.retrieve(\\n    model_id=model_id, model_version=model_version, script_scope=\\\"inference\\\"\\n)\";\n",
       "                var nbb_cells = Jupyter.notebook.get_cells();\n",
       "                for (var i = 0; i < nbb_cells.length; ++i) {\n",
       "                    if (nbb_cells[i].input_prompt_number == nbb_cell_id) {\n",
       "                        if (nbb_cells[i].get_text() == nbb_unformatted_code) {\n",
       "                             nbb_cells[i].set_text(nbb_formatted_code);\n",
       "                        }\n",
       "                        break;\n",
       "                    }\n",
       "                }\n",
       "            }, 500);\n",
       "            "
      ],
      "text/plain": [
       "<IPython.core.display.Javascript object>"
      ]
     },
     "metadata": {},
     "output_type": "display_data"
    }
   ],
   "source": [
    "deploy_image_uri = image_uris.retrieve(\n",
    "    region=None,\n",
    "    framework=None,\n",
    "    image_scope=\"inference\",\n",
    "    model_id=model_id,\n",
    "    model_version=model_version,\n",
    "    instance_type=infer_instance_type,\n",
    ")\n",
    "\n",
    "deploy_source_uri = script_uris.retrieve(\n",
    "    model_id=model_id, model_version=model_version, script_scope=\"inference\"\n",
    ")"
   ]
  },
  {
   "cell_type": "code",
   "execution_count": 22,
   "id": "b978ae47",
   "metadata": {},
   "outputs": [
    {
     "data": {
      "application/javascript": [
       "\n",
       "            setTimeout(function() {\n",
       "                var nbb_cell_id = 22;\n",
       "                var nbb_unformatted_code = \"model_name = job_name\\nendpoint_name = job_name\";\n",
       "                var nbb_formatted_code = \"model_name = job_name\\nendpoint_name = job_name\";\n",
       "                var nbb_cells = Jupyter.notebook.get_cells();\n",
       "                for (var i = 0; i < nbb_cells.length; ++i) {\n",
       "                    if (nbb_cells[i].input_prompt_number == nbb_cell_id) {\n",
       "                        if (nbb_cells[i].get_text() == nbb_unformatted_code) {\n",
       "                             nbb_cells[i].set_text(nbb_formatted_code);\n",
       "                        }\n",
       "                        break;\n",
       "                    }\n",
       "                }\n",
       "            }, 500);\n",
       "            "
      ],
      "text/plain": [
       "<IPython.core.display.Javascript object>"
      ]
     },
     "metadata": {},
     "output_type": "display_data"
    }
   ],
   "source": [
    "model_name = job_name\n",
    "endpoint_name = job_name"
   ]
  },
  {
   "cell_type": "code",
   "execution_count": 24,
   "id": "f5ce90f7",
   "metadata": {},
   "outputs": [
    {
     "name": "stderr",
     "output_type": "stream",
     "text": [
      "Creating model with name: flowers-clf-js-tf-2023-03-21-17-39-10\n",
      "Creating endpoint-config with name flowers-clf-js-tf-2023-03-21-17-39-10\n",
      "Creating endpoint with name flowers-clf-js-tf-2023-03-21-17-39-10\n"
     ]
    },
    {
     "name": "stdout",
     "output_type": "stream",
     "text": [
      "---------!"
     ]
    },
    {
     "data": {
      "application/javascript": [
       "\n",
       "            setTimeout(function() {\n",
       "                var nbb_cell_id = 24;\n",
       "                var nbb_unformatted_code = \"clf_predictor = clf_estimator.deploy(\\n    initial_instance_count=1,\\n    instance_type=infer_instance_type,\\n    entry_point=\\\"inference.py\\\",\\n    image_uri=deploy_image_uri,\\n    source_dir=deploy_source_uri,\\n    endpoint_name=endpoint_name,\\n    model_name=model_name,\\n)\";\n",
       "                var nbb_formatted_code = \"clf_predictor = clf_estimator.deploy(\\n    initial_instance_count=1,\\n    instance_type=infer_instance_type,\\n    entry_point=\\\"inference.py\\\",\\n    image_uri=deploy_image_uri,\\n    source_dir=deploy_source_uri,\\n    endpoint_name=endpoint_name,\\n    model_name=model_name,\\n)\";\n",
       "                var nbb_cells = Jupyter.notebook.get_cells();\n",
       "                for (var i = 0; i < nbb_cells.length; ++i) {\n",
       "                    if (nbb_cells[i].input_prompt_number == nbb_cell_id) {\n",
       "                        if (nbb_cells[i].get_text() == nbb_unformatted_code) {\n",
       "                             nbb_cells[i].set_text(nbb_formatted_code);\n",
       "                        }\n",
       "                        break;\n",
       "                    }\n",
       "                }\n",
       "            }, 500);\n",
       "            "
      ],
      "text/plain": [
       "<IPython.core.display.Javascript object>"
      ]
     },
     "metadata": {},
     "output_type": "display_data"
    }
   ],
   "source": [
    "clf_predictor = clf_estimator.deploy(\n",
    "    initial_instance_count=1,\n",
    "    instance_type=infer_instance_type,\n",
    "    entry_point=\"inference.py\",\n",
    "    image_uri=deploy_image_uri,\n",
    "    source_dir=deploy_source_uri,\n",
    "    endpoint_name=endpoint_name,\n",
    "    model_name=model_name,\n",
    ")"
   ]
  },
  {
   "cell_type": "code",
   "execution_count": 25,
   "id": "e4e51711",
   "metadata": {},
   "outputs": [
    {
     "data": {
      "application/javascript": [
       "\n",
       "            setTimeout(function() {\n",
       "                var nbb_cell_id = 25;\n",
       "                var nbb_unformatted_code = \"sgmkr_runt = boto3.client(\\\"runtime.sagemaker\\\")\";\n",
       "                var nbb_formatted_code = \"sgmkr_runt = boto3.client(\\\"runtime.sagemaker\\\")\";\n",
       "                var nbb_cells = Jupyter.notebook.get_cells();\n",
       "                for (var i = 0; i < nbb_cells.length; ++i) {\n",
       "                    if (nbb_cells[i].input_prompt_number == nbb_cell_id) {\n",
       "                        if (nbb_cells[i].get_text() == nbb_unformatted_code) {\n",
       "                             nbb_cells[i].set_text(nbb_formatted_code);\n",
       "                        }\n",
       "                        break;\n",
       "                    }\n",
       "                }\n",
       "            }, 500);\n",
       "            "
      ],
      "text/plain": [
       "<IPython.core.display.Javascript object>"
      ]
     },
     "metadata": {},
     "output_type": "display_data"
    }
   ],
   "source": [
    "sgmkr_runt = boto3.client(\"runtime.sagemaker\")"
   ]
  },
  {
   "cell_type": "code",
   "execution_count": 26,
   "id": "0528833a",
   "metadata": {},
   "outputs": [
    {
     "name": "stdout",
     "output_type": "stream",
     "text": [
      "{'probabilities': [0.4329131245613098, 0.3074776530265808, 0.2596091628074646], 'labels': ['daisy', 'rose', 'sunflower'], 'predicted_label': 'daisy'}\n"
     ]
    },
    {
     "data": {
      "application/javascript": [
       "\n",
       "            setTimeout(function() {\n",
       "                var nbb_cell_id = 26;\n",
       "                var nbb_unformatted_code = \"with open(\\\"images/rose.jpg\\\", \\\"rb\\\") as image:\\n    payload = image.read()\\n    # payload = bytearray(payload)\\n\\nresponse = sgmkr_runt.invoke_endpoint(\\n    EndpointName=endpoint_name,\\n    # ContentType = 'image/jpeg',\\n    ContentType=\\\"application/x-image\\\",\\n    Accept = \\\"application/json;verbose\\\",\\n    Body=payload,\\n)\\n\\nprediction = json.loads(response[\\\"Body\\\"].read().decode())\\nprint(prediction)\";\n",
       "                var nbb_formatted_code = \"with open(\\\"images/rose.jpg\\\", \\\"rb\\\") as image:\\n    payload = image.read()\\n    # payload = bytearray(payload)\\n\\nresponse = sgmkr_runt.invoke_endpoint(\\n    EndpointName=endpoint_name,\\n    # ContentType = 'image/jpeg',\\n    ContentType=\\\"application/x-image\\\",\\n    Accept=\\\"application/json;verbose\\\",\\n    Body=payload,\\n)\\n\\nprediction = json.loads(response[\\\"Body\\\"].read().decode())\\nprint(prediction)\";\n",
       "                var nbb_cells = Jupyter.notebook.get_cells();\n",
       "                for (var i = 0; i < nbb_cells.length; ++i) {\n",
       "                    if (nbb_cells[i].input_prompt_number == nbb_cell_id) {\n",
       "                        if (nbb_cells[i].get_text() == nbb_unformatted_code) {\n",
       "                             nbb_cells[i].set_text(nbb_formatted_code);\n",
       "                        }\n",
       "                        break;\n",
       "                    }\n",
       "                }\n",
       "            }, 500);\n",
       "            "
      ],
      "text/plain": [
       "<IPython.core.display.Javascript object>"
      ]
     },
     "metadata": {},
     "output_type": "display_data"
    }
   ],
   "source": [
    "with open(\"images/rose.jpg\", \"rb\") as image:\n",
    "    payload = image.read()\n",
    "    # payload = bytearray(payload)\n",
    "\n",
    "response = sgmkr_runt.invoke_endpoint(\n",
    "    EndpointName=endpoint_name,\n",
    "    # ContentType = 'image/jpeg',\n",
    "    ContentType=\"application/x-image\",\n",
    "    Accept=\"application/json;verbose\",\n",
    "    Body=payload,\n",
    ")\n",
    "\n",
    "prediction = json.loads(response[\"Body\"].read().decode())\n",
    "print(prediction)"
   ]
  },
  {
   "cell_type": "code",
   "execution_count": 27,
   "id": "a6d0c9bb",
   "metadata": {},
   "outputs": [
    {
     "name": "stderr",
     "output_type": "stream",
     "text": [
      "Deleting endpoint configuration with name: flowers-clf-js-tf-2023-03-21-17-39-10\n",
      "Deleting endpoint with name: flowers-clf-js-tf-2023-03-21-17-39-10\n"
     ]
    },
    {
     "data": {
      "application/javascript": [
       "\n",
       "            setTimeout(function() {\n",
       "                var nbb_cell_id = 27;\n",
       "                var nbb_unformatted_code = \"clf_predictor.delete_endpoint()\";\n",
       "                var nbb_formatted_code = \"clf_predictor.delete_endpoint()\";\n",
       "                var nbb_cells = Jupyter.notebook.get_cells();\n",
       "                for (var i = 0; i < nbb_cells.length; ++i) {\n",
       "                    if (nbb_cells[i].input_prompt_number == nbb_cell_id) {\n",
       "                        if (nbb_cells[i].get_text() == nbb_unformatted_code) {\n",
       "                             nbb_cells[i].set_text(nbb_formatted_code);\n",
       "                        }\n",
       "                        break;\n",
       "                    }\n",
       "                }\n",
       "            }, 500);\n",
       "            "
      ],
      "text/plain": [
       "<IPython.core.display.Javascript object>"
      ]
     },
     "metadata": {},
     "output_type": "display_data"
    }
   ],
   "source": [
    "clf_predictor.delete_endpoint()"
   ]
  },
  {
   "cell_type": "code",
   "execution_count": null,
   "id": "752585aa",
   "metadata": {},
   "outputs": [],
   "source": []
  },
  {
   "cell_type": "code",
   "execution_count": null,
   "id": "9f428962",
   "metadata": {},
   "outputs": [],
   "source": []
  }
 ],
 "metadata": {
  "kernelspec": {
   "display_name": "Python 3 (ipykernel)",
   "language": "python",
   "name": "python3"
  },
  "language_info": {
   "codemirror_mode": {
    "name": "ipython",
    "version": 3
   },
   "file_extension": ".py",
   "mimetype": "text/x-python",
   "name": "python",
   "nbconvert_exporter": "python",
   "pygments_lexer": "ipython3",
   "version": "3.8.13"
  },
  "toc": {
   "base_numbering": 1,
   "nav_menu": {},
   "number_sections": true,
   "sideBar": true,
   "skip_h1_title": false,
   "title_cell": "Table of Contents",
   "title_sidebar": "Contents",
   "toc_cell": false,
   "toc_position": {},
   "toc_section_display": true,
   "toc_window_display": false
  }
 },
 "nbformat": 4,
 "nbformat_minor": 5
}

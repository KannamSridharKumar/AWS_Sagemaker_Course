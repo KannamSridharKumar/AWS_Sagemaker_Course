{
 "cells": [
  {
   "cell_type": "code",
   "execution_count": 1,
   "id": "1fd5b9fa",
   "metadata": {},
   "outputs": [
    {
     "data": {
      "application/javascript": [
       "\n",
       "            setTimeout(function() {\n",
       "                var nbb_cell_id = 1;\n",
       "                var nbb_unformatted_code = \"%load_ext nb_black\";\n",
       "                var nbb_formatted_code = \"%load_ext nb_black\";\n",
       "                var nbb_cells = Jupyter.notebook.get_cells();\n",
       "                for (var i = 0; i < nbb_cells.length; ++i) {\n",
       "                    if (nbb_cells[i].input_prompt_number == nbb_cell_id) {\n",
       "                        if (nbb_cells[i].get_text() == nbb_unformatted_code) {\n",
       "                             nbb_cells[i].set_text(nbb_formatted_code);\n",
       "                        }\n",
       "                        break;\n",
       "                    }\n",
       "                }\n",
       "            }, 500);\n",
       "            "
      ],
      "text/plain": [
       "<IPython.core.display.Javascript object>"
      ]
     },
     "metadata": {},
     "output_type": "display_data"
    }
   ],
   "source": [
    "%load_ext nb_black"
   ]
  },
  {
   "cell_type": "code",
   "execution_count": 2,
   "id": "0b5c37e1",
   "metadata": {},
   "outputs": [
    {
     "data": {
      "application/javascript": [
       "\n",
       "            setTimeout(function() {\n",
       "                var nbb_cell_id = 2;\n",
       "                var nbb_unformatted_code = \"import os\\nimport json\\nimport random\\nimport pandas as pd\\nimport shutil\";\n",
       "                var nbb_formatted_code = \"import os\\nimport json\\nimport random\\nimport pandas as pd\\nimport shutil\";\n",
       "                var nbb_cells = Jupyter.notebook.get_cells();\n",
       "                for (var i = 0; i < nbb_cells.length; ++i) {\n",
       "                    if (nbb_cells[i].input_prompt_number == nbb_cell_id) {\n",
       "                        if (nbb_cells[i].get_text() == nbb_unformatted_code) {\n",
       "                             nbb_cells[i].set_text(nbb_formatted_code);\n",
       "                        }\n",
       "                        break;\n",
       "                    }\n",
       "                }\n",
       "            }, 500);\n",
       "            "
      ],
      "text/plain": [
       "<IPython.core.display.Javascript object>"
      ]
     },
     "metadata": {},
     "output_type": "display_data"
    }
   ],
   "source": [
    "import os\n",
    "import json\n",
    "import random\n",
    "import pandas as pd\n",
    "import shutil"
   ]
  },
  {
   "cell_type": "code",
   "execution_count": 3,
   "id": "9d208225",
   "metadata": {},
   "outputs": [
    {
     "name": "stdout",
     "output_type": "stream",
     "text": [
      "mkdir: prepare_data/img_clf_multilabel_lst/train_imgs: File exists\n",
      "mkdir: prepare_data/img_clf_multilabel_lst/valid_imgs: File exists\n",
      "mkdir: prepare_data/img_clf_multilabel_lst/train_annots: File exists\n",
      "mkdir: prepare_data/img_clf_multilabel_lst/valid_annots: File exists\n"
     ]
    },
    {
     "data": {
      "application/javascript": [
       "\n",
       "            setTimeout(function() {\n",
       "                var nbb_cell_id = 3;\n",
       "                var nbb_unformatted_code = \"!mkdir prepare_data/img_clf_multilabel_lst/train_imgs\\n!mkdir prepare_data/img_clf_multilabel_lst/valid_imgs\\n!mkdir prepare_data/img_clf_multilabel_lst/train_annots\\n!mkdir prepare_data/img_clf_multilabel_lst/valid_annots\";\n",
       "                var nbb_formatted_code = \"!mkdir prepare_data/img_clf_multilabel_lst/train_imgs\\n!mkdir prepare_data/img_clf_multilabel_lst/valid_imgs\\n!mkdir prepare_data/img_clf_multilabel_lst/train_annots\\n!mkdir prepare_data/img_clf_multilabel_lst/valid_annots\";\n",
       "                var nbb_cells = Jupyter.notebook.get_cells();\n",
       "                for (var i = 0; i < nbb_cells.length; ++i) {\n",
       "                    if (nbb_cells[i].input_prompt_number == nbb_cell_id) {\n",
       "                        if (nbb_cells[i].get_text() == nbb_unformatted_code) {\n",
       "                             nbb_cells[i].set_text(nbb_formatted_code);\n",
       "                        }\n",
       "                        break;\n",
       "                    }\n",
       "                }\n",
       "            }, 500);\n",
       "            "
      ],
      "text/plain": [
       "<IPython.core.display.Javascript object>"
      ]
     },
     "metadata": {},
     "output_type": "display_data"
    }
   ],
   "source": [
    "!mkdir prepare_data/img_clf_multilabel_lst/train_imgs\n",
    "!mkdir prepare_data/img_clf_multilabel_lst/valid_imgs\n",
    "!mkdir prepare_data/img_clf_multilabel_lst/train_annots\n",
    "!mkdir prepare_data/img_clf_multilabel_lst/valid_annots"
   ]
  },
  {
   "cell_type": "code",
   "execution_count": null,
   "id": "4d73f970",
   "metadata": {},
   "outputs": [],
   "source": []
  },
  {
   "cell_type": "code",
   "execution_count": 4,
   "id": "45bceb20",
   "metadata": {},
   "outputs": [
    {
     "data": {
      "text/html": [
       "<div><div id=24edafd4-5375-4135-b60c-1934fd4c12d9 style=\"display:none; background-color:#9D6CFF; color:white; width:200px; height:30px; padding-left:5px; border-radius:4px; flex-direction:row; justify-content:space-around; align-items:center;\" onmouseover=\"this.style.backgroundColor='#BA9BF8'\" onmouseout=\"this.style.backgroundColor='#9D6CFF'\" onclick=\"window.commands?.execute('create-mitosheet-from-dataframe-output');\">See Full Dataframe in Mito</div> <script> if (window.commands?.hasCommand('create-mitosheet-from-dataframe-output')) document.getElementById('24edafd4-5375-4135-b60c-1934fd4c12d9').style.display = 'flex' </script> <table border=\"1\" class=\"dataframe\">\n",
       "  <thead>\n",
       "    <tr style=\"text-align: right;\">\n",
       "      <th></th>\n",
       "      <th>image</th>\n",
       "      <th>class</th>\n",
       "    </tr>\n",
       "  </thead>\n",
       "  <tbody>\n",
       "    <tr>\n",
       "      <th>0</th>\n",
       "      <td>9314850.jpg</td>\n",
       "      <td>[banana,apple]</td>\n",
       "    </tr>\n",
       "    <tr>\n",
       "      <th>1</th>\n",
       "      <td>6799149.jpg</td>\n",
       "      <td>[apple]</td>\n",
       "    </tr>\n",
       "    <tr>\n",
       "      <th>2</th>\n",
       "      <td>9741355.jpg</td>\n",
       "      <td>[banana,apple]</td>\n",
       "    </tr>\n",
       "    <tr>\n",
       "      <th>3</th>\n",
       "      <td>3811265.jpg</td>\n",
       "      <td>[orange,banana,apple]</td>\n",
       "    </tr>\n",
       "    <tr>\n",
       "      <th>4</th>\n",
       "      <td>5260672.jpg</td>\n",
       "      <td>[orange,banana]</td>\n",
       "    </tr>\n",
       "  </tbody>\n",
       "</table></div>"
      ],
      "text/plain": [
       "         image                  class\n",
       "0  9314850.jpg         [banana,apple]\n",
       "1  6799149.jpg                [apple]\n",
       "2  9741355.jpg         [banana,apple]\n",
       "3  3811265.jpg  [orange,banana,apple]\n",
       "4  5260672.jpg        [orange,banana]"
      ]
     },
     "execution_count": 4,
     "metadata": {},
     "output_type": "execute_result"
    },
    {
     "data": {
      "application/javascript": [
       "\n",
       "            setTimeout(function() {\n",
       "                var nbb_cell_id = 4;\n",
       "                var nbb_unformatted_code = \"gt_df = pd.read_csv(\\n    \\\"prepare_data/img_clf_multilabel_lst/all_images_gt/clf_labels.csv\\\", header=None\\n)\\ngt_df.columns = [\\\"image\\\", \\\"class\\\"]\\ngt_df.head()\";\n",
       "                var nbb_formatted_code = \"gt_df = pd.read_csv(\\n    \\\"prepare_data/img_clf_multilabel_lst/all_images_gt/clf_labels.csv\\\", header=None\\n)\\ngt_df.columns = [\\\"image\\\", \\\"class\\\"]\\ngt_df.head()\";\n",
       "                var nbb_cells = Jupyter.notebook.get_cells();\n",
       "                for (var i = 0; i < nbb_cells.length; ++i) {\n",
       "                    if (nbb_cells[i].input_prompt_number == nbb_cell_id) {\n",
       "                        if (nbb_cells[i].get_text() == nbb_unformatted_code) {\n",
       "                             nbb_cells[i].set_text(nbb_formatted_code);\n",
       "                        }\n",
       "                        break;\n",
       "                    }\n",
       "                }\n",
       "            }, 500);\n",
       "            "
      ],
      "text/plain": [
       "<IPython.core.display.Javascript object>"
      ]
     },
     "metadata": {},
     "output_type": "display_data"
    }
   ],
   "source": [
    "gt_df = pd.read_csv(\n",
    "    \"prepare_data/img_clf_multilabel_lst/all_images_gt/clf_labels.csv\", header=None\n",
    ")\n",
    "gt_df.columns = [\"image\", \"class\"]\n",
    "gt_df.head()"
   ]
  },
  {
   "cell_type": "code",
   "execution_count": 5,
   "id": "7ffde883",
   "metadata": {},
   "outputs": [
    {
     "name": "stdout",
     "output_type": "stream",
     "text": [
      "100 70 30\n"
     ]
    },
    {
     "data": {
      "application/javascript": [
       "\n",
       "            setTimeout(function() {\n",
       "                var nbb_cell_id = 5;\n",
       "                var nbb_unformatted_code = \"train_valid_split = 0.7\\nnimages = gt_df[\\\"image\\\"].nunique()\\nntrain = int(train_valid_split * nimages)\\nnvalid = nimages - ntrain\\nprint(nimages, ntrain, nvalid)\";\n",
       "                var nbb_formatted_code = \"train_valid_split = 0.7\\nnimages = gt_df[\\\"image\\\"].nunique()\\nntrain = int(train_valid_split * nimages)\\nnvalid = nimages - ntrain\\nprint(nimages, ntrain, nvalid)\";\n",
       "                var nbb_cells = Jupyter.notebook.get_cells();\n",
       "                for (var i = 0; i < nbb_cells.length; ++i) {\n",
       "                    if (nbb_cells[i].input_prompt_number == nbb_cell_id) {\n",
       "                        if (nbb_cells[i].get_text() == nbb_unformatted_code) {\n",
       "                             nbb_cells[i].set_text(nbb_formatted_code);\n",
       "                        }\n",
       "                        break;\n",
       "                    }\n",
       "                }\n",
       "            }, 500);\n",
       "            "
      ],
      "text/plain": [
       "<IPython.core.display.Javascript object>"
      ]
     },
     "metadata": {},
     "output_type": "display_data"
    }
   ],
   "source": [
    "train_valid_split = 0.7\n",
    "nimages = gt_df[\"image\"].nunique()\n",
    "ntrain = int(train_valid_split * nimages)\n",
    "nvalid = nimages - ntrain\n",
    "print(nimages, ntrain, nvalid)"
   ]
  },
  {
   "cell_type": "code",
   "execution_count": 6,
   "id": "ec6ebf84",
   "metadata": {},
   "outputs": [
    {
     "data": {
      "text/html": [
       "<div><div id=b4dfaf5a-43ff-4451-a6e3-b54f31cbb6d1 style=\"display:none; background-color:#9D6CFF; color:white; width:200px; height:30px; padding-left:5px; border-radius:4px; flex-direction:row; justify-content:space-around; align-items:center;\" onmouseover=\"this.style.backgroundColor='#BA9BF8'\" onmouseout=\"this.style.backgroundColor='#9D6CFF'\" onclick=\"window.commands?.execute('create-mitosheet-from-dataframe-output');\">See Full Dataframe in Mito</div> <script> if (window.commands?.hasCommand('create-mitosheet-from-dataframe-output')) document.getElementById('b4dfaf5a-43ff-4451-a6e3-b54f31cbb6d1').style.display = 'flex' </script> <table border=\"1\" class=\"dataframe\">\n",
       "  <thead>\n",
       "    <tr style=\"text-align: right;\">\n",
       "      <th></th>\n",
       "      <th>image</th>\n",
       "      <th>class</th>\n",
       "    </tr>\n",
       "  </thead>\n",
       "  <tbody>\n",
       "    <tr>\n",
       "      <th>0</th>\n",
       "      <td>9314850.jpg</td>\n",
       "      <td>banana,apple</td>\n",
       "    </tr>\n",
       "    <tr>\n",
       "      <th>1</th>\n",
       "      <td>6799149.jpg</td>\n",
       "      <td>apple</td>\n",
       "    </tr>\n",
       "    <tr>\n",
       "      <th>2</th>\n",
       "      <td>9741355.jpg</td>\n",
       "      <td>banana,apple</td>\n",
       "    </tr>\n",
       "    <tr>\n",
       "      <th>3</th>\n",
       "      <td>3811265.jpg</td>\n",
       "      <td>orange,banana,apple</td>\n",
       "    </tr>\n",
       "    <tr>\n",
       "      <th>4</th>\n",
       "      <td>5260672.jpg</td>\n",
       "      <td>orange,banana</td>\n",
       "    </tr>\n",
       "  </tbody>\n",
       "</table></div>"
      ],
      "text/plain": [
       "         image                class\n",
       "0  9314850.jpg         banana,apple\n",
       "1  6799149.jpg                apple\n",
       "2  9741355.jpg         banana,apple\n",
       "3  3811265.jpg  orange,banana,apple\n",
       "4  5260672.jpg        orange,banana"
      ]
     },
     "execution_count": 6,
     "metadata": {},
     "output_type": "execute_result"
    },
    {
     "data": {
      "application/javascript": [
       "\n",
       "            setTimeout(function() {\n",
       "                var nbb_cell_id = 6;\n",
       "                var nbb_unformatted_code = \"gt_df[\\\"class\\\"] = gt_df[\\\"class\\\"].apply(lambda x: x[1:-1])\\ngt_df.head()\";\n",
       "                var nbb_formatted_code = \"gt_df[\\\"class\\\"] = gt_df[\\\"class\\\"].apply(lambda x: x[1:-1])\\ngt_df.head()\";\n",
       "                var nbb_cells = Jupyter.notebook.get_cells();\n",
       "                for (var i = 0; i < nbb_cells.length; ++i) {\n",
       "                    if (nbb_cells[i].input_prompt_number == nbb_cell_id) {\n",
       "                        if (nbb_cells[i].get_text() == nbb_unformatted_code) {\n",
       "                             nbb_cells[i].set_text(nbb_formatted_code);\n",
       "                        }\n",
       "                        break;\n",
       "                    }\n",
       "                }\n",
       "            }, 500);\n",
       "            "
      ],
      "text/plain": [
       "<IPython.core.display.Javascript object>"
      ]
     },
     "metadata": {},
     "output_type": "display_data"
    }
   ],
   "source": [
    "gt_df[\"class\"] = gt_df[\"class\"].apply(lambda x: x[1:-1])\n",
    "gt_df.head()"
   ]
  },
  {
   "cell_type": "code",
   "execution_count": 7,
   "id": "6fc7a782",
   "metadata": {},
   "outputs": [
    {
     "data": {
      "text/plain": [
       "{'apple': 0, 'orange': 1, 'banana': 2}"
      ]
     },
     "execution_count": 7,
     "metadata": {},
     "output_type": "execute_result"
    },
    {
     "data": {
      "application/javascript": [
       "\n",
       "            setTimeout(function() {\n",
       "                var nbb_cell_id = 7;\n",
       "                var nbb_unformatted_code = \"labels = [\\\"apple\\\", \\\"orange\\\", \\\"banana\\\"]\\nlabels_map = {k: v for v, k in enumerate(labels)}\\nwith open(\\\"prepare_data/img_clf_multilabel_lst/labels_map.json\\\", \\\"w\\\") as fp:\\n    json.dump(labels_map, fp)\\nlabels_map\";\n",
       "                var nbb_formatted_code = \"labels = [\\\"apple\\\", \\\"orange\\\", \\\"banana\\\"]\\nlabels_map = {k: v for v, k in enumerate(labels)}\\nwith open(\\\"prepare_data/img_clf_multilabel_lst/labels_map.json\\\", \\\"w\\\") as fp:\\n    json.dump(labels_map, fp)\\nlabels_map\";\n",
       "                var nbb_cells = Jupyter.notebook.get_cells();\n",
       "                for (var i = 0; i < nbb_cells.length; ++i) {\n",
       "                    if (nbb_cells[i].input_prompt_number == nbb_cell_id) {\n",
       "                        if (nbb_cells[i].get_text() == nbb_unformatted_code) {\n",
       "                             nbb_cells[i].set_text(nbb_formatted_code);\n",
       "                        }\n",
       "                        break;\n",
       "                    }\n",
       "                }\n",
       "            }, 500);\n",
       "            "
      ],
      "text/plain": [
       "<IPython.core.display.Javascript object>"
      ]
     },
     "metadata": {},
     "output_type": "display_data"
    }
   ],
   "source": [
    "labels = [\"apple\", \"orange\", \"banana\"]\n",
    "labels_map = {k: v for v, k in enumerate(labels)}\n",
    "with open(\"prepare_data/img_clf_multilabel_lst/labels_map.json\", \"w\") as fp:\n",
    "    json.dump(labels_map, fp)\n",
    "labels_map"
   ]
  },
  {
   "cell_type": "code",
   "execution_count": 8,
   "id": "24640867",
   "metadata": {},
   "outputs": [
    {
     "data": {
      "application/javascript": [
       "\n",
       "            setTimeout(function() {\n",
       "                var nbb_cell_id = 8;\n",
       "                var nbb_unformatted_code = \"def function(x):\\n    xl = x.split(\\\",\\\")\\n    xll = []\\n    for lbl in labels:\\n        if lbl in xl:\\n            xll.append(1)\\n        else:\\n            xll.append(0)\\n    return xll\";\n",
       "                var nbb_formatted_code = \"def function(x):\\n    xl = x.split(\\\",\\\")\\n    xll = []\\n    for lbl in labels:\\n        if lbl in xl:\\n            xll.append(1)\\n        else:\\n            xll.append(0)\\n    return xll\";\n",
       "                var nbb_cells = Jupyter.notebook.get_cells();\n",
       "                for (var i = 0; i < nbb_cells.length; ++i) {\n",
       "                    if (nbb_cells[i].input_prompt_number == nbb_cell_id) {\n",
       "                        if (nbb_cells[i].get_text() == nbb_unformatted_code) {\n",
       "                             nbb_cells[i].set_text(nbb_formatted_code);\n",
       "                        }\n",
       "                        break;\n",
       "                    }\n",
       "                }\n",
       "            }, 500);\n",
       "            "
      ],
      "text/plain": [
       "<IPython.core.display.Javascript object>"
      ]
     },
     "metadata": {},
     "output_type": "display_data"
    }
   ],
   "source": [
    "def function(x):\n",
    "    xl = x.split(\",\")\n",
    "    xll = []\n",
    "    for lbl in labels:\n",
    "        if lbl in xl:\n",
    "            xll.append(1)\n",
    "        else:\n",
    "            xll.append(0)\n",
    "    return xll"
   ]
  },
  {
   "cell_type": "code",
   "execution_count": null,
   "id": "850284bd",
   "metadata": {},
   "outputs": [],
   "source": []
  },
  {
   "cell_type": "code",
   "execution_count": 9,
   "id": "cde70766",
   "metadata": {},
   "outputs": [
    {
     "data": {
      "text/html": [
       "<div><div id=bffc65e0-bf43-4c5b-91f4-c368d1a8fdf2 style=\"display:none; background-color:#9D6CFF; color:white; width:200px; height:30px; padding-left:5px; border-radius:4px; flex-direction:row; justify-content:space-around; align-items:center;\" onmouseover=\"this.style.backgroundColor='#BA9BF8'\" onmouseout=\"this.style.backgroundColor='#9D6CFF'\" onclick=\"window.commands?.execute('create-mitosheet-from-dataframe-output');\">See Full Dataframe in Mito</div> <script> if (window.commands?.hasCommand('create-mitosheet-from-dataframe-output')) document.getElementById('bffc65e0-bf43-4c5b-91f4-c368d1a8fdf2').style.display = 'flex' </script> <table border=\"1\" class=\"dataframe\">\n",
       "  <thead>\n",
       "    <tr style=\"text-align: right;\">\n",
       "      <th></th>\n",
       "      <th>image</th>\n",
       "      <th>class</th>\n",
       "      <th>class2</th>\n",
       "    </tr>\n",
       "  </thead>\n",
       "  <tbody>\n",
       "    <tr>\n",
       "      <th>0</th>\n",
       "      <td>9314850.jpg</td>\n",
       "      <td>banana,apple</td>\n",
       "      <td>[1, 0, 1]</td>\n",
       "    </tr>\n",
       "    <tr>\n",
       "      <th>1</th>\n",
       "      <td>6799149.jpg</td>\n",
       "      <td>apple</td>\n",
       "      <td>[1, 0, 0]</td>\n",
       "    </tr>\n",
       "    <tr>\n",
       "      <th>2</th>\n",
       "      <td>9741355.jpg</td>\n",
       "      <td>banana,apple</td>\n",
       "      <td>[1, 0, 1]</td>\n",
       "    </tr>\n",
       "    <tr>\n",
       "      <th>3</th>\n",
       "      <td>3811265.jpg</td>\n",
       "      <td>orange,banana,apple</td>\n",
       "      <td>[1, 1, 1]</td>\n",
       "    </tr>\n",
       "    <tr>\n",
       "      <th>4</th>\n",
       "      <td>5260672.jpg</td>\n",
       "      <td>orange,banana</td>\n",
       "      <td>[0, 1, 1]</td>\n",
       "    </tr>\n",
       "  </tbody>\n",
       "</table></div>"
      ],
      "text/plain": [
       "         image                class     class2\n",
       "0  9314850.jpg         banana,apple  [1, 0, 1]\n",
       "1  6799149.jpg                apple  [1, 0, 0]\n",
       "2  9741355.jpg         banana,apple  [1, 0, 1]\n",
       "3  3811265.jpg  orange,banana,apple  [1, 1, 1]\n",
       "4  5260672.jpg        orange,banana  [0, 1, 1]"
      ]
     },
     "execution_count": 9,
     "metadata": {},
     "output_type": "execute_result"
    },
    {
     "data": {
      "application/javascript": [
       "\n",
       "            setTimeout(function() {\n",
       "                var nbb_cell_id = 9;\n",
       "                var nbb_unformatted_code = \"gt_df[\\\"class2\\\"] = gt_df[\\\"class\\\"].apply(function)\\ngt_df.head()\";\n",
       "                var nbb_formatted_code = \"gt_df[\\\"class2\\\"] = gt_df[\\\"class\\\"].apply(function)\\ngt_df.head()\";\n",
       "                var nbb_cells = Jupyter.notebook.get_cells();\n",
       "                for (var i = 0; i < nbb_cells.length; ++i) {\n",
       "                    if (nbb_cells[i].input_prompt_number == nbb_cell_id) {\n",
       "                        if (nbb_cells[i].get_text() == nbb_unformatted_code) {\n",
       "                             nbb_cells[i].set_text(nbb_formatted_code);\n",
       "                        }\n",
       "                        break;\n",
       "                    }\n",
       "                }\n",
       "            }, 500);\n",
       "            "
      ],
      "text/plain": [
       "<IPython.core.display.Javascript object>"
      ]
     },
     "metadata": {},
     "output_type": "display_data"
    }
   ],
   "source": [
    "gt_df[\"class2\"] = gt_df[\"class\"].apply(function)\n",
    "gt_df.head()"
   ]
  },
  {
   "cell_type": "code",
   "execution_count": 10,
   "id": "04160261",
   "metadata": {},
   "outputs": [
    {
     "data": {
      "text/html": [
       "<div><div id=bbeda1ed-0596-4c4c-9eb4-add3c471903a style=\"display:none; background-color:#9D6CFF; color:white; width:200px; height:30px; padding-left:5px; border-radius:4px; flex-direction:row; justify-content:space-around; align-items:center;\" onmouseover=\"this.style.backgroundColor='#BA9BF8'\" onmouseout=\"this.style.backgroundColor='#9D6CFF'\" onclick=\"window.commands?.execute('create-mitosheet-from-dataframe-output');\">See Full Dataframe in Mito</div> <script> if (window.commands?.hasCommand('create-mitosheet-from-dataframe-output')) document.getElementById('bbeda1ed-0596-4c4c-9eb4-add3c471903a').style.display = 'flex' </script> <table border=\"1\" class=\"dataframe\">\n",
       "  <thead>\n",
       "    <tr style=\"text-align: right;\">\n",
       "      <th></th>\n",
       "      <th>image</th>\n",
       "      <th>class</th>\n",
       "      <th>class2</th>\n",
       "      <th>apple</th>\n",
       "      <th>orange</th>\n",
       "      <th>banana</th>\n",
       "    </tr>\n",
       "  </thead>\n",
       "  <tbody>\n",
       "    <tr>\n",
       "      <th>0</th>\n",
       "      <td>9314850.jpg</td>\n",
       "      <td>banana,apple</td>\n",
       "      <td>[1, 0, 1]</td>\n",
       "      <td>1</td>\n",
       "      <td>0</td>\n",
       "      <td>1</td>\n",
       "    </tr>\n",
       "    <tr>\n",
       "      <th>1</th>\n",
       "      <td>6799149.jpg</td>\n",
       "      <td>apple</td>\n",
       "      <td>[1, 0, 0]</td>\n",
       "      <td>1</td>\n",
       "      <td>0</td>\n",
       "      <td>0</td>\n",
       "    </tr>\n",
       "    <tr>\n",
       "      <th>2</th>\n",
       "      <td>9741355.jpg</td>\n",
       "      <td>banana,apple</td>\n",
       "      <td>[1, 0, 1]</td>\n",
       "      <td>1</td>\n",
       "      <td>0</td>\n",
       "      <td>1</td>\n",
       "    </tr>\n",
       "    <tr>\n",
       "      <th>3</th>\n",
       "      <td>3811265.jpg</td>\n",
       "      <td>orange,banana,apple</td>\n",
       "      <td>[1, 1, 1]</td>\n",
       "      <td>1</td>\n",
       "      <td>1</td>\n",
       "      <td>1</td>\n",
       "    </tr>\n",
       "    <tr>\n",
       "      <th>4</th>\n",
       "      <td>5260672.jpg</td>\n",
       "      <td>orange,banana</td>\n",
       "      <td>[0, 1, 1]</td>\n",
       "      <td>0</td>\n",
       "      <td>1</td>\n",
       "      <td>1</td>\n",
       "    </tr>\n",
       "  </tbody>\n",
       "</table></div>"
      ],
      "text/plain": [
       "         image                class     class2  apple  orange  banana\n",
       "0  9314850.jpg         banana,apple  [1, 0, 1]      1       0       1\n",
       "1  6799149.jpg                apple  [1, 0, 0]      1       0       0\n",
       "2  9741355.jpg         banana,apple  [1, 0, 1]      1       0       1\n",
       "3  3811265.jpg  orange,banana,apple  [1, 1, 1]      1       1       1\n",
       "4  5260672.jpg        orange,banana  [0, 1, 1]      0       1       1"
      ]
     },
     "execution_count": 10,
     "metadata": {},
     "output_type": "execute_result"
    },
    {
     "data": {
      "application/javascript": [
       "\n",
       "            setTimeout(function() {\n",
       "                var nbb_cell_id = 10;\n",
       "                var nbb_unformatted_code = \"gt_df[labels] = gt_df[\\\"class2\\\"].apply(pd.Series)\\ngt_df.head()\";\n",
       "                var nbb_formatted_code = \"gt_df[labels] = gt_df[\\\"class2\\\"].apply(pd.Series)\\ngt_df.head()\";\n",
       "                var nbb_cells = Jupyter.notebook.get_cells();\n",
       "                for (var i = 0; i < nbb_cells.length; ++i) {\n",
       "                    if (nbb_cells[i].input_prompt_number == nbb_cell_id) {\n",
       "                        if (nbb_cells[i].get_text() == nbb_unformatted_code) {\n",
       "                             nbb_cells[i].set_text(nbb_formatted_code);\n",
       "                        }\n",
       "                        break;\n",
       "                    }\n",
       "                }\n",
       "            }, 500);\n",
       "            "
      ],
      "text/plain": [
       "<IPython.core.display.Javascript object>"
      ]
     },
     "metadata": {},
     "output_type": "display_data"
    }
   ],
   "source": [
    "gt_df[labels] = gt_df[\"class2\"].apply(pd.Series)\n",
    "gt_df.head()"
   ]
  },
  {
   "cell_type": "code",
   "execution_count": null,
   "id": "7c15e546",
   "metadata": {},
   "outputs": [],
   "source": []
  },
  {
   "cell_type": "code",
   "execution_count": 11,
   "id": "a45eec7c",
   "metadata": {},
   "outputs": [
    {
     "data": {
      "text/html": [
       "<div><div id=9ce5aba1-e3b2-4dc5-97df-8b987a5785f6 style=\"display:none; background-color:#9D6CFF; color:white; width:200px; height:30px; padding-left:5px; border-radius:4px; flex-direction:row; justify-content:space-around; align-items:center;\" onmouseover=\"this.style.backgroundColor='#BA9BF8'\" onmouseout=\"this.style.backgroundColor='#9D6CFF'\" onclick=\"window.commands?.execute('create-mitosheet-from-dataframe-output');\">See Full Dataframe in Mito</div> <script> if (window.commands?.hasCommand('create-mitosheet-from-dataframe-output')) document.getElementById('9ce5aba1-e3b2-4dc5-97df-8b987a5785f6').style.display = 'flex' </script> <table border=\"1\" class=\"dataframe\">\n",
       "  <thead>\n",
       "    <tr style=\"text-align: right;\">\n",
       "      <th></th>\n",
       "      <th>image</th>\n",
       "      <th>class</th>\n",
       "      <th>class2</th>\n",
       "      <th>apple</th>\n",
       "      <th>orange</th>\n",
       "      <th>banana</th>\n",
       "    </tr>\n",
       "  </thead>\n",
       "  <tbody>\n",
       "    <tr>\n",
       "      <th>0</th>\n",
       "      <td>5553944.jpg</td>\n",
       "      <td>banana</td>\n",
       "      <td>[0, 0, 1]</td>\n",
       "      <td>0</td>\n",
       "      <td>0</td>\n",
       "      <td>1</td>\n",
       "    </tr>\n",
       "    <tr>\n",
       "      <th>1</th>\n",
       "      <td>9985835.jpg</td>\n",
       "      <td>apple,orange,banana</td>\n",
       "      <td>[1, 1, 1]</td>\n",
       "      <td>1</td>\n",
       "      <td>1</td>\n",
       "      <td>1</td>\n",
       "    </tr>\n",
       "    <tr>\n",
       "      <th>2</th>\n",
       "      <td>2162049.jpg</td>\n",
       "      <td>apple,banana,orange</td>\n",
       "      <td>[1, 1, 1]</td>\n",
       "      <td>1</td>\n",
       "      <td>1</td>\n",
       "      <td>1</td>\n",
       "    </tr>\n",
       "    <tr>\n",
       "      <th>3</th>\n",
       "      <td>6808904.jpg</td>\n",
       "      <td>banana,orange,apple</td>\n",
       "      <td>[1, 1, 1]</td>\n",
       "      <td>1</td>\n",
       "      <td>1</td>\n",
       "      <td>1</td>\n",
       "    </tr>\n",
       "    <tr>\n",
       "      <th>4</th>\n",
       "      <td>8049862.jpg</td>\n",
       "      <td>banana</td>\n",
       "      <td>[0, 0, 1]</td>\n",
       "      <td>0</td>\n",
       "      <td>0</td>\n",
       "      <td>1</td>\n",
       "    </tr>\n",
       "  </tbody>\n",
       "</table></div>"
      ],
      "text/plain": [
       "         image                class     class2  apple  orange  banana\n",
       "0  5553944.jpg               banana  [0, 0, 1]      0       0       1\n",
       "1  9985835.jpg  apple,orange,banana  [1, 1, 1]      1       1       1\n",
       "2  2162049.jpg  apple,banana,orange  [1, 1, 1]      1       1       1\n",
       "3  6808904.jpg  banana,orange,apple  [1, 1, 1]      1       1       1\n",
       "4  8049862.jpg               banana  [0, 0, 1]      0       0       1"
      ]
     },
     "execution_count": 11,
     "metadata": {},
     "output_type": "execute_result"
    },
    {
     "data": {
      "application/javascript": [
       "\n",
       "            setTimeout(function() {\n",
       "                var nbb_cell_id = 11;\n",
       "                var nbb_unformatted_code = \"gt_df = gt_df.sample(frac=1).reset_index(drop=True)\\ngt_df.head()\";\n",
       "                var nbb_formatted_code = \"gt_df = gt_df.sample(frac=1).reset_index(drop=True)\\ngt_df.head()\";\n",
       "                var nbb_cells = Jupyter.notebook.get_cells();\n",
       "                for (var i = 0; i < nbb_cells.length; ++i) {\n",
       "                    if (nbb_cells[i].input_prompt_number == nbb_cell_id) {\n",
       "                        if (nbb_cells[i].get_text() == nbb_unformatted_code) {\n",
       "                             nbb_cells[i].set_text(nbb_formatted_code);\n",
       "                        }\n",
       "                        break;\n",
       "                    }\n",
       "                }\n",
       "            }, 500);\n",
       "            "
      ],
      "text/plain": [
       "<IPython.core.display.Javascript object>"
      ]
     },
     "metadata": {},
     "output_type": "display_data"
    }
   ],
   "source": [
    "gt_df = gt_df.sample(frac=1).reset_index(drop=True)\n",
    "gt_df.head()"
   ]
  },
  {
   "cell_type": "code",
   "execution_count": 12,
   "id": "5148a4c1",
   "metadata": {},
   "outputs": [
    {
     "data": {
      "text/html": [
       "<div><div id=93a58bcb-b9ff-4565-950a-18de66dbed6e style=\"display:none; background-color:#9D6CFF; color:white; width:200px; height:30px; padding-left:5px; border-radius:4px; flex-direction:row; justify-content:space-around; align-items:center;\" onmouseover=\"this.style.backgroundColor='#BA9BF8'\" onmouseout=\"this.style.backgroundColor='#9D6CFF'\" onclick=\"window.commands?.execute('create-mitosheet-from-dataframe-output');\">See Full Dataframe in Mito</div> <script> if (window.commands?.hasCommand('create-mitosheet-from-dataframe-output')) document.getElementById('93a58bcb-b9ff-4565-950a-18de66dbed6e').style.display = 'flex' </script> <table border=\"1\" class=\"dataframe\">\n",
       "  <thead>\n",
       "    <tr style=\"text-align: right;\">\n",
       "      <th></th>\n",
       "      <th>image</th>\n",
       "      <th>class</th>\n",
       "      <th>class2</th>\n",
       "      <th>apple</th>\n",
       "      <th>orange</th>\n",
       "      <th>banana</th>\n",
       "      <th>index</th>\n",
       "    </tr>\n",
       "  </thead>\n",
       "  <tbody>\n",
       "    <tr>\n",
       "      <th>0</th>\n",
       "      <td>5553944.jpg</td>\n",
       "      <td>banana</td>\n",
       "      <td>[0, 0, 1]</td>\n",
       "      <td>0</td>\n",
       "      <td>0</td>\n",
       "      <td>1</td>\n",
       "      <td>1</td>\n",
       "    </tr>\n",
       "    <tr>\n",
       "      <th>1</th>\n",
       "      <td>9985835.jpg</td>\n",
       "      <td>apple,orange,banana</td>\n",
       "      <td>[1, 1, 1]</td>\n",
       "      <td>1</td>\n",
       "      <td>1</td>\n",
       "      <td>1</td>\n",
       "      <td>2</td>\n",
       "    </tr>\n",
       "    <tr>\n",
       "      <th>2</th>\n",
       "      <td>2162049.jpg</td>\n",
       "      <td>apple,banana,orange</td>\n",
       "      <td>[1, 1, 1]</td>\n",
       "      <td>1</td>\n",
       "      <td>1</td>\n",
       "      <td>1</td>\n",
       "      <td>3</td>\n",
       "    </tr>\n",
       "    <tr>\n",
       "      <th>3</th>\n",
       "      <td>6808904.jpg</td>\n",
       "      <td>banana,orange,apple</td>\n",
       "      <td>[1, 1, 1]</td>\n",
       "      <td>1</td>\n",
       "      <td>1</td>\n",
       "      <td>1</td>\n",
       "      <td>4</td>\n",
       "    </tr>\n",
       "    <tr>\n",
       "      <th>4</th>\n",
       "      <td>8049862.jpg</td>\n",
       "      <td>banana</td>\n",
       "      <td>[0, 0, 1]</td>\n",
       "      <td>0</td>\n",
       "      <td>0</td>\n",
       "      <td>1</td>\n",
       "      <td>5</td>\n",
       "    </tr>\n",
       "  </tbody>\n",
       "</table></div>"
      ],
      "text/plain": [
       "         image                class     class2  apple  orange  banana  index\n",
       "0  5553944.jpg               banana  [0, 0, 1]      0       0       1      1\n",
       "1  9985835.jpg  apple,orange,banana  [1, 1, 1]      1       1       1      2\n",
       "2  2162049.jpg  apple,banana,orange  [1, 1, 1]      1       1       1      3\n",
       "3  6808904.jpg  banana,orange,apple  [1, 1, 1]      1       1       1      4\n",
       "4  8049862.jpg               banana  [0, 0, 1]      0       0       1      5"
      ]
     },
     "execution_count": 12,
     "metadata": {},
     "output_type": "execute_result"
    },
    {
     "data": {
      "application/javascript": [
       "\n",
       "            setTimeout(function() {\n",
       "                var nbb_cell_id = 12;\n",
       "                var nbb_unformatted_code = \"gt_df[\\\"index\\\"] = gt_df.index + 1\\ngt_df.head()\";\n",
       "                var nbb_formatted_code = \"gt_df[\\\"index\\\"] = gt_df.index + 1\\ngt_df.head()\";\n",
       "                var nbb_cells = Jupyter.notebook.get_cells();\n",
       "                for (var i = 0; i < nbb_cells.length; ++i) {\n",
       "                    if (nbb_cells[i].input_prompt_number == nbb_cell_id) {\n",
       "                        if (nbb_cells[i].get_text() == nbb_unformatted_code) {\n",
       "                             nbb_cells[i].set_text(nbb_formatted_code);\n",
       "                        }\n",
       "                        break;\n",
       "                    }\n",
       "                }\n",
       "            }, 500);\n",
       "            "
      ],
      "text/plain": [
       "<IPython.core.display.Javascript object>"
      ]
     },
     "metadata": {},
     "output_type": "display_data"
    }
   ],
   "source": [
    "gt_df[\"index\"] = gt_df.index + 1\n",
    "gt_df.head()"
   ]
  },
  {
   "cell_type": "code",
   "execution_count": 13,
   "id": "fc6ff499",
   "metadata": {},
   "outputs": [
    {
     "name": "stdout",
     "output_type": "stream",
     "text": [
      "['index', 'apple', 'orange', 'banana', 'image']\n"
     ]
    },
    {
     "data": {
      "application/javascript": [
       "\n",
       "            setTimeout(function() {\n",
       "                var nbb_cell_id = 13;\n",
       "                var nbb_unformatted_code = \"sel_cols = [\\\"index\\\"] + labels + [\\\"image\\\"]\\nprint(sel_cols)\";\n",
       "                var nbb_formatted_code = \"sel_cols = [\\\"index\\\"] + labels + [\\\"image\\\"]\\nprint(sel_cols)\";\n",
       "                var nbb_cells = Jupyter.notebook.get_cells();\n",
       "                for (var i = 0; i < nbb_cells.length; ++i) {\n",
       "                    if (nbb_cells[i].input_prompt_number == nbb_cell_id) {\n",
       "                        if (nbb_cells[i].get_text() == nbb_unformatted_code) {\n",
       "                             nbb_cells[i].set_text(nbb_formatted_code);\n",
       "                        }\n",
       "                        break;\n",
       "                    }\n",
       "                }\n",
       "            }, 500);\n",
       "            "
      ],
      "text/plain": [
       "<IPython.core.display.Javascript object>"
      ]
     },
     "metadata": {},
     "output_type": "display_data"
    }
   ],
   "source": [
    "sel_cols = [\"index\"] + labels + [\"image\"]\n",
    "print(sel_cols)"
   ]
  },
  {
   "cell_type": "code",
   "execution_count": 21,
   "id": "84af2739",
   "metadata": {},
   "outputs": [
    {
     "name": "stdout",
     "output_type": "stream",
     "text": [
      "1\t0\t0\t1\t5553944.jpg\r\n",
      "2\t1\t1\t1\t9985835.jpg\r\n",
      "3\t1\t1\t1\t2162049.jpg\r\n",
      "4\t1\t1\t1\t6808904.jpg\r\n",
      "5\t0\t0\t1\t8049862.jpg\r\n"
     ]
    },
    {
     "data": {
      "application/javascript": [
       "\n",
       "            setTimeout(function() {\n",
       "                var nbb_cell_id = 21;\n",
       "                var nbb_unformatted_code = \"gt_df[sel_cols].head(ntrain).to_csv(\\n    \\\"prepare_data/img_clf_multilabel_lst/train_annots/train.lst\\\",\\n    sep=\\\"\\\\t\\\",\\n    index=False,\\n    header=False,\\n)\\n!head -n 5 prepare_data/img_clf_multilabel_lst/train_annots/train.lst\";\n",
       "                var nbb_formatted_code = \"gt_df[sel_cols].head(ntrain).to_csv(\\n    \\\"prepare_data/img_clf_multilabel_lst/train_annots/train.lst\\\",\\n    sep=\\\"\\\\t\\\",\\n    index=False,\\n    header=False,\\n)\\n!head -n 5 prepare_data/img_clf_multilabel_lst/train_annots/train.lst\";\n",
       "                var nbb_cells = Jupyter.notebook.get_cells();\n",
       "                for (var i = 0; i < nbb_cells.length; ++i) {\n",
       "                    if (nbb_cells[i].input_prompt_number == nbb_cell_id) {\n",
       "                        if (nbb_cells[i].get_text() == nbb_unformatted_code) {\n",
       "                             nbb_cells[i].set_text(nbb_formatted_code);\n",
       "                        }\n",
       "                        break;\n",
       "                    }\n",
       "                }\n",
       "            }, 500);\n",
       "            "
      ],
      "text/plain": [
       "<IPython.core.display.Javascript object>"
      ]
     },
     "metadata": {},
     "output_type": "display_data"
    }
   ],
   "source": [
    "gt_df[sel_cols].head(ntrain).to_csv(\n",
    "    \"prepare_data/img_clf_multilabel_lst/train_annots/train.lst\",\n",
    "    sep=\"\\t\",\n",
    "    index=False,\n",
    "    header=False,\n",
    ")\n",
    "!head -n 5 prepare_data/img_clf_multilabel_lst/train_annots/train.lst"
   ]
  },
  {
   "cell_type": "code",
   "execution_count": 22,
   "id": "a7450c34",
   "metadata": {},
   "outputs": [
    {
     "name": "stdout",
     "output_type": "stream",
     "text": [
      "71\t1\t1\t0\t2632491.jpg\r\n",
      "72\t1\t0\t0\t8704016.jpg\r\n",
      "73\t1\t1\t0\t3315941.jpg\r\n",
      "74\t1\t1\t0\t7593329.jpg\r\n",
      "75\t1\t1\t0\t7411721.jpg\r\n"
     ]
    },
    {
     "data": {
      "application/javascript": [
       "\n",
       "            setTimeout(function() {\n",
       "                var nbb_cell_id = 22;\n",
       "                var nbb_unformatted_code = \"gt_df[sel_cols].tail(nvalid).to_csv(\\n    \\\"prepare_data/img_clf_multilabel_lst/valid_annots/valid.lst\\\",\\n    sep=\\\"\\\\t\\\",\\n    index=False,\\n    header=False,\\n)\\n!head -n 5 prepare_data/img_clf_multilabel_lst/valid_annots/valid.lst\";\n",
       "                var nbb_formatted_code = \"gt_df[sel_cols].tail(nvalid).to_csv(\\n    \\\"prepare_data/img_clf_multilabel_lst/valid_annots/valid.lst\\\",\\n    sep=\\\"\\\\t\\\",\\n    index=False,\\n    header=False,\\n)\\n!head -n 5 prepare_data/img_clf_multilabel_lst/valid_annots/valid.lst\";\n",
       "                var nbb_cells = Jupyter.notebook.get_cells();\n",
       "                for (var i = 0; i < nbb_cells.length; ++i) {\n",
       "                    if (nbb_cells[i].input_prompt_number == nbb_cell_id) {\n",
       "                        if (nbb_cells[i].get_text() == nbb_unformatted_code) {\n",
       "                             nbb_cells[i].set_text(nbb_formatted_code);\n",
       "                        }\n",
       "                        break;\n",
       "                    }\n",
       "                }\n",
       "            }, 500);\n",
       "            "
      ],
      "text/plain": [
       "<IPython.core.display.Javascript object>"
      ]
     },
     "metadata": {},
     "output_type": "display_data"
    }
   ],
   "source": [
    "gt_df[sel_cols].tail(nvalid).to_csv(\n",
    "    \"prepare_data/img_clf_multilabel_lst/valid_annots/valid.lst\",\n",
    "    sep=\"\\t\",\n",
    "    index=False,\n",
    "    header=False,\n",
    ")\n",
    "!head -n 5 prepare_data/img_clf_multilabel_lst/valid_annots/valid.lst"
   ]
  },
  {
   "cell_type": "code",
   "execution_count": 16,
   "id": "09377ae3",
   "metadata": {},
   "outputs": [
    {
     "data": {
      "application/javascript": [
       "\n",
       "            setTimeout(function() {\n",
       "                var nbb_cell_id = 16;\n",
       "                var nbb_unformatted_code = \"train_df = pd.read_csv(\\n    \\\"prepare_data/img_clf_multilabel_lst/train_annots/train.lst\\\", sep=\\\"\\\\t\\\", header=None\\n)\\nimages = list(train_df[train_df.columns[-1]].values)\\nfor image in images:\\n    shutil.copy(\\n        \\\"prepare_data/img_clf_multilabel_lst/all_images_gt/\\\" + image,\\n        \\\"prepare_data/img_clf_multilabel_lst/train_imgs/\\\",\\n    )\";\n",
       "                var nbb_formatted_code = \"train_df = pd.read_csv(\\n    \\\"prepare_data/img_clf_multilabel_lst/train_annots/train.lst\\\", sep=\\\"\\\\t\\\", header=None\\n)\\nimages = list(train_df[train_df.columns[-1]].values)\\nfor image in images:\\n    shutil.copy(\\n        \\\"prepare_data/img_clf_multilabel_lst/all_images_gt/\\\" + image,\\n        \\\"prepare_data/img_clf_multilabel_lst/train_imgs/\\\",\\n    )\";\n",
       "                var nbb_cells = Jupyter.notebook.get_cells();\n",
       "                for (var i = 0; i < nbb_cells.length; ++i) {\n",
       "                    if (nbb_cells[i].input_prompt_number == nbb_cell_id) {\n",
       "                        if (nbb_cells[i].get_text() == nbb_unformatted_code) {\n",
       "                             nbb_cells[i].set_text(nbb_formatted_code);\n",
       "                        }\n",
       "                        break;\n",
       "                    }\n",
       "                }\n",
       "            }, 500);\n",
       "            "
      ],
      "text/plain": [
       "<IPython.core.display.Javascript object>"
      ]
     },
     "metadata": {},
     "output_type": "display_data"
    }
   ],
   "source": [
    "train_df = pd.read_csv(\n",
    "    \"prepare_data/img_clf_multilabel_lst/train_annots/train.lst\", sep=\"\\t\", header=None\n",
    ")\n",
    "images = list(train_df[train_df.columns[-1]].values)\n",
    "for image in images:\n",
    "    shutil.copy(\n",
    "        \"prepare_data/img_clf_multilabel_lst/all_images_gt/\" + image,\n",
    "        \"prepare_data/img_clf_multilabel_lst/train_imgs/\",\n",
    "    )"
   ]
  },
  {
   "cell_type": "code",
   "execution_count": 17,
   "id": "16ff9807",
   "metadata": {},
   "outputs": [
    {
     "data": {
      "application/javascript": [
       "\n",
       "            setTimeout(function() {\n",
       "                var nbb_cell_id = 17;\n",
       "                var nbb_unformatted_code = \"valid_df = pd.read_csv(\\n    \\\"prepare_data/img_clf_multilabel_lst/valid_annots/valid.lst\\\", sep=\\\"\\\\t\\\", header=None\\n)\\nimages = list(train_df[train_df.columns[-1]].values)\\nfor image in images:\\n    shutil.copy(\\n        \\\"prepare_data/img_clf_multilabel_lst/all_images_gt/\\\" + image,\\n        \\\"prepare_data/img_clf_multilabel_lst/valid_imgs/\\\",\\n    )\";\n",
       "                var nbb_formatted_code = \"valid_df = pd.read_csv(\\n    \\\"prepare_data/img_clf_multilabel_lst/valid_annots/valid.lst\\\", sep=\\\"\\\\t\\\", header=None\\n)\\nimages = list(train_df[train_df.columns[-1]].values)\\nfor image in images:\\n    shutil.copy(\\n        \\\"prepare_data/img_clf_multilabel_lst/all_images_gt/\\\" + image,\\n        \\\"prepare_data/img_clf_multilabel_lst/valid_imgs/\\\",\\n    )\";\n",
       "                var nbb_cells = Jupyter.notebook.get_cells();\n",
       "                for (var i = 0; i < nbb_cells.length; ++i) {\n",
       "                    if (nbb_cells[i].input_prompt_number == nbb_cell_id) {\n",
       "                        if (nbb_cells[i].get_text() == nbb_unformatted_code) {\n",
       "                             nbb_cells[i].set_text(nbb_formatted_code);\n",
       "                        }\n",
       "                        break;\n",
       "                    }\n",
       "                }\n",
       "            }, 500);\n",
       "            "
      ],
      "text/plain": [
       "<IPython.core.display.Javascript object>"
      ]
     },
     "metadata": {},
     "output_type": "display_data"
    }
   ],
   "source": [
    "valid_df = pd.read_csv(\n",
    "    \"prepare_data/img_clf_multilabel_lst/valid_annots/valid.lst\", sep=\"\\t\", header=None\n",
    ")\n",
    "images = list(train_df[train_df.columns[-1]].values)\n",
    "for image in images:\n",
    "    shutil.copy(\n",
    "        \"prepare_data/img_clf_multilabel_lst/all_images_gt/\" + image,\n",
    "        \"prepare_data/img_clf_multilabel_lst/valid_imgs/\",\n",
    "    )"
   ]
  },
  {
   "cell_type": "code",
   "execution_count": null,
   "id": "e6909606",
   "metadata": {},
   "outputs": [],
   "source": []
  },
  {
   "cell_type": "code",
   "execution_count": null,
   "id": "cdf3edd3",
   "metadata": {},
   "outputs": [],
   "source": []
  },
  {
   "cell_type": "code",
   "execution_count": null,
   "id": "cc3844f2",
   "metadata": {},
   "outputs": [],
   "source": []
  },
  {
   "cell_type": "code",
   "execution_count": null,
   "id": "7434f33a",
   "metadata": {},
   "outputs": [],
   "source": []
  },
  {
   "cell_type": "code",
   "execution_count": 18,
   "id": "3a098913",
   "metadata": {},
   "outputs": [
    {
     "data": {
      "application/javascript": [
       "\n",
       "            setTimeout(function() {\n",
       "                var nbb_cell_id = 18;\n",
       "                var nbb_unformatted_code = \"# labels = [\\\"apple\\\", \\\"orange\\\", \\\"banana\\\"]\\n# imgs = [str(random.randint(1000000, 9999999)) + \\\".jpg\\\" for i in range(100)]\\n# for img in imgs:\\n#     shutil.copy(\\n#         \\\"images/rose.jpg\\\", \\\"prepare_date/img_clf_multilabel_lst/all_images_gt/\\\" + img\\n#     )\\n# clss = [random.sample(labels, random.randint(1, 3)) for i in range(100)]\\n# clss = [str(cl).replace(\\\"'\\\", \\\"\\\").replace(\\\" \\\", \\\"\\\") for cl in clss]\\n# gt_df = pd.DataFrame({\\\"image\\\": imgs, \\\"class\\\": clss})\\n# gt_df.to_csv(\\n#     \\\"prepare_date/img_clf_multilabel_lst/all_images_gt/clf_labels.csv\\\",\\n#     index=False,\\n#     header=False,\\n# )\\n# gt_df.head()\";\n",
       "                var nbb_formatted_code = \"# labels = [\\\"apple\\\", \\\"orange\\\", \\\"banana\\\"]\\n# imgs = [str(random.randint(1000000, 9999999)) + \\\".jpg\\\" for i in range(100)]\\n# for img in imgs:\\n#     shutil.copy(\\n#         \\\"images/rose.jpg\\\", \\\"prepare_date/img_clf_multilabel_lst/all_images_gt/\\\" + img\\n#     )\\n# clss = [random.sample(labels, random.randint(1, 3)) for i in range(100)]\\n# clss = [str(cl).replace(\\\"'\\\", \\\"\\\").replace(\\\" \\\", \\\"\\\") for cl in clss]\\n# gt_df = pd.DataFrame({\\\"image\\\": imgs, \\\"class\\\": clss})\\n# gt_df.to_csv(\\n#     \\\"prepare_date/img_clf_multilabel_lst/all_images_gt/clf_labels.csv\\\",\\n#     index=False,\\n#     header=False,\\n# )\\n# gt_df.head()\";\n",
       "                var nbb_cells = Jupyter.notebook.get_cells();\n",
       "                for (var i = 0; i < nbb_cells.length; ++i) {\n",
       "                    if (nbb_cells[i].input_prompt_number == nbb_cell_id) {\n",
       "                        if (nbb_cells[i].get_text() == nbb_unformatted_code) {\n",
       "                             nbb_cells[i].set_text(nbb_formatted_code);\n",
       "                        }\n",
       "                        break;\n",
       "                    }\n",
       "                }\n",
       "            }, 500);\n",
       "            "
      ],
      "text/plain": [
       "<IPython.core.display.Javascript object>"
      ]
     },
     "metadata": {},
     "output_type": "display_data"
    }
   ],
   "source": []
  },
  {
   "cell_type": "code",
   "execution_count": 20,
   "id": "5c01064b",
   "metadata": {},
   "outputs": [
    {
     "name": "stdout",
     "output_type": "stream",
     "text": [
      "9314850.jpg,\"[banana,apple]\"\r\n",
      "6799149.jpg,[apple]\r\n",
      "9741355.jpg,\"[banana,apple]\"\r\n",
      "3811265.jpg,\"[orange,banana,apple]\"\r\n",
      "5260672.jpg,\"[orange,banana]\"\r\n",
      "5915380.jpg,\"[apple,banana]\"\r\n",
      "9421465.jpg,[apple]\r\n",
      "3315941.jpg,\"[apple,orange]\"\r\n",
      "9410453.jpg,\"[banana,orange]\"\r\n",
      "8999964.jpg,[apple]\r\n"
     ]
    },
    {
     "data": {
      "application/javascript": [
       "\n",
       "            setTimeout(function() {\n",
       "                var nbb_cell_id = 20;\n",
       "                var nbb_unformatted_code = \"!head prepare_data/img_clf_multilabel_lst/all_images_gt/clf_labels.csv\";\n",
       "                var nbb_formatted_code = \"!head prepare_data/img_clf_multilabel_lst/all_images_gt/clf_labels.csv\";\n",
       "                var nbb_cells = Jupyter.notebook.get_cells();\n",
       "                for (var i = 0; i < nbb_cells.length; ++i) {\n",
       "                    if (nbb_cells[i].input_prompt_number == nbb_cell_id) {\n",
       "                        if (nbb_cells[i].get_text() == nbb_unformatted_code) {\n",
       "                             nbb_cells[i].set_text(nbb_formatted_code);\n",
       "                        }\n",
       "                        break;\n",
       "                    }\n",
       "                }\n",
       "            }, 500);\n",
       "            "
      ],
      "text/plain": [
       "<IPython.core.display.Javascript object>"
      ]
     },
     "metadata": {},
     "output_type": "display_data"
    }
   ],
   "source": []
  },
  {
   "cell_type": "code",
   "execution_count": null,
   "id": "acb8f9ce",
   "metadata": {},
   "outputs": [],
   "source": []
  },
  {
   "cell_type": "code",
   "execution_count": null,
   "id": "5b7cbab0",
   "metadata": {},
   "outputs": [],
   "source": []
  }
 ],
 "metadata": {
  "kernelspec": {
   "display_name": "Python 3 (ipykernel)",
   "language": "python",
   "name": "python3"
  },
  "language_info": {
   "codemirror_mode": {
    "name": "ipython",
    "version": 3
   },
   "file_extension": ".py",
   "mimetype": "text/x-python",
   "name": "python",
   "nbconvert_exporter": "python",
   "pygments_lexer": "ipython3",
   "version": "3.8.13"
  },
  "toc": {
   "base_numbering": 1,
   "nav_menu": {},
   "number_sections": true,
   "sideBar": true,
   "skip_h1_title": false,
   "title_cell": "Table of Contents",
   "title_sidebar": "Contents",
   "toc_cell": false,
   "toc_position": {},
   "toc_section_display": true,
   "toc_window_display": false
  }
 },
 "nbformat": 4,
 "nbformat_minor": 5
}

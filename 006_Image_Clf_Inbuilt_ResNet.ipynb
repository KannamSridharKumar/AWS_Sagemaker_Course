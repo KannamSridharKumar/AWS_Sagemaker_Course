{
 "cells": [
  {
   "cell_type": "code",
   "execution_count": 1,
   "id": "6ceed41f",
   "metadata": {},
   "outputs": [
    {
     "data": {
      "application/javascript": [
       "\n",
       "            setTimeout(function() {\n",
       "                var nbb_cell_id = 1;\n",
       "                var nbb_unformatted_code = \"%load_ext nb_black\";\n",
       "                var nbb_formatted_code = \"%load_ext nb_black\";\n",
       "                var nbb_cells = Jupyter.notebook.get_cells();\n",
       "                for (var i = 0; i < nbb_cells.length; ++i) {\n",
       "                    if (nbb_cells[i].input_prompt_number == nbb_cell_id) {\n",
       "                        if (nbb_cells[i].get_text() == nbb_unformatted_code) {\n",
       "                             nbb_cells[i].set_text(nbb_formatted_code);\n",
       "                        }\n",
       "                        break;\n",
       "                    }\n",
       "                }\n",
       "            }, 500);\n",
       "            "
      ],
      "text/plain": [
       "<IPython.core.display.Javascript object>"
      ]
     },
     "metadata": {},
     "output_type": "display_data"
    }
   ],
   "source": [
    "%load_ext nb_black"
   ]
  },
  {
   "cell_type": "code",
   "execution_count": 2,
   "id": "547f0395",
   "metadata": {},
   "outputs": [
    {
     "data": {
      "application/javascript": [
       "\n",
       "            setTimeout(function() {\n",
       "                var nbb_cell_id = 2;\n",
       "                var nbb_unformatted_code = \"import os\\nimport json\\nimport logging\\nfrom datetime import datetime\";\n",
       "                var nbb_formatted_code = \"import os\\nimport json\\nimport logging\\nfrom datetime import datetime\";\n",
       "                var nbb_cells = Jupyter.notebook.get_cells();\n",
       "                for (var i = 0; i < nbb_cells.length; ++i) {\n",
       "                    if (nbb_cells[i].input_prompt_number == nbb_cell_id) {\n",
       "                        if (nbb_cells[i].get_text() == nbb_unformatted_code) {\n",
       "                             nbb_cells[i].set_text(nbb_formatted_code);\n",
       "                        }\n",
       "                        break;\n",
       "                    }\n",
       "                }\n",
       "            }, 500);\n",
       "            "
      ],
      "text/plain": [
       "<IPython.core.display.Javascript object>"
      ]
     },
     "metadata": {},
     "output_type": "display_data"
    }
   ],
   "source": [
    "import os\n",
    "import json\n",
    "import logging\n",
    "from datetime import datetime"
   ]
  },
  {
   "cell_type": "code",
   "execution_count": 3,
   "id": "9326763c",
   "metadata": {},
   "outputs": [
    {
     "data": {
      "application/javascript": [
       "\n",
       "            setTimeout(function() {\n",
       "                var nbb_cell_id = 3;\n",
       "                var nbb_unformatted_code = \"import boto3\\nimport sagemaker\\nfrom sagemaker import get_execution_role\\nfrom sagemaker.amazon.amazon_estimator import get_image_uri\";\n",
       "                var nbb_formatted_code = \"import boto3\\nimport sagemaker\\nfrom sagemaker import get_execution_role\\nfrom sagemaker.amazon.amazon_estimator import get_image_uri\";\n",
       "                var nbb_cells = Jupyter.notebook.get_cells();\n",
       "                for (var i = 0; i < nbb_cells.length; ++i) {\n",
       "                    if (nbb_cells[i].input_prompt_number == nbb_cell_id) {\n",
       "                        if (nbb_cells[i].get_text() == nbb_unformatted_code) {\n",
       "                             nbb_cells[i].set_text(nbb_formatted_code);\n",
       "                        }\n",
       "                        break;\n",
       "                    }\n",
       "                }\n",
       "            }, 500);\n",
       "            "
      ],
      "text/plain": [
       "<IPython.core.display.Javascript object>"
      ]
     },
     "metadata": {},
     "output_type": "display_data"
    }
   ],
   "source": [
    "import boto3\n",
    "import sagemaker\n",
    "from sagemaker import get_execution_role\n",
    "from sagemaker.amazon.amazon_estimator import get_image_uri"
   ]
  },
  {
   "cell_type": "code",
   "execution_count": 4,
   "id": "d78e5f84",
   "metadata": {},
   "outputs": [
    {
     "data": {
      "application/javascript": [
       "\n",
       "            setTimeout(function() {\n",
       "                var nbb_cell_id = 4;\n",
       "                var nbb_unformatted_code = \"boto3.set_stream_logger(name=\\\"botocore.credentials\\\", level=logging.WARNING)\";\n",
       "                var nbb_formatted_code = \"boto3.set_stream_logger(name=\\\"botocore.credentials\\\", level=logging.WARNING)\";\n",
       "                var nbb_cells = Jupyter.notebook.get_cells();\n",
       "                for (var i = 0; i < nbb_cells.length; ++i) {\n",
       "                    if (nbb_cells[i].input_prompt_number == nbb_cell_id) {\n",
       "                        if (nbb_cells[i].get_text() == nbb_unformatted_code) {\n",
       "                             nbb_cells[i].set_text(nbb_formatted_code);\n",
       "                        }\n",
       "                        break;\n",
       "                    }\n",
       "                }\n",
       "            }, 500);\n",
       "            "
      ],
      "text/plain": [
       "<IPython.core.display.Javascript object>"
      ]
     },
     "metadata": {},
     "output_type": "display_data"
    }
   ],
   "source": [
    "boto3.set_stream_logger(name=\"botocore.credentials\", level=logging.WARNING)"
   ]
  },
  {
   "cell_type": "code",
   "execution_count": 5,
   "id": "21d68778",
   "metadata": {},
   "outputs": [
    {
     "name": "stdout",
     "output_type": "stream",
     "text": [
      "ap-southeast-2\n"
     ]
    },
    {
     "data": {
      "application/javascript": [
       "\n",
       "            setTimeout(function() {\n",
       "                var nbb_cell_id = 5;\n",
       "                var nbb_unformatted_code = \"sess = sagemaker.Session()\\nregion = sess.boto_region_name\\nprint(region)\";\n",
       "                var nbb_formatted_code = \"sess = sagemaker.Session()\\nregion = sess.boto_region_name\\nprint(region)\";\n",
       "                var nbb_cells = Jupyter.notebook.get_cells();\n",
       "                for (var i = 0; i < nbb_cells.length; ++i) {\n",
       "                    if (nbb_cells[i].input_prompt_number == nbb_cell_id) {\n",
       "                        if (nbb_cells[i].get_text() == nbb_unformatted_code) {\n",
       "                             nbb_cells[i].set_text(nbb_formatted_code);\n",
       "                        }\n",
       "                        break;\n",
       "                    }\n",
       "                }\n",
       "            }, 500);\n",
       "            "
      ],
      "text/plain": [
       "<IPython.core.display.Javascript object>"
      ]
     },
     "metadata": {},
     "output_type": "display_data"
    }
   ],
   "source": [
    "sess = sagemaker.Session()\n",
    "region = sess.boto_region_name\n",
    "print(region)"
   ]
  },
  {
   "cell_type": "code",
   "execution_count": 6,
   "id": "2bce8711",
   "metadata": {},
   "outputs": [
    {
     "data": {
      "application/javascript": [
       "\n",
       "            setTimeout(function() {\n",
       "                var nbb_cell_id = 6;\n",
       "                var nbb_unformatted_code = \"# role_arn = sagemaker.get_execution_role()\\nrole_arn = os.getenv(\\\"SGMKR_ROLE_ARN\\\")\";\n",
       "                var nbb_formatted_code = \"# role_arn = sagemaker.get_execution_role()\\nrole_arn = os.getenv(\\\"SGMKR_ROLE_ARN\\\")\";\n",
       "                var nbb_cells = Jupyter.notebook.get_cells();\n",
       "                for (var i = 0; i < nbb_cells.length; ++i) {\n",
       "                    if (nbb_cells[i].input_prompt_number == nbb_cell_id) {\n",
       "                        if (nbb_cells[i].get_text() == nbb_unformatted_code) {\n",
       "                             nbb_cells[i].set_text(nbb_formatted_code);\n",
       "                        }\n",
       "                        break;\n",
       "                    }\n",
       "                }\n",
       "            }, 500);\n",
       "            "
      ],
      "text/plain": [
       "<IPython.core.display.Javascript object>"
      ]
     },
     "metadata": {},
     "output_type": "display_data"
    }
   ],
   "source": [
    "# role_arn = sagemaker.get_execution_role()\n",
    "role_arn = os.getenv(\"SGMKR_ROLE_ARN\")"
   ]
  },
  {
   "cell_type": "code",
   "execution_count": 7,
   "id": "172c6302",
   "metadata": {},
   "outputs": [
    {
     "data": {
      "application/javascript": [
       "\n",
       "            setTimeout(function() {\n",
       "                var nbb_cell_id = 7;\n",
       "                var nbb_unformatted_code = \"bucket_name = \\\"sgmkr-course\\\"\\ndata_path = \\\"sgmkr_clf_lst\\\"\\n\\nnclasses = 3\\nnimgs_train = 36\\nnepochs = 10\\nmini_batch_size = 8\\n\\ntrain_instance_type = \\\"ml.g4dn.xlarge\\\"\\njob_name_prefix = \\\"flowers-clf-ib-resent-\\\"\";\n",
       "                var nbb_formatted_code = \"bucket_name = \\\"sgmkr-course\\\"\\ndata_path = \\\"sgmkr_clf_lst\\\"\\n\\nnclasses = 3\\nnimgs_train = 36\\nnepochs = 10\\nmini_batch_size = 8\\n\\ntrain_instance_type = \\\"ml.g4dn.xlarge\\\"\\njob_name_prefix = \\\"flowers-clf-ib-resent-\\\"\";\n",
       "                var nbb_cells = Jupyter.notebook.get_cells();\n",
       "                for (var i = 0; i < nbb_cells.length; ++i) {\n",
       "                    if (nbb_cells[i].input_prompt_number == nbb_cell_id) {\n",
       "                        if (nbb_cells[i].get_text() == nbb_unformatted_code) {\n",
       "                             nbb_cells[i].set_text(nbb_formatted_code);\n",
       "                        }\n",
       "                        break;\n",
       "                    }\n",
       "                }\n",
       "            }, 500);\n",
       "            "
      ],
      "text/plain": [
       "<IPython.core.display.Javascript object>"
      ]
     },
     "metadata": {},
     "output_type": "display_data"
    }
   ],
   "source": [
    "bucket_name = \"sgmkr-course\"\n",
    "data_path = \"sgmkr_clf_lst\"\n",
    "\n",
    "nclasses = 3\n",
    "nimgs_train = 36\n",
    "nepochs = 10\n",
    "mini_batch_size = 8\n",
    "\n",
    "train_instance_type = \"ml.g4dn.xlarge\"\n",
    "job_name_prefix = \"flowers-clf-ib-resent-\""
   ]
  },
  {
   "cell_type": "markdown",
   "id": "00202aa1",
   "metadata": {},
   "source": [
    "https://aws.amazon.com/sagemaker/pricing/"
   ]
  },
  {
   "cell_type": "code",
   "execution_count": null,
   "id": "d6ee0e75",
   "metadata": {},
   "outputs": [],
   "source": []
  },
  {
   "cell_type": "code",
   "execution_count": 8,
   "id": "4620fe86",
   "metadata": {},
   "outputs": [
    {
     "name": "stderr",
     "output_type": "stream",
     "text": [
      "Defaulting to the only supported framework/algorithm version: 1. Ignoring framework/algorithm version: latest.\n",
      "Ignoring unnecessary instance type: None.\n"
     ]
    },
    {
     "name": "stdout",
     "output_type": "stream",
     "text": [
      "544295431143.dkr.ecr.ap-southeast-2.amazonaws.com/image-classification:1\n"
     ]
    },
    {
     "data": {
      "application/javascript": [
       "\n",
       "            setTimeout(function() {\n",
       "                var nbb_cell_id = 8;\n",
       "                var nbb_unformatted_code = \"train_image_uri = sagemaker.image_uris.retrieve(\\n    framework=\\\"image-classification\\\",\\n    region=region,\\n    image_scope=\\\"training\\\",\\n    version=\\\"latest\\\",\\n)\\nprint(train_image_uri)\";\n",
       "                var nbb_formatted_code = \"train_image_uri = sagemaker.image_uris.retrieve(\\n    framework=\\\"image-classification\\\",\\n    region=region,\\n    image_scope=\\\"training\\\",\\n    version=\\\"latest\\\",\\n)\\nprint(train_image_uri)\";\n",
       "                var nbb_cells = Jupyter.notebook.get_cells();\n",
       "                for (var i = 0; i < nbb_cells.length; ++i) {\n",
       "                    if (nbb_cells[i].input_prompt_number == nbb_cell_id) {\n",
       "                        if (nbb_cells[i].get_text() == nbb_unformatted_code) {\n",
       "                             nbb_cells[i].set_text(nbb_formatted_code);\n",
       "                        }\n",
       "                        break;\n",
       "                    }\n",
       "                }\n",
       "            }, 500);\n",
       "            "
      ],
      "text/plain": [
       "<IPython.core.display.Javascript object>"
      ]
     },
     "metadata": {},
     "output_type": "display_data"
    }
   ],
   "source": [
    "train_image_uri = sagemaker.image_uris.retrieve(\n",
    "    framework=\"image-classification\",\n",
    "    region=region,\n",
    "    image_scope=\"training\",\n",
    "    version=\"latest\",\n",
    ")\n",
    "print(train_image_uri)"
   ]
  },
  {
   "cell_type": "code",
   "execution_count": null,
   "id": "fbd17397",
   "metadata": {},
   "outputs": [],
   "source": []
  },
  {
   "cell_type": "code",
   "execution_count": null,
   "id": "da728769",
   "metadata": {},
   "outputs": [],
   "source": []
  },
  {
   "cell_type": "code",
   "execution_count": 9,
   "id": "975382fd",
   "metadata": {},
   "outputs": [
    {
     "data": {
      "application/javascript": [
       "\n",
       "            setTimeout(function() {\n",
       "                var nbb_cell_id = 9;\n",
       "                var nbb_unformatted_code = \"s3_output_path = \\\"s3://{}/{}/{}\\\".format(bucket_name, data_path, \\\"model_output\\\")\";\n",
       "                var nbb_formatted_code = \"s3_output_path = \\\"s3://{}/{}/{}\\\".format(bucket_name, data_path, \\\"model_output\\\")\";\n",
       "                var nbb_cells = Jupyter.notebook.get_cells();\n",
       "                for (var i = 0; i < nbb_cells.length; ++i) {\n",
       "                    if (nbb_cells[i].input_prompt_number == nbb_cell_id) {\n",
       "                        if (nbb_cells[i].get_text() == nbb_unformatted_code) {\n",
       "                             nbb_cells[i].set_text(nbb_formatted_code);\n",
       "                        }\n",
       "                        break;\n",
       "                    }\n",
       "                }\n",
       "            }, 500);\n",
       "            "
      ],
      "text/plain": [
       "<IPython.core.display.Javascript object>"
      ]
     },
     "metadata": {},
     "output_type": "display_data"
    }
   ],
   "source": [
    "s3_output_path = \"s3://{}/{}/{}\".format(bucket_name, data_path, \"model_output\")"
   ]
  },
  {
   "cell_type": "code",
   "execution_count": 10,
   "id": "a54e9c4a",
   "metadata": {},
   "outputs": [
    {
     "data": {
      "application/javascript": [
       "\n",
       "            setTimeout(function() {\n",
       "                var nbb_cell_id = 10;\n",
       "                var nbb_unformatted_code = \"clf_estimator = sagemaker.estimator.Estimator(\\n    image_uri=train_image_uri,\\n    role=role_arn,\\n    instance_count=1,\\n    instance_type=\\\"ml.p2.xlarge\\\",\\n    volume_size=50,\\n    max_run=360000,\\n    input_mode=\\\"File\\\",\\n    output_path=s3_output_path,\\n    sagemaker_session=sess,\\n)\";\n",
       "                var nbb_formatted_code = \"clf_estimator = sagemaker.estimator.Estimator(\\n    image_uri=train_image_uri,\\n    role=role_arn,\\n    instance_count=1,\\n    instance_type=\\\"ml.p2.xlarge\\\",\\n    volume_size=50,\\n    max_run=360000,\\n    input_mode=\\\"File\\\",\\n    output_path=s3_output_path,\\n    sagemaker_session=sess,\\n)\";\n",
       "                var nbb_cells = Jupyter.notebook.get_cells();\n",
       "                for (var i = 0; i < nbb_cells.length; ++i) {\n",
       "                    if (nbb_cells[i].input_prompt_number == nbb_cell_id) {\n",
       "                        if (nbb_cells[i].get_text() == nbb_unformatted_code) {\n",
       "                             nbb_cells[i].set_text(nbb_formatted_code);\n",
       "                        }\n",
       "                        break;\n",
       "                    }\n",
       "                }\n",
       "            }, 500);\n",
       "            "
      ],
      "text/plain": [
       "<IPython.core.display.Javascript object>"
      ]
     },
     "metadata": {},
     "output_type": "display_data"
    }
   ],
   "source": [
    "clf_estimator = sagemaker.estimator.Estimator(\n",
    "    image_uri=train_image_uri,\n",
    "    role=role_arn,\n",
    "    instance_count=1,\n",
    "    instance_type=train_instance_type,\n",
    "    volume_size=50,\n",
    "    max_run=360000,\n",
    "    input_mode=\"File\",\n",
    "    output_path=s3_output_path,\n",
    "    sagemaker_session=sess,\n",
    ")"
   ]
  },
  {
   "cell_type": "code",
   "execution_count": null,
   "id": "4bb0992c",
   "metadata": {},
   "outputs": [],
   "source": []
  },
  {
   "cell_type": "code",
   "execution_count": 11,
   "id": "e61bdb34",
   "metadata": {},
   "outputs": [
    {
     "data": {
      "application/javascript": [
       "\n",
       "            setTimeout(function() {\n",
       "                var nbb_cell_id = 11;\n",
       "                var nbb_unformatted_code = \"clf_estimator.set_hyperparameters(\\n    num_classes=nclasses,  # update this\\n    epochs=nepochs,  # update this\\n    num_training_samples=nimgs_train,  # update this\\n    mini_batch_size=mini_batch_size,  # update this\\n    num_layers=18,\\n    use_pretrained_model=1,\\n    image_shape=\\\"3,224,224\\\",\\n    resize=256,\\n    learning_rate=0.001,\\n    use_weighted_loss=1,\\n    augmentation_type=\\\"crop_color_transform\\\",\\n    precision_dtype=\\\"float32\\\",\\n    multi_label=0,\\n)\";\n",
       "                var nbb_formatted_code = \"clf_estimator.set_hyperparameters(\\n    num_classes=nclasses,  # update this\\n    epochs=nepochs,  # update this\\n    num_training_samples=nimgs_train,  # update this\\n    mini_batch_size=mini_batch_size,  # update this\\n    num_layers=18,\\n    use_pretrained_model=1,\\n    image_shape=\\\"3,224,224\\\",\\n    resize=256,\\n    learning_rate=0.001,\\n    use_weighted_loss=1,\\n    augmentation_type=\\\"crop_color_transform\\\",\\n    precision_dtype=\\\"float32\\\",\\n    multi_label=0,\\n)\";\n",
       "                var nbb_cells = Jupyter.notebook.get_cells();\n",
       "                for (var i = 0; i < nbb_cells.length; ++i) {\n",
       "                    if (nbb_cells[i].input_prompt_number == nbb_cell_id) {\n",
       "                        if (nbb_cells[i].get_text() == nbb_unformatted_code) {\n",
       "                             nbb_cells[i].set_text(nbb_formatted_code);\n",
       "                        }\n",
       "                        break;\n",
       "                    }\n",
       "                }\n",
       "            }, 500);\n",
       "            "
      ],
      "text/plain": [
       "<IPython.core.display.Javascript object>"
      ]
     },
     "metadata": {},
     "output_type": "display_data"
    }
   ],
   "source": [
    "clf_estimator.set_hyperparameters(\n",
    "    num_classes=nclasses,  # update this\n",
    "    epochs=nepochs,  # update this\n",
    "    num_training_samples=nimgs_train,  # update this\n",
    "    mini_batch_size=mini_batch_size,  # update this\n",
    "    num_layers=18,\n",
    "    use_pretrained_model=1,\n",
    "    image_shape=\"3,224,224\",\n",
    "    resize=256,\n",
    "    learning_rate=0.001,\n",
    "    use_weighted_loss=1,\n",
    "    augmentation_type=\"crop_color_transform\",\n",
    "    precision_dtype=\"float32\",\n",
    "    multi_label=0,\n",
    ")"
   ]
  },
  {
   "cell_type": "code",
   "execution_count": 12,
   "id": "104f505d",
   "metadata": {},
   "outputs": [
    {
     "data": {
      "application/javascript": [
       "\n",
       "            setTimeout(function() {\n",
       "                var nbb_cell_id = 12;\n",
       "                var nbb_unformatted_code = \"s3_train_imgs = \\\"s3://{}/{}/{}\\\".format(bucket_name, data_path, \\\"train_imgs\\\")\\ns3_valid_imgs = \\\"s3://{}/{}/{}\\\".format(bucket_name, data_path, \\\"valid_imgs\\\")\\ns3_train_annot = \\\"s3://{}/{}/{}\\\".format(bucket_name, data_path, \\\"train_annots\\\")\\ns3_valid_annot = \\\"s3://{}/{}/{}\\\".format(bucket_name, data_path, \\\"valid_annots\\\")\\n\\ntrain_imgs = sagemaker.inputs.TrainingInput(\\n    s3_train_imgs,\\n    distribution=\\\"FullyReplicated\\\",\\n    content_type=\\\"application/jpeg\\\",\\n    s3_data_type=\\\"S3Prefix\\\",\\n)\\nvalid_imgs = sagemaker.inputs.TrainingInput(\\n    s3_valid_imgs,\\n    distribution=\\\"FullyReplicated\\\",\\n    content_type=\\\"application/jpeg\\\",\\n    s3_data_type=\\\"S3Prefix\\\",\\n)\\ntrain_annot = sagemaker.inputs.TrainingInput(\\n    s3_train_annot,\\n    distribution=\\\"FullyReplicated\\\",\\n    content_type=\\\"application/jpeg\\\",\\n    s3_data_type=\\\"S3Prefix\\\",\\n)\\nvalid_annot = sagemaker.inputs.TrainingInput(\\n    s3_valid_annot,\\n    distribution=\\\"FullyReplicated\\\",\\n    content_type=\\\"application/jpeg\\\",\\n    s3_data_type=\\\"S3Prefix\\\",\\n)\\n\\ndata_channels = {\\n    \\\"train\\\": train_imgs,\\n    \\\"validation\\\": valid_imgs,\\n    \\\"train_lst\\\": train_annot,\\n    \\\"validation_lst\\\": valid_annot,\\n}\";\n",
       "                var nbb_formatted_code = \"s3_train_imgs = \\\"s3://{}/{}/{}\\\".format(bucket_name, data_path, \\\"train_imgs\\\")\\ns3_valid_imgs = \\\"s3://{}/{}/{}\\\".format(bucket_name, data_path, \\\"valid_imgs\\\")\\ns3_train_annot = \\\"s3://{}/{}/{}\\\".format(bucket_name, data_path, \\\"train_annots\\\")\\ns3_valid_annot = \\\"s3://{}/{}/{}\\\".format(bucket_name, data_path, \\\"valid_annots\\\")\\n\\ntrain_imgs = sagemaker.inputs.TrainingInput(\\n    s3_train_imgs,\\n    distribution=\\\"FullyReplicated\\\",\\n    content_type=\\\"application/jpeg\\\",\\n    s3_data_type=\\\"S3Prefix\\\",\\n)\\nvalid_imgs = sagemaker.inputs.TrainingInput(\\n    s3_valid_imgs,\\n    distribution=\\\"FullyReplicated\\\",\\n    content_type=\\\"application/jpeg\\\",\\n    s3_data_type=\\\"S3Prefix\\\",\\n)\\ntrain_annot = sagemaker.inputs.TrainingInput(\\n    s3_train_annot,\\n    distribution=\\\"FullyReplicated\\\",\\n    content_type=\\\"application/jpeg\\\",\\n    s3_data_type=\\\"S3Prefix\\\",\\n)\\nvalid_annot = sagemaker.inputs.TrainingInput(\\n    s3_valid_annot,\\n    distribution=\\\"FullyReplicated\\\",\\n    content_type=\\\"application/jpeg\\\",\\n    s3_data_type=\\\"S3Prefix\\\",\\n)\\n\\ndata_channels = {\\n    \\\"train\\\": train_imgs,\\n    \\\"validation\\\": valid_imgs,\\n    \\\"train_lst\\\": train_annot,\\n    \\\"validation_lst\\\": valid_annot,\\n}\";\n",
       "                var nbb_cells = Jupyter.notebook.get_cells();\n",
       "                for (var i = 0; i < nbb_cells.length; ++i) {\n",
       "                    if (nbb_cells[i].input_prompt_number == nbb_cell_id) {\n",
       "                        if (nbb_cells[i].get_text() == nbb_unformatted_code) {\n",
       "                             nbb_cells[i].set_text(nbb_formatted_code);\n",
       "                        }\n",
       "                        break;\n",
       "                    }\n",
       "                }\n",
       "            }, 500);\n",
       "            "
      ],
      "text/plain": [
       "<IPython.core.display.Javascript object>"
      ]
     },
     "metadata": {},
     "output_type": "display_data"
    }
   ],
   "source": [
    "s3_train_imgs = \"s3://{}/{}/{}\".format(bucket_name, data_path, \"train_imgs\")\n",
    "s3_valid_imgs = \"s3://{}/{}/{}\".format(bucket_name, data_path, \"valid_imgs\")\n",
    "s3_train_annot = \"s3://{}/{}/{}\".format(bucket_name, data_path, \"train_annots\")\n",
    "s3_valid_annot = \"s3://{}/{}/{}\".format(bucket_name, data_path, \"valid_annots\")\n",
    "\n",
    "train_imgs = sagemaker.inputs.TrainingInput(\n",
    "    s3_train_imgs,\n",
    "    distribution=\"FullyReplicated\",\n",
    "    content_type=\"application/jpeg\",\n",
    "    s3_data_type=\"S3Prefix\",\n",
    ")\n",
    "valid_imgs = sagemaker.inputs.TrainingInput(\n",
    "    s3_valid_imgs,\n",
    "    distribution=\"FullyReplicated\",\n",
    "    content_type=\"application/jpeg\",\n",
    "    s3_data_type=\"S3Prefix\",\n",
    ")\n",
    "train_annot = sagemaker.inputs.TrainingInput(\n",
    "    s3_train_annot,\n",
    "    distribution=\"FullyReplicated\",\n",
    "    content_type=\"application/jpeg\",\n",
    "    s3_data_type=\"S3Prefix\",\n",
    ")\n",
    "valid_annot = sagemaker.inputs.TrainingInput(\n",
    "    s3_valid_annot,\n",
    "    distribution=\"FullyReplicated\",\n",
    "    content_type=\"application/jpeg\",\n",
    "    s3_data_type=\"S3Prefix\",\n",
    ")\n",
    "\n",
    "data_channels = {\n",
    "    \"train\": train_imgs,\n",
    "    \"validation\": valid_imgs,\n",
    "    \"train_lst\": train_annot,\n",
    "    \"validation_lst\": valid_annot,\n",
    "}"
   ]
  },
  {
   "cell_type": "code",
   "execution_count": 13,
   "id": "4da69d7f",
   "metadata": {},
   "outputs": [
    {
     "name": "stdout",
     "output_type": "stream",
     "text": [
      "flowers-clf-ib-resent-2023-03-21-16-47-50\n"
     ]
    },
    {
     "data": {
      "application/javascript": [
       "\n",
       "            setTimeout(function() {\n",
       "                var nbb_cell_id = 13;\n",
       "                var nbb_unformatted_code = \"timestamp = (\\n    str(datetime.now().replace(microsecond=0)).replace(\\\" \\\", \\\"-\\\").replace(\\\":\\\", \\\"-\\\")\\n)\\njob_name = job_name_prefix + timestamp\\nprint(job_name)\";\n",
       "                var nbb_formatted_code = \"timestamp = (\\n    str(datetime.now().replace(microsecond=0)).replace(\\\" \\\", \\\"-\\\").replace(\\\":\\\", \\\"-\\\")\\n)\\njob_name = job_name_prefix + timestamp\\nprint(job_name)\";\n",
       "                var nbb_cells = Jupyter.notebook.get_cells();\n",
       "                for (var i = 0; i < nbb_cells.length; ++i) {\n",
       "                    if (nbb_cells[i].input_prompt_number == nbb_cell_id) {\n",
       "                        if (nbb_cells[i].get_text() == nbb_unformatted_code) {\n",
       "                             nbb_cells[i].set_text(nbb_formatted_code);\n",
       "                        }\n",
       "                        break;\n",
       "                    }\n",
       "                }\n",
       "            }, 500);\n",
       "            "
      ],
      "text/plain": [
       "<IPython.core.display.Javascript object>"
      ]
     },
     "metadata": {},
     "output_type": "display_data"
    }
   ],
   "source": [
    "timestamp = (\n",
    "    str(datetime.now().replace(microsecond=0)).replace(\" \", \"-\").replace(\":\", \"-\")\n",
    ")\n",
    "job_name = job_name_prefix + timestamp\n",
    "print(job_name)"
   ]
  },
  {
   "cell_type": "code",
   "execution_count": null,
   "id": "a4a6518c",
   "metadata": {},
   "outputs": [],
   "source": []
  },
  {
   "cell_type": "code",
   "execution_count": 15,
   "id": "ea95acc3",
   "metadata": {},
   "outputs": [
    {
     "name": "stderr",
     "output_type": "stream",
     "text": [
      "Creating training-job with name: flowers-clf-ib-resent-2023-03-21-16-47-50\n"
     ]
    },
    {
     "name": "stdout",
     "output_type": "stream",
     "text": [
      "2023-03-21 05:48:23 Starting - Starting the training job...\n",
      "2023-03-21 05:48:48 Starting - Preparing the instances for training......\n",
      "2023-03-21 05:49:59 Downloading - Downloading input data...\n",
      "2023-03-21 05:50:24 Training - Downloading the training image...............\n",
      "2023-03-21 05:52:55 Training - Training image download completed. Training in progress.....\u001b[34mDocker entrypoint called with argument(s): train\u001b[0m\n",
      "\u001b[34mRunning default environment configuration script\u001b[0m\n",
      "\u001b[34mNvidia gpu devices, drivers and cuda toolkit versions (only available on hosts with GPU):\u001b[0m\n",
      "\u001b[34mTue Mar 21 05:53:35 2023       \u001b[0m\n",
      "\u001b[34m+-----------------------------------------------------------------------------+\u001b[0m\n",
      "\u001b[34m| NVIDIA-SMI 470.57.02    Driver Version: 470.57.02    CUDA Version: 11.4     |\u001b[0m\n",
      "\u001b[34m|-------------------------------+----------------------+----------------------+\u001b[0m\n",
      "\u001b[34m| GPU  Name        Persistence-M| Bus-Id        Disp.A | Volatile Uncorr. ECC |\u001b[0m\n",
      "\u001b[34m| Fan  Temp  Perf  Pwr:Usage/Cap|         Memory-Usage | GPU-Util  Compute M. |\u001b[0m\n",
      "\u001b[34m|                               |                      |               MIG M. |\u001b[0m\n",
      "\u001b[34m|===============================+======================+======================|\u001b[0m\n",
      "\u001b[34m|   0  Tesla K80           On   | 00000000:00:1E.0 Off |                    0 |\u001b[0m\n",
      "\u001b[34m| N/A   35C    P8    31W / 149W |      0MiB / 11441MiB |      0%      Default |\u001b[0m\n",
      "\u001b[34m|                               |                      |                  N/A |\u001b[0m\n",
      "\u001b[34m+-------------------------------+----------------------+----------------------+\n",
      "                                                                               \u001b[0m\n",
      "\u001b[34m+-----------------------------------------------------------------------------+\u001b[0m\n",
      "\u001b[34m| Processes:                                                                  |\u001b[0m\n",
      "\u001b[34m|  GPU   GI   CI        PID   Type   Process name                  GPU Memory |\u001b[0m\n",
      "\u001b[34m|        ID   ID                                                   Usage      |\u001b[0m\n",
      "\u001b[34m|=============================================================================|\u001b[0m\n",
      "\u001b[34m|  No running processes found                                                 |\u001b[0m\n",
      "\u001b[34m+-----------------------------------------------------------------------------+\u001b[0m\n",
      "\u001b[34mChecking for nvidia driver and cuda compatibility.\u001b[0m\n",
      "\u001b[34mCUDA Compatibility driver provided.\u001b[0m\n",
      "\u001b[34mProceeding with compatibility check between driver, cuda-toolkit and cuda-compat.\u001b[0m\n",
      "\u001b[34mDetected cuda-toolkit version: 11.1.\u001b[0m\n",
      "\u001b[34mDetected cuda-compat version: 455.32.00.\u001b[0m\n",
      "\u001b[34mDetected Nvidia driver version: 470.57.02.\u001b[0m\n",
      "\u001b[34mNvidia driver compatible with cuda-toolkit. Disabling cuda-compat.\u001b[0m\n",
      "\u001b[34m[03/21/2023 05:53:38 INFO 140106315691840] Reading default configuration from /opt/amazon/lib/python3.7/site-packages/image_classification/default-input.json: {'use_pretrained_model': 0, 'num_layers': 152, 'epochs': 30, 'learning_rate': 0.1, 'lr_scheduler_factor': 0.1, 'optimizer': 'sgd', 'momentum': 0, 'weight_decay': 0.0001, 'beta_1': 0.9, 'beta_2': 0.999, 'eps': 1e-08, 'gamma': 0.9, 'mini_batch_size': 32, 'image_shape': '3,224,224', 'precision_dtype': 'float32'}\u001b[0m\n",
      "\u001b[34m[03/21/2023 05:53:38 INFO 140106315691840] Merging with provided configuration from /opt/ml/input/config/hyperparameters.json: {'augmentation_type': 'crop_color_transform', 'epochs': '10', 'image_shape': '3,224,224', 'learning_rate': '0.001', 'mini_batch_size': '8', 'multi_label': '0', 'num_classes': '3', 'num_layers': '18', 'num_training_samples': '36', 'precision_dtype': 'float32', 'resize': '256', 'use_pretrained_model': '1', 'use_weighted_loss': '1'}\u001b[0m\n",
      "\u001b[34m[03/21/2023 05:53:38 INFO 140106315691840] Final configuration: {'use_pretrained_model': '1', 'num_layers': '18', 'epochs': '10', 'learning_rate': '0.001', 'lr_scheduler_factor': 0.1, 'optimizer': 'sgd', 'momentum': 0, 'weight_decay': 0.0001, 'beta_1': 0.9, 'beta_2': 0.999, 'eps': 1e-08, 'gamma': 0.9, 'mini_batch_size': '8', 'image_shape': '3,224,224', 'precision_dtype': 'float32', 'augmentation_type': 'crop_color_transform', 'multi_label': '0', 'num_classes': '3', 'num_training_samples': '36', 'resize': '256', 'use_weighted_loss': '1'}\u001b[0m\n",
      "\u001b[34m[03/21/2023 05:53:38 WARNING 140106315691840] use_weighted_loss is only used for multi-label training. Ignoring the parameter.\u001b[0m\n",
      "\u001b[34m[03/21/2023 05:53:38 INFO 140106315691840] Searching for .lst files in /opt/ml/input/data/train_lst.\u001b[0m\n",
      "\u001b[34m[03/21/2023 05:53:38 INFO 140106315691840] Creating record files for train.lst\u001b[0m\n",
      "\u001b[34m[03/21/2023 05:53:38 INFO 140106315691840] Done creating record files...\u001b[0m\n",
      "\u001b[34m[03/21/2023 05:53:38 INFO 140106315691840] Searching for .lst files in /opt/ml/input/data/validation_lst.\u001b[0m\n",
      "\u001b[34m[03/21/2023 05:53:38 INFO 140106315691840] Creating record files for valid.lst\u001b[0m\n",
      "\u001b[34m[03/21/2023 05:53:39 INFO 140106315691840] Done creating record files...\u001b[0m\n",
      "\u001b[34m[03/21/2023 05:53:39 INFO 140106315691840] use_pretrained_model: 1\u001b[0m\n",
      "\u001b[34m[03/21/2023 05:53:39 INFO 140106315691840] multi_label: 0\u001b[0m\n",
      "\u001b[34m[03/21/2023 05:53:39 INFO 140106315691840] Using pretrained model for initializing weights and transfer learning.\u001b[0m\n",
      "\u001b[34m[03/21/2023 05:53:39 INFO 140106315691840] ---- Parameters ----\u001b[0m\n",
      "\u001b[34m[03/21/2023 05:53:39 INFO 140106315691840] num_layers: 18\u001b[0m\n",
      "\u001b[34m[03/21/2023 05:53:39 INFO 140106315691840] data type: <class 'numpy.float32'>\u001b[0m\n",
      "\u001b[34m[03/21/2023 05:53:39 INFO 140106315691840] epochs: 10\u001b[0m\n",
      "\u001b[34m[03/21/2023 05:53:39 INFO 140106315691840] image resize size: 256\u001b[0m\n",
      "\u001b[34m[03/21/2023 05:53:39 INFO 140106315691840] optimizer: sgd\u001b[0m\n",
      "\u001b[34m[03/21/2023 05:53:39 INFO 140106315691840] momentum: 0.9\u001b[0m\n",
      "\u001b[34m[03/21/2023 05:53:39 INFO 140106315691840] weight_decay: 0.0001\u001b[0m\n",
      "\u001b[34m[03/21/2023 05:53:39 INFO 140106315691840] learning_rate: 0.001\u001b[0m\n",
      "\u001b[34m[03/21/2023 05:53:39 INFO 140106315691840] num_training_samples: 36\u001b[0m\n",
      "\u001b[34m[03/21/2023 05:53:39 INFO 140106315691840] mini_batch_size: 8\u001b[0m\n",
      "\u001b[34m[03/21/2023 05:53:39 INFO 140106315691840] image_shape: 3,224,224\u001b[0m\n",
      "\u001b[34m[03/21/2023 05:53:39 INFO 140106315691840] num_classes: 3\u001b[0m\n",
      "\u001b[34m[03/21/2023 05:53:39 INFO 140106315691840] augmentation_type: crop_color_transform\u001b[0m\n",
      "\u001b[34m[03/21/2023 05:53:39 INFO 140106315691840] kv_store: device\u001b[0m\n",
      "\u001b[34m[03/21/2023 05:53:39 INFO 140106315691840] checkpoint_frequency not set, will store the best model\u001b[0m\n",
      "\u001b[34m[03/21/2023 05:53:39 INFO 140106315691840] --------------------\u001b[0m\n",
      "\u001b[34m[05:53:39] /opt/brazil-pkg-cache/packages/AIAlgorithmsMXNet/AIAlgorithmsMXNet-1.4.x_ecl_Cuda_11.1.x.136.0/AL2_x86_64/generic-flavor/src/src/nnvm/legacy_json_util.cc:209: Loading symbol saved by previous version v0.8.0. Attempting to upgrade...\u001b[0m\n",
      "\u001b[34m[05:53:39] /opt/brazil-pkg-cache/packages/AIAlgorithmsMXNet/AIAlgorithmsMXNet-1.4.x_ecl_Cuda_11.1.x.136.0/AL2_x86_64/generic-flavor/src/src/nnvm/legacy_json_util.cc:217: Symbol successfully upgraded!\u001b[0m\n",
      "\u001b[34m[03/21/2023 05:53:39 INFO 140106315691840] Setting number of threads: 3\u001b[0m\n",
      "\u001b[34m[05:53:43] /opt/brazil-pkg-cache/packages/AIAlgorithmsMXNet/AIAlgorithmsMXNet-1.4.x_ecl_Cuda_11.1.x.136.0/AL2_x86_64/generic-flavor/src/src/operator/nn/./cudnn/./cudnn_algoreg-inl.h:97: Running performance tests to find the best convolution algorithm, this can take a while... (setting env variable MXNET_CUDNN_AUTOTUNE_DEFAULT to 0 to disable)\u001b[0m\n",
      "\u001b[34m[03/21/2023 05:53:44 INFO 140106315691840] Epoch[0] Train-accuracy=0.343750\u001b[0m\n",
      "\u001b[34m[03/21/2023 05:53:44 INFO 140106315691840] Epoch[0] Time cost=1.767\u001b[0m\n",
      "\u001b[34m[03/21/2023 05:53:44 INFO 140106315691840] Epoch[0] Validation-accuracy=0.250000\u001b[0m\n",
      "\u001b[34m[03/21/2023 05:53:44 INFO 140106315691840] Storing the best model with validation accuracy: 0.250000\u001b[0m\n",
      "\u001b[34m[03/21/2023 05:53:45 INFO 140106315691840] Saved checkpoint to \"/opt/ml/model/image-classification-0001.params\"\u001b[0m\n",
      "\u001b[34m[03/21/2023 05:53:45 INFO 140106315691840] Epoch[1] Train-accuracy=0.500000\u001b[0m\n",
      "\u001b[34m[03/21/2023 05:53:45 INFO 140106315691840] Epoch[1] Time cost=0.416\u001b[0m\n",
      "\u001b[34m[03/21/2023 05:53:45 INFO 140106315691840] Epoch[1] Validation-accuracy=0.562500\u001b[0m\n",
      "\u001b[34m[03/21/2023 05:53:45 INFO 140106315691840] Storing the best model with validation accuracy: 0.562500\u001b[0m\n",
      "\u001b[34m[03/21/2023 05:53:46 INFO 140106315691840] Saved checkpoint to \"/opt/ml/model/image-classification-0002.params\"\u001b[0m\n",
      "\u001b[34m[03/21/2023 05:53:46 INFO 140106315691840] Epoch[2] Train-accuracy=0.968750\u001b[0m\n",
      "\u001b[34m[03/21/2023 05:53:46 INFO 140106315691840] Epoch[2] Time cost=0.281\u001b[0m\n",
      "\u001b[34m[03/21/2023 05:53:46 INFO 140106315691840] Epoch[2] Validation-accuracy=0.625000\u001b[0m\n",
      "\u001b[34m[03/21/2023 05:53:46 INFO 140106315691840] Storing the best model with validation accuracy: 0.625000\u001b[0m\n",
      "\u001b[34m[03/21/2023 05:53:46 INFO 140106315691840] Saved checkpoint to \"/opt/ml/model/image-classification-0003.params\"\u001b[0m\n"
     ]
    },
    {
     "name": "stdout",
     "output_type": "stream",
     "text": [
      "\u001b[34m[03/21/2023 05:53:47 INFO 140106315691840] Epoch[3] Train-accuracy=0.781250\u001b[0m\n",
      "\u001b[34m[03/21/2023 05:53:47 INFO 140106315691840] Epoch[3] Time cost=0.514\u001b[0m\n",
      "\u001b[34m[03/21/2023 05:53:47 INFO 140106315691840] Epoch[3] Validation-accuracy=0.812500\u001b[0m\n",
      "\u001b[34m[03/21/2023 05:53:47 INFO 140106315691840] Storing the best model with validation accuracy: 0.812500\u001b[0m\n",
      "\u001b[34m[03/21/2023 05:53:47 INFO 140106315691840] Saved checkpoint to \"/opt/ml/model/image-classification-0004.params\"\u001b[0m\n",
      "\u001b[34m[03/21/2023 05:53:48 INFO 140106315691840] Epoch[4] Train-accuracy=0.906250\u001b[0m\n",
      "\u001b[34m[03/21/2023 05:53:48 INFO 140106315691840] Epoch[4] Time cost=0.291\u001b[0m\n",
      "\u001b[34m[03/21/2023 05:53:48 INFO 140106315691840] Epoch[4] Validation-accuracy=0.750000\u001b[0m\n",
      "\u001b[34m[03/21/2023 05:53:49 INFO 140106315691840] Epoch[5] Train-accuracy=0.937500\u001b[0m\n",
      "\u001b[34m[03/21/2023 05:53:49 INFO 140106315691840] Epoch[5] Time cost=0.458\u001b[0m\n",
      "\u001b[34m[03/21/2023 05:53:49 INFO 140106315691840] Epoch[5] Validation-accuracy=0.875000\u001b[0m\n",
      "\u001b[34m[03/21/2023 05:53:49 INFO 140106315691840] Storing the best model with validation accuracy: 0.875000\u001b[0m\n",
      "\u001b[34m[03/21/2023 05:53:49 INFO 140106315691840] Saved checkpoint to \"/opt/ml/model/image-classification-0006.params\"\u001b[0m\n",
      "\u001b[34m[03/21/2023 05:53:49 INFO 140106315691840] Epoch[6] Train-accuracy=1.000000\u001b[0m\n",
      "\u001b[34m[03/21/2023 05:53:49 INFO 140106315691840] Epoch[6] Time cost=0.283\u001b[0m\n",
      "\u001b[34m[03/21/2023 05:53:49 INFO 140106315691840] Epoch[6] Validation-accuracy=0.750000\u001b[0m\n",
      "\u001b[34m[03/21/2023 05:53:50 INFO 140106315691840] Epoch[7] Train-accuracy=1.000000\u001b[0m\n",
      "\u001b[34m[03/21/2023 05:53:50 INFO 140106315691840] Epoch[7] Time cost=0.450\u001b[0m\n",
      "\u001b[34m[03/21/2023 05:53:50 INFO 140106315691840] Epoch[7] Validation-accuracy=0.875000\u001b[0m\n",
      "\u001b[34m[03/21/2023 05:53:51 INFO 140106315691840] Epoch[8] Train-accuracy=0.937500\u001b[0m\n",
      "\u001b[34m[03/21/2023 05:53:51 INFO 140106315691840] Epoch[8] Time cost=0.278\u001b[0m\n",
      "\u001b[34m[03/21/2023 05:53:51 INFO 140106315691840] Epoch[8] Validation-accuracy=0.750000\u001b[0m\n",
      "\u001b[34m[03/21/2023 05:53:52 INFO 140106315691840] Epoch[9] Train-accuracy=0.968750\u001b[0m\n",
      "\u001b[34m[03/21/2023 05:53:52 INFO 140106315691840] Epoch[9] Time cost=0.447\u001b[0m\n",
      "\u001b[34m[03/21/2023 05:53:52 INFO 140106315691840] Epoch[9] Validation-accuracy=0.875000\u001b[0m\n",
      "\n",
      "2023-03-21 05:53:56 Uploading - Uploading generated training model\n",
      "2023-03-21 05:54:16 Completed - Training job completed\n",
      "Training seconds: 257\n",
      "Billable seconds: 257\n"
     ]
    },
    {
     "data": {
      "application/javascript": [
       "\n",
       "            setTimeout(function() {\n",
       "                var nbb_cell_id = 15;\n",
       "                var nbb_unformatted_code = \"clf_estimator.fit(inputs=data_channels, logs=True, job_name=job_name)\";\n",
       "                var nbb_formatted_code = \"clf_estimator.fit(inputs=data_channels, logs=True, job_name=job_name)\";\n",
       "                var nbb_cells = Jupyter.notebook.get_cells();\n",
       "                for (var i = 0; i < nbb_cells.length; ++i) {\n",
       "                    if (nbb_cells[i].input_prompt_number == nbb_cell_id) {\n",
       "                        if (nbb_cells[i].get_text() == nbb_unformatted_code) {\n",
       "                             nbb_cells[i].set_text(nbb_formatted_code);\n",
       "                        }\n",
       "                        break;\n",
       "                    }\n",
       "                }\n",
       "            }, 500);\n",
       "            "
      ],
      "text/plain": [
       "<IPython.core.display.Javascript object>"
      ]
     },
     "metadata": {},
     "output_type": "display_data"
    }
   ],
   "source": [
    "clf_estimator.fit(inputs=data_channels, logs=True, job_name=job_name)"
   ]
  },
  {
   "cell_type": "code",
   "execution_count": null,
   "id": "d1bc0d53",
   "metadata": {},
   "outputs": [],
   "source": []
  },
  {
   "cell_type": "code",
   "execution_count": 16,
   "id": "0890d84a",
   "metadata": {},
   "outputs": [
    {
     "data": {
      "application/javascript": [
       "\n",
       "            setTimeout(function() {\n",
       "                var nbb_cell_id = 16;\n",
       "                var nbb_unformatted_code = \"infer_instance_type = \\\"ml.t2.medium\\\"\\nmodel_name = job_name\\nendpoint_name = job_name\";\n",
       "                var nbb_formatted_code = \"infer_instance_type = \\\"ml.t2.medium\\\"\\nmodel_name = job_name\\nendpoint_name = job_name\";\n",
       "                var nbb_cells = Jupyter.notebook.get_cells();\n",
       "                for (var i = 0; i < nbb_cells.length; ++i) {\n",
       "                    if (nbb_cells[i].input_prompt_number == nbb_cell_id) {\n",
       "                        if (nbb_cells[i].get_text() == nbb_unformatted_code) {\n",
       "                             nbb_cells[i].set_text(nbb_formatted_code);\n",
       "                        }\n",
       "                        break;\n",
       "                    }\n",
       "                }\n",
       "            }, 500);\n",
       "            "
      ],
      "text/plain": [
       "<IPython.core.display.Javascript object>"
      ]
     },
     "metadata": {},
     "output_type": "display_data"
    }
   ],
   "source": [
    "infer_instance_type = \"ml.t2.medium\"\n",
    "model_name = job_name\n",
    "endpoint_name = job_name"
   ]
  },
  {
   "cell_type": "code",
   "execution_count": 19,
   "id": "0968d19d",
   "metadata": {},
   "outputs": [
    {
     "name": "stderr",
     "output_type": "stream",
     "text": [
      "Creating model with name: flowers-clf-ib-resent-2023-03-21-16-47-50\n",
      "Creating endpoint-config with name flowers-clf-ib-resent-2023-03-21-16-47-50\n",
      "Creating endpoint with name flowers-clf-ib-resent-2023-03-21-16-47-50\n"
     ]
    },
    {
     "name": "stdout",
     "output_type": "stream",
     "text": [
      "-----------------------------------------------!"
     ]
    },
    {
     "data": {
      "application/javascript": [
       "\n",
       "            setTimeout(function() {\n",
       "                var nbb_cell_id = 19;\n",
       "                var nbb_unformatted_code = \"clf_predictor = clf_estimator.deploy(\\n    initial_instance_count=1,\\n    instance_type=infer_instance_type,\\n    endpoint_name=endpoint_name,\\n    model_name=model_name,\\n)\";\n",
       "                var nbb_formatted_code = \"clf_predictor = clf_estimator.deploy(\\n    initial_instance_count=1,\\n    instance_type=infer_instance_type,\\n    endpoint_name=endpoint_name,\\n    model_name=model_name,\\n)\";\n",
       "                var nbb_cells = Jupyter.notebook.get_cells();\n",
       "                for (var i = 0; i < nbb_cells.length; ++i) {\n",
       "                    if (nbb_cells[i].input_prompt_number == nbb_cell_id) {\n",
       "                        if (nbb_cells[i].get_text() == nbb_unformatted_code) {\n",
       "                             nbb_cells[i].set_text(nbb_formatted_code);\n",
       "                        }\n",
       "                        break;\n",
       "                    }\n",
       "                }\n",
       "            }, 500);\n",
       "            "
      ],
      "text/plain": [
       "<IPython.core.display.Javascript object>"
      ]
     },
     "metadata": {},
     "output_type": "display_data"
    }
   ],
   "source": [
    "clf_predictor = clf_estimator.deploy(\n",
    "    initial_instance_count=1,\n",
    "    instance_type=infer_instance_type,\n",
    "    endpoint_name=endpoint_name,\n",
    "    model_name=model_name,\n",
    ")"
   ]
  },
  {
   "cell_type": "code",
   "execution_count": 20,
   "id": "f13275ed",
   "metadata": {},
   "outputs": [
    {
     "data": {
      "application/javascript": [
       "\n",
       "            setTimeout(function() {\n",
       "                var nbb_cell_id = 20;\n",
       "                var nbb_unformatted_code = \"sgmkr_runt = boto3.client('runtime.sagemaker')\";\n",
       "                var nbb_formatted_code = \"sgmkr_runt = boto3.client(\\\"runtime.sagemaker\\\")\";\n",
       "                var nbb_cells = Jupyter.notebook.get_cells();\n",
       "                for (var i = 0; i < nbb_cells.length; ++i) {\n",
       "                    if (nbb_cells[i].input_prompt_number == nbb_cell_id) {\n",
       "                        if (nbb_cells[i].get_text() == nbb_unformatted_code) {\n",
       "                             nbb_cells[i].set_text(nbb_formatted_code);\n",
       "                        }\n",
       "                        break;\n",
       "                    }\n",
       "                }\n",
       "            }, 500);\n",
       "            "
      ],
      "text/plain": [
       "<IPython.core.display.Javascript object>"
      ]
     },
     "metadata": {},
     "output_type": "display_data"
    }
   ],
   "source": [
    "sgmkr_runt = boto3.client(\"runtime.sagemaker\")"
   ]
  },
  {
   "cell_type": "code",
   "execution_count": 21,
   "id": "fa70b32c",
   "metadata": {},
   "outputs": [
    {
     "name": "stdout",
     "output_type": "stream",
     "text": [
      "[0.0009680639486759901, 0.9901915788650513, 0.008840403519570827]\n"
     ]
    },
    {
     "data": {
      "application/javascript": [
       "\n",
       "            setTimeout(function() {\n",
       "                var nbb_cell_id = 21;\n",
       "                var nbb_unformatted_code = \"with open(\\\"images/rose.jpg\\\", \\\"rb\\\") as image:\\n        payload = image.read()\\n        payload = bytearray(payload)\\n        \\nresponse = sgmkr_runt.invoke_endpoint(\\n    EndpointName = endpoint_name,\\n    ContentType = 'image/jpeg',\\n    Accept = \\\"application/json;n_predictions=5\\\",\\n    Body = payload,\\n)\\n\\nprediction = json.loads(response['Body'].read().decode())\\nprint(prediction)\";\n",
       "                var nbb_formatted_code = \"with open(\\\"images/rose.jpg\\\", \\\"rb\\\") as image:\\n    payload = image.read()\\n    payload = bytearray(payload)\\n\\nresponse = sgmkr_runt.invoke_endpoint(\\n    EndpointName=endpoint_name,\\n    ContentType=\\\"image/jpeg\\\",\\n    Accept=\\\"application/json;n_predictions=5\\\",\\n    Body=payload,\\n)\\n\\nprediction = json.loads(response[\\\"Body\\\"].read().decode())\\nprint(prediction)\";\n",
       "                var nbb_cells = Jupyter.notebook.get_cells();\n",
       "                for (var i = 0; i < nbb_cells.length; ++i) {\n",
       "                    if (nbb_cells[i].input_prompt_number == nbb_cell_id) {\n",
       "                        if (nbb_cells[i].get_text() == nbb_unformatted_code) {\n",
       "                             nbb_cells[i].set_text(nbb_formatted_code);\n",
       "                        }\n",
       "                        break;\n",
       "                    }\n",
       "                }\n",
       "            }, 500);\n",
       "            "
      ],
      "text/plain": [
       "<IPython.core.display.Javascript object>"
      ]
     },
     "metadata": {},
     "output_type": "display_data"
    }
   ],
   "source": [
    "with open(\"images/rose.jpg\", \"rb\") as image:\n",
    "        payload = image.read()\n",
    "        payload = bytearray(payload)\n",
    "        \n",
    "response = sgmkr_runt.invoke_endpoint(\n",
    "    EndpointName = endpoint_name,\n",
    "    ContentType = 'image/jpeg',\n",
    "    Accept = \"application/json;verbose\",\n",
    "    Body = payload,\n",
    ")\n",
    "\n",
    "prediction = json.loads(response['Body'].read().decode())\n",
    "print(prediction)\n"
   ]
  },
  {
   "cell_type": "code",
   "execution_count": 22,
   "id": "ec51f0af",
   "metadata": {},
   "outputs": [
    {
     "name": "stderr",
     "output_type": "stream",
     "text": [
      "Deleting endpoint configuration with name: flowers-clf-ib-resent-2023-03-21-16-47-50\n",
      "Deleting endpoint with name: flowers-clf-ib-resent-2023-03-21-16-47-50\n"
     ]
    },
    {
     "data": {
      "application/javascript": [
       "\n",
       "            setTimeout(function() {\n",
       "                var nbb_cell_id = 22;\n",
       "                var nbb_unformatted_code = \"clf_predictor.delete_endpoint()\";\n",
       "                var nbb_formatted_code = \"clf_predictor.delete_endpoint()\";\n",
       "                var nbb_cells = Jupyter.notebook.get_cells();\n",
       "                for (var i = 0; i < nbb_cells.length; ++i) {\n",
       "                    if (nbb_cells[i].input_prompt_number == nbb_cell_id) {\n",
       "                        if (nbb_cells[i].get_text() == nbb_unformatted_code) {\n",
       "                             nbb_cells[i].set_text(nbb_formatted_code);\n",
       "                        }\n",
       "                        break;\n",
       "                    }\n",
       "                }\n",
       "            }, 500);\n",
       "            "
      ],
      "text/plain": [
       "<IPython.core.display.Javascript object>"
      ]
     },
     "metadata": {},
     "output_type": "display_data"
    }
   ],
   "source": [
    "clf_predictor.delete_endpoint()"
   ]
  },
  {
   "cell_type": "code",
   "execution_count": null,
   "id": "8e7b176a",
   "metadata": {},
   "outputs": [],
   "source": []
  },
  {
   "cell_type": "code",
   "execution_count": null,
   "id": "3d497a8b",
   "metadata": {},
   "outputs": [],
   "source": []
  },
  {
   "cell_type": "code",
   "execution_count": null,
   "id": "3aab6426",
   "metadata": {},
   "outputs": [],
   "source": []
  },
  {
   "cell_type": "code",
   "execution_count": null,
   "id": "48e262fb",
   "metadata": {},
   "outputs": [],
   "source": []
  },
  {
   "cell_type": "code",
   "execution_count": null,
   "id": "b76feda4",
   "metadata": {},
   "outputs": [],
   "source": []
  }
 ],
 "metadata": {
  "kernelspec": {
   "display_name": "Python 3 (ipykernel)",
   "language": "python",
   "name": "python3"
  },
  "language_info": {
   "codemirror_mode": {
    "name": "ipython",
    "version": 3
   },
   "file_extension": ".py",
   "mimetype": "text/x-python",
   "name": "python",
   "nbconvert_exporter": "python",
   "pygments_lexer": "ipython3",
   "version": "3.8.13"
  },
  "toc": {
   "base_numbering": 1,
   "nav_menu": {},
   "number_sections": true,
   "sideBar": true,
   "skip_h1_title": false,
   "title_cell": "Table of Contents",
   "title_sidebar": "Contents",
   "toc_cell": false,
   "toc_position": {},
   "toc_section_display": true,
   "toc_window_display": false
  }
 },
 "nbformat": 4,
 "nbformat_minor": 5
}

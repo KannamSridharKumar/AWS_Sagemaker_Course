{
 "cells": [
  {
   "cell_type": "code",
   "execution_count": 1,
   "id": "ed6c2862",
   "metadata": {},
   "outputs": [
    {
     "data": {
      "application/javascript": [
       "\n",
       "            setTimeout(function() {\n",
       "                var nbb_cell_id = 1;\n",
       "                var nbb_unformatted_code = \"%load_ext nb_black\";\n",
       "                var nbb_formatted_code = \"%load_ext nb_black\";\n",
       "                var nbb_cells = Jupyter.notebook.get_cells();\n",
       "                for (var i = 0; i < nbb_cells.length; ++i) {\n",
       "                    if (nbb_cells[i].input_prompt_number == nbb_cell_id) {\n",
       "                        if (nbb_cells[i].get_text() == nbb_unformatted_code) {\n",
       "                             nbb_cells[i].set_text(nbb_formatted_code);\n",
       "                        }\n",
       "                        break;\n",
       "                    }\n",
       "                }\n",
       "            }, 500);\n",
       "            "
      ],
      "text/plain": [
       "<IPython.core.display.Javascript object>"
      ]
     },
     "metadata": {},
     "output_type": "display_data"
    }
   ],
   "source": [
    "%load_ext nb_black"
   ]
  },
  {
   "cell_type": "code",
   "execution_count": 2,
   "id": "9dfcd02b",
   "metadata": {},
   "outputs": [
    {
     "data": {
      "application/javascript": [
       "\n",
       "            setTimeout(function() {\n",
       "                var nbb_cell_id = 2;\n",
       "                var nbb_unformatted_code = \"import json\\nimport pandas as pd\\nimport logging\\nfrom ipywidgets import Dropdown\";\n",
       "                var nbb_formatted_code = \"import json\\nimport pandas as pd\\nimport logging\\nfrom ipywidgets import Dropdown\";\n",
       "                var nbb_cells = Jupyter.notebook.get_cells();\n",
       "                for (var i = 0; i < nbb_cells.length; ++i) {\n",
       "                    if (nbb_cells[i].input_prompt_number == nbb_cell_id) {\n",
       "                        if (nbb_cells[i].get_text() == nbb_unformatted_code) {\n",
       "                             nbb_cells[i].set_text(nbb_formatted_code);\n",
       "                        }\n",
       "                        break;\n",
       "                    }\n",
       "                }\n",
       "            }, 500);\n",
       "            "
      ],
      "text/plain": [
       "<IPython.core.display.Javascript object>"
      ]
     },
     "metadata": {},
     "output_type": "display_data"
    }
   ],
   "source": [
    "import json\n",
    "import pandas as pd\n",
    "import logging\n",
    "from ipywidgets import Dropdown"
   ]
  },
  {
   "cell_type": "code",
   "execution_count": 3,
   "id": "05b1115c",
   "metadata": {},
   "outputs": [
    {
     "data": {
      "application/javascript": [
       "\n",
       "            setTimeout(function() {\n",
       "                var nbb_cell_id = 3;\n",
       "                var nbb_unformatted_code = \"import boto3\\nimport sagemaker\";\n",
       "                var nbb_formatted_code = \"import boto3\\nimport sagemaker\";\n",
       "                var nbb_cells = Jupyter.notebook.get_cells();\n",
       "                for (var i = 0; i < nbb_cells.length; ++i) {\n",
       "                    if (nbb_cells[i].input_prompt_number == nbb_cell_id) {\n",
       "                        if (nbb_cells[i].get_text() == nbb_unformatted_code) {\n",
       "                             nbb_cells[i].set_text(nbb_formatted_code);\n",
       "                        }\n",
       "                        break;\n",
       "                    }\n",
       "                }\n",
       "            }, 500);\n",
       "            "
      ],
      "text/plain": [
       "<IPython.core.display.Javascript object>"
      ]
     },
     "metadata": {},
     "output_type": "display_data"
    }
   ],
   "source": [
    "import boto3\n",
    "import sagemaker"
   ]
  },
  {
   "cell_type": "code",
   "execution_count": 4,
   "id": "82bd278d",
   "metadata": {},
   "outputs": [
    {
     "data": {
      "application/javascript": [
       "\n",
       "            setTimeout(function() {\n",
       "                var nbb_cell_id = 4;\n",
       "                var nbb_unformatted_code = \"boto3.set_stream_logger(name=\\\"botocore.credentials\\\", level=logging.WARNING)\";\n",
       "                var nbb_formatted_code = \"boto3.set_stream_logger(name=\\\"botocore.credentials\\\", level=logging.WARNING)\";\n",
       "                var nbb_cells = Jupyter.notebook.get_cells();\n",
       "                for (var i = 0; i < nbb_cells.length; ++i) {\n",
       "                    if (nbb_cells[i].input_prompt_number == nbb_cell_id) {\n",
       "                        if (nbb_cells[i].get_text() == nbb_unformatted_code) {\n",
       "                             nbb_cells[i].set_text(nbb_formatted_code);\n",
       "                        }\n",
       "                        break;\n",
       "                    }\n",
       "                }\n",
       "            }, 500);\n",
       "            "
      ],
      "text/plain": [
       "<IPython.core.display.Javascript object>"
      ]
     },
     "metadata": {},
     "output_type": "display_data"
    }
   ],
   "source": [
    "boto3.set_stream_logger(name=\"botocore.credentials\", level=logging.WARNING)"
   ]
  },
  {
   "cell_type": "code",
   "execution_count": 5,
   "id": "5019174d",
   "metadata": {},
   "outputs": [
    {
     "name": "stdout",
     "output_type": "stream",
     "text": [
      "ap-southeast-2\n"
     ]
    },
    {
     "data": {
      "application/javascript": [
       "\n",
       "            setTimeout(function() {\n",
       "                var nbb_cell_id = 5;\n",
       "                var nbb_unformatted_code = \"sess = sagemaker.Session()\\nregion = sess.boto_region_name\\nprint(region)\";\n",
       "                var nbb_formatted_code = \"sess = sagemaker.Session()\\nregion = sess.boto_region_name\\nprint(region)\";\n",
       "                var nbb_cells = Jupyter.notebook.get_cells();\n",
       "                for (var i = 0; i < nbb_cells.length; ++i) {\n",
       "                    if (nbb_cells[i].input_prompt_number == nbb_cell_id) {\n",
       "                        if (nbb_cells[i].get_text() == nbb_unformatted_code) {\n",
       "                             nbb_cells[i].set_text(nbb_formatted_code);\n",
       "                        }\n",
       "                        break;\n",
       "                    }\n",
       "                }\n",
       "            }, 500);\n",
       "            "
      ],
      "text/plain": [
       "<IPython.core.display.Javascript object>"
      ]
     },
     "metadata": {},
     "output_type": "display_data"
    }
   ],
   "source": [
    "sess = sagemaker.Session()\n",
    "region = sess.boto_region_name\n",
    "print(region)"
   ]
  },
  {
   "cell_type": "code",
   "execution_count": 6,
   "id": "3906511a",
   "metadata": {},
   "outputs": [
    {
     "name": "stdout",
     "output_type": "stream",
     "text": [
      "number of models:  2751\n"
     ]
    },
    {
     "data": {
      "application/javascript": [
       "\n",
       "            setTimeout(function() {\n",
       "                var nbb_cell_id = 6;\n",
       "                var nbb_unformatted_code = \"# download JumpStart model_manifest file.\\nboto3.client(\\\"s3\\\").download_file(\\n    f\\\"jumpstart-cache-prod-{region}\\\", \\\"models_manifest.json\\\", \\\"models_manifest.json\\\"\\n)\\nwith open(\\\"models_manifest.json\\\", \\\"rb\\\") as json_file:\\n    model_list = json.load(json_file)\\n\\nprint(\\\"number of models: \\\", len(model_list))\";\n",
       "                var nbb_formatted_code = \"# download JumpStart model_manifest file.\\nboto3.client(\\\"s3\\\").download_file(\\n    f\\\"jumpstart-cache-prod-{region}\\\", \\\"models_manifest.json\\\", \\\"models_manifest.json\\\"\\n)\\nwith open(\\\"models_manifest.json\\\", \\\"rb\\\") as json_file:\\n    model_list = json.load(json_file)\\n\\nprint(\\\"number of models: \\\", len(model_list))\";\n",
       "                var nbb_cells = Jupyter.notebook.get_cells();\n",
       "                for (var i = 0; i < nbb_cells.length; ++i) {\n",
       "                    if (nbb_cells[i].input_prompt_number == nbb_cell_id) {\n",
       "                        if (nbb_cells[i].get_text() == nbb_unformatted_code) {\n",
       "                             nbb_cells[i].set_text(nbb_formatted_code);\n",
       "                        }\n",
       "                        break;\n",
       "                    }\n",
       "                }\n",
       "            }, 500);\n",
       "            "
      ],
      "text/plain": [
       "<IPython.core.display.Javascript object>"
      ]
     },
     "metadata": {},
     "output_type": "display_data"
    }
   ],
   "source": [
    "# download JumpStart model_manifest file.\n",
    "boto3.client(\"s3\").download_file(\n",
    "    f\"jumpstart-cache-prod-{region}\", \"models_manifest.json\", \"models_manifest.json\"\n",
    ")\n",
    "with open(\"models_manifest.json\", \"rb\") as json_file:\n",
    "    model_list = json.load(json_file)\n",
    "\n",
    "print(\"number of models: \", len(model_list))"
   ]
  },
  {
   "cell_type": "code",
   "execution_count": 7,
   "id": "0dfaf25a",
   "metadata": {},
   "outputs": [
    {
     "data": {
      "text/html": [
       "<div><div id=6bccd46a-3c29-4652-b096-63b984778204 style=\"display:none; background-color:#9D6CFF; color:white; width:200px; height:30px; padding-left:5px; border-radius:4px; flex-direction:row; justify-content:space-around; align-items:center;\" onmouseover=\"this.style.backgroundColor='#BA9BF8'\" onmouseout=\"this.style.backgroundColor='#9D6CFF'\" onclick=\"window.commands?.execute('create-mitosheet-from-dataframe-output');\">See Full Dataframe in Mito</div> <script> if (window.commands?.hasCommand('create-mitosheet-from-dataframe-output')) document.getElementById('6bccd46a-3c29-4652-b096-63b984778204').style.display = 'flex' </script> <table border=\"1\" class=\"dataframe\">\n",
       "  <thead>\n",
       "    <tr style=\"text-align: right;\">\n",
       "      <th></th>\n",
       "      <th>model_id</th>\n",
       "      <th>version</th>\n",
       "      <th>min_version</th>\n",
       "      <th>spec_key</th>\n",
       "    </tr>\n",
       "  </thead>\n",
       "  <tbody>\n",
       "    <tr>\n",
       "      <th>1723</th>\n",
       "      <td>tensorflow-ic-imagenet-mobilenet-v1-100-224-classification-4</td>\n",
       "      <td>3.0.1</td>\n",
       "      <td>2.80.0</td>\n",
       "      <td>community_models/tensorflow-ic-imagenet-mobilenet-v1-100-224-classification-4/specs_v3.0.1.json</td>\n",
       "    </tr>\n",
       "    <tr>\n",
       "      <th>217</th>\n",
       "      <td>huggingface-summarization-distilbart-cnn-6-6</td>\n",
       "      <td>1.0.0</td>\n",
       "      <td>2.75.0</td>\n",
       "      <td>community_models/huggingface-summarization-distilbart-cnn-6-6/specs_v1.0.0.json</td>\n",
       "    </tr>\n",
       "    <tr>\n",
       "      <th>2504</th>\n",
       "      <td>tensorflow-spc-electra-base-1</td>\n",
       "      <td>1.0.0</td>\n",
       "      <td>2.75.0</td>\n",
       "      <td>community_models/tensorflow-spc-electra-base-1/specs_v1.0.0.json</td>\n",
       "    </tr>\n",
       "    <tr>\n",
       "      <th>1813</th>\n",
       "      <td>tensorflow-ic-imagenet-mobilenet-v2-100-224-classification-4</td>\n",
       "      <td>3.0.1</td>\n",
       "      <td>2.80.0</td>\n",
       "      <td>community_models/tensorflow-ic-imagenet-mobilenet-v2-100-224-classification-4/specs_v3.0.1.json</td>\n",
       "    </tr>\n",
       "    <tr>\n",
       "      <th>407</th>\n",
       "      <td>huggingface-txt2img-hassanblend-hassanblend1-4</td>\n",
       "      <td>1.0.0</td>\n",
       "      <td>2.81.0</td>\n",
       "      <td>community_models/huggingface-txt2img-hassanblend-hassanblend1-4/specs_v1.0.0.json</td>\n",
       "    </tr>\n",
       "    <tr>\n",
       "      <th>...</th>\n",
       "      <td>...</td>\n",
       "      <td>...</td>\n",
       "      <td>...</td>\n",
       "      <td>...</td>\n",
       "    </tr>\n",
       "    <tr>\n",
       "      <th>567</th>\n",
       "      <td>mxnet-od-faster-rcnn-fpn-resnet50-v1b-coco</td>\n",
       "      <td>1.0.0</td>\n",
       "      <td>2.75.0</td>\n",
       "      <td>community_models/mxnet-od-faster-rcnn-fpn-resnet50-v1b-coco/specs_v1.0.0.json</td>\n",
       "    </tr>\n",
       "    <tr>\n",
       "      <th>90</th>\n",
       "      <td>huggingface-spc-bert-base-multilingual-cased</td>\n",
       "      <td>1.1.0</td>\n",
       "      <td>2.75.0</td>\n",
       "      <td>community_models/huggingface-spc-bert-base-multilingual-cased/specs_v1.1.0.json</td>\n",
       "    </tr>\n",
       "    <tr>\n",
       "      <th>491</th>\n",
       "      <td>lightgbm-classification-model</td>\n",
       "      <td>1.3.1</td>\n",
       "      <td>2.75.0</td>\n",
       "      <td>community_models/lightgbm-classification-model/specs_v1.3.1.json</td>\n",
       "    </tr>\n",
       "    <tr>\n",
       "      <th>1520</th>\n",
       "      <td>tensorflow-ic-imagenet-inception-v2-classification-4</td>\n",
       "      <td>3.0.0</td>\n",
       "      <td>2.80.0</td>\n",
       "      <td>community_models/tensorflow-ic-imagenet-inception-v2-classification-4/specs_v3.0.0.json</td>\n",
       "    </tr>\n",
       "    <tr>\n",
       "      <th>2538</th>\n",
       "      <td>tensorflow-tc-bert-en-cased-L-24-H-1024-A-16-2</td>\n",
       "      <td>1.0.0</td>\n",
       "      <td>2.75.0</td>\n",
       "      <td>community_models/tensorflow-tc-bert-en-cased-L-24-H-1024-A-16-2/specs_v1.0.0.json</td>\n",
       "    </tr>\n",
       "  </tbody>\n",
       "</table></div>"
      ],
      "text/plain": [
       "                                               model_id version min_version  \\\n",
       "1723  tensorflow-ic-imagenet-mobilenet-v1-100-224-cl...   3.0.1      2.80.0   \n",
       "217        huggingface-summarization-distilbart-cnn-6-6   1.0.0      2.75.0   \n",
       "2504                      tensorflow-spc-electra-base-1   1.0.0      2.75.0   \n",
       "1813  tensorflow-ic-imagenet-mobilenet-v2-100-224-cl...   3.0.1      2.80.0   \n",
       "407      huggingface-txt2img-hassanblend-hassanblend1-4   1.0.0      2.81.0   \n",
       "2246  tensorflow-icembedding-imagenet-resnet-v2-152-...   1.0.0      2.75.0   \n",
       "1648  tensorflow-ic-imagenet-mobilenet-v1-075-128-cl...   1.1.0      2.75.0   \n",
       "83                      huggingface-spc-bert-base-cased   1.2.0      2.75.0   \n",
       "1750  tensorflow-ic-imagenet-mobilenet-v2-035-224-cl...   2.0.1      2.80.0   \n",
       "800           pytorch-eqa-roberta-large-openai-detector   1.2.1      2.75.0   \n",
       "442   huggingface-txt2img-rabidgremlin-sd-db-epic-sp...   1.0.0      2.81.0   \n",
       "1424  tensorflow-ic-efficientnet-lite4-classification-2   1.0.0      2.75.0   \n",
       "968                                 pytorch-ic-vgg13-bn   2.2.0      2.75.0   \n",
       "1505  tensorflow-ic-imagenet-inception-resnet-v2-cla...   1.0.0      2.75.0   \n",
       "342                     huggingface-textgeneration-gpt2   1.2.1      2.75.0   \n",
       "567          mxnet-od-faster-rcnn-fpn-resnet50-v1b-coco   1.0.0      2.75.0   \n",
       "90         huggingface-spc-bert-base-multilingual-cased   1.1.0      2.75.0   \n",
       "491                       lightgbm-classification-model   1.3.1      2.75.0   \n",
       "1520  tensorflow-ic-imagenet-inception-v2-classifica...   3.0.0      2.80.0   \n",
       "2538     tensorflow-tc-bert-en-cased-L-24-H-1024-A-16-2   1.0.0      2.75.0   \n",
       "\n",
       "                                               spec_key  \n",
       "1723  community_models/tensorflow-ic-imagenet-mobile...  \n",
       "217   community_models/huggingface-summarization-dis...  \n",
       "2504  community_models/tensorflow-spc-electra-base-1...  \n",
       "1813  community_models/tensorflow-ic-imagenet-mobile...  \n",
       "407   community_models/huggingface-txt2img-hassanble...  \n",
       "2246  community_models/tensorflow-icembedding-imagen...  \n",
       "1648  community_models/tensorflow-ic-imagenet-mobile...  \n",
       "83    community_models/huggingface-spc-bert-base-cas...  \n",
       "1750  community_models/tensorflow-ic-imagenet-mobile...  \n",
       "800   community_models/pytorch-eqa-roberta-large-ope...  \n",
       "442   community_models/huggingface-txt2img-rabidgrem...  \n",
       "1424  community_models/tensorflow-ic-efficientnet-li...  \n",
       "968   community_models/pytorch-ic-vgg13-bn/specs_v2....  \n",
       "1505  community_models/tensorflow-ic-imagenet-incept...  \n",
       "342   community_models/huggingface-textgeneration-gp...  \n",
       "567   community_models/mxnet-od-faster-rcnn-fpn-resn...  \n",
       "90    community_models/huggingface-spc-bert-base-mul...  \n",
       "491   community_models/lightgbm-classification-model...  \n",
       "1520  community_models/tensorflow-ic-imagenet-incept...  \n",
       "2538  community_models/tensorflow-tc-bert-en-cased-L...  "
      ]
     },
     "execution_count": 7,
     "metadata": {},
     "output_type": "execute_result"
    },
    {
     "data": {
      "application/javascript": [
       "\n",
       "            setTimeout(function() {\n",
       "                var nbb_cell_id = 7;\n",
       "                var nbb_unformatted_code = \"model_df = pd.DataFrame(model_list)\\nmodel_df.sample(20)\";\n",
       "                var nbb_formatted_code = \"model_df = pd.DataFrame(model_list)\\nmodel_df.sample(20)\";\n",
       "                var nbb_cells = Jupyter.notebook.get_cells();\n",
       "                for (var i = 0; i < nbb_cells.length; ++i) {\n",
       "                    if (nbb_cells[i].input_prompt_number == nbb_cell_id) {\n",
       "                        if (nbb_cells[i].get_text() == nbb_unformatted_code) {\n",
       "                             nbb_cells[i].set_text(nbb_formatted_code);\n",
       "                        }\n",
       "                        break;\n",
       "                    }\n",
       "                }\n",
       "            }, 500);\n",
       "            "
      ],
      "text/plain": [
       "<IPython.core.display.Javascript object>"
      ]
     },
     "metadata": {},
     "output_type": "display_data"
    }
   ],
   "source": [
    "model_df = pd.DataFrame(model_list)\n",
    "model_df.sample(20)"
   ]
  },
  {
   "cell_type": "code",
   "execution_count": 8,
   "id": "98dbecee",
   "metadata": {},
   "outputs": [
    {
     "name": "stdout",
     "output_type": "stream",
     "text": [
      "Number of od models available for inference: 70\n"
     ]
    },
    {
     "data": {
      "application/javascript": [
       "\n",
       "            setTimeout(function() {\n",
       "                var nbb_cell_id = 8;\n",
       "                var nbb_unformatted_code = \"# filter-out all the Object Detection models from the manifest list.\\nod_models = []\\nfor model in model_list:\\n    model_id = model[\\\"model_id\\\"]\\n    if (\\\"-od-\\\" in model_id or \\\"-od1-\\\" in model_id) and model_id not in od_models:\\n        od_models.append(model_id)\\n\\nprint(f\\\"Number of od models available for inference: {len(od_models)}\\\")\";\n",
       "                var nbb_formatted_code = \"# filter-out all the Object Detection models from the manifest list.\\nod_models = []\\nfor model in model_list:\\n    model_id = model[\\\"model_id\\\"]\\n    if (\\\"-od-\\\" in model_id or \\\"-od1-\\\" in model_id) and model_id not in od_models:\\n        od_models.append(model_id)\\n\\nprint(f\\\"Number of od models available for inference: {len(od_models)}\\\")\";\n",
       "                var nbb_cells = Jupyter.notebook.get_cells();\n",
       "                for (var i = 0; i < nbb_cells.length; ++i) {\n",
       "                    if (nbb_cells[i].input_prompt_number == nbb_cell_id) {\n",
       "                        if (nbb_cells[i].get_text() == nbb_unformatted_code) {\n",
       "                             nbb_cells[i].set_text(nbb_formatted_code);\n",
       "                        }\n",
       "                        break;\n",
       "                    }\n",
       "                }\n",
       "            }, 500);\n",
       "            "
      ],
      "text/plain": [
       "<IPython.core.display.Javascript object>"
      ]
     },
     "metadata": {},
     "output_type": "display_data"
    }
   ],
   "source": [
    "# filter-out all the Object Detection models from the manifest list.\n",
    "od_models = []\n",
    "for model in model_list:\n",
    "    model_id = model[\"model_id\"]\n",
    "    if (\"-od-\" in model_id or \"-od1-\" in model_id) and model_id not in od_models:\n",
    "        od_models.append(model_id)\n",
    "\n",
    "print(f\"Number of od models available for inference: {len(od_models)}\")"
   ]
  },
  {
   "cell_type": "code",
   "execution_count": 9,
   "id": "c54f827d",
   "metadata": {},
   "outputs": [
    {
     "data": {
      "application/javascript": [
       "\n",
       "            setTimeout(function() {\n",
       "                var nbb_cell_id = 9;\n",
       "                var nbb_unformatted_code = \"# display the model-ids in a dropdown to select a model for inference.\\ninfer_model_dropdown = Dropdown(\\n    options=od_models,\\n    value=\\\"pytorch-od-nvidia-ssd\\\",\\n    description=\\\"Select a model:\\\",\\n    style={\\\"description_width\\\": \\\"initial\\\"},\\n    layout={\\\"width\\\": \\\"max-content\\\"},\\n)\";\n",
       "                var nbb_formatted_code = \"# display the model-ids in a dropdown to select a model for inference.\\ninfer_model_dropdown = Dropdown(\\n    options=od_models,\\n    value=\\\"pytorch-od-nvidia-ssd\\\",\\n    description=\\\"Select a model:\\\",\\n    style={\\\"description_width\\\": \\\"initial\\\"},\\n    layout={\\\"width\\\": \\\"max-content\\\"},\\n)\";\n",
       "                var nbb_cells = Jupyter.notebook.get_cells();\n",
       "                for (var i = 0; i < nbb_cells.length; ++i) {\n",
       "                    if (nbb_cells[i].input_prompt_number == nbb_cell_id) {\n",
       "                        if (nbb_cells[i].get_text() == nbb_unformatted_code) {\n",
       "                             nbb_cells[i].set_text(nbb_formatted_code);\n",
       "                        }\n",
       "                        break;\n",
       "                    }\n",
       "                }\n",
       "            }, 500);\n",
       "            "
      ],
      "text/plain": [
       "<IPython.core.display.Javascript object>"
      ]
     },
     "metadata": {},
     "output_type": "display_data"
    }
   ],
   "source": [
    "# display the model-ids in a dropdown to select a model for inference.\n",
    "infer_model_dropdown = Dropdown(\n",
    "    options=od_models,\n",
    "    value=\"pytorch-od-nvidia-ssd\",\n",
    "    description=\"Select a model:\",\n",
    "    style={\"description_width\": \"initial\"},\n",
    "    layout={\"width\": \"max-content\"},\n",
    ")"
   ]
  },
  {
   "cell_type": "code",
   "execution_count": 10,
   "id": "7c5690e5",
   "metadata": {},
   "outputs": [
    {
     "data": {
      "application/vnd.jupyter.widget-view+json": {
       "model_id": "68415a87af95402e8075286476f4f0b6",
       "version_major": 2,
       "version_minor": 0
      },
      "text/plain": [
       "Dropdown(description='Select a model:', index=17, layout=Layout(width='max-content'), options=('mxnet-od-faste…"
      ]
     },
     "metadata": {},
     "output_type": "display_data"
    },
    {
     "data": {
      "application/javascript": [
       "\n",
       "            setTimeout(function() {\n",
       "                var nbb_cell_id = 10;\n",
       "                var nbb_unformatted_code = \"display(infer_model_dropdown)\";\n",
       "                var nbb_formatted_code = \"display(infer_model_dropdown)\";\n",
       "                var nbb_cells = Jupyter.notebook.get_cells();\n",
       "                for (var i = 0; i < nbb_cells.length; ++i) {\n",
       "                    if (nbb_cells[i].input_prompt_number == nbb_cell_id) {\n",
       "                        if (nbb_cells[i].get_text() == nbb_unformatted_code) {\n",
       "                             nbb_cells[i].set_text(nbb_formatted_code);\n",
       "                        }\n",
       "                        break;\n",
       "                    }\n",
       "                }\n",
       "            }, 500);\n",
       "            "
      ],
      "text/plain": [
       "<IPython.core.display.Javascript object>"
      ]
     },
     "metadata": {},
     "output_type": "display_data"
    }
   ],
   "source": [
    "display(infer_model_dropdown)\n"
   ]
  },
  {
   "cell_type": "code",
   "execution_count": 11,
   "id": "49017344",
   "metadata": {},
   "outputs": [
    {
     "name": "stdout",
     "output_type": "stream",
     "text": [
      "pytorch-od-nvidia-ssd\n"
     ]
    },
    {
     "data": {
      "application/javascript": [
       "\n",
       "            setTimeout(function() {\n",
       "                var nbb_cell_id = 11;\n",
       "                var nbb_unformatted_code = \"print(infer_model_dropdown.value)\";\n",
       "                var nbb_formatted_code = \"print(infer_model_dropdown.value)\";\n",
       "                var nbb_cells = Jupyter.notebook.get_cells();\n",
       "                for (var i = 0; i < nbb_cells.length; ++i) {\n",
       "                    if (nbb_cells[i].input_prompt_number == nbb_cell_id) {\n",
       "                        if (nbb_cells[i].get_text() == nbb_unformatted_code) {\n",
       "                             nbb_cells[i].set_text(nbb_formatted_code);\n",
       "                        }\n",
       "                        break;\n",
       "                    }\n",
       "                }\n",
       "            }, 500);\n",
       "            "
      ],
      "text/plain": [
       "<IPython.core.display.Javascript object>"
      ]
     },
     "metadata": {},
     "output_type": "display_data"
    }
   ],
   "source": [
    "print(infer_model_dropdown.value)"
   ]
  },
  {
   "cell_type": "code",
   "execution_count": null,
   "id": "322a43ea",
   "metadata": {},
   "outputs": [],
   "source": []
  },
  {
   "cell_type": "code",
   "execution_count": 12,
   "id": "5e3e00d8",
   "metadata": {},
   "outputs": [
    {
     "name": "stdout",
     "output_type": "stream",
     "text": [
      "Number of ic models available for inference: 162\n"
     ]
    },
    {
     "data": {
      "application/javascript": [
       "\n",
       "            setTimeout(function() {\n",
       "                var nbb_cell_id = 12;\n",
       "                var nbb_unformatted_code = \"# filter-out all the Image Classification models from the manifest list.\\nic_models = []\\nfor model in model_list:\\n    model_id = model[\\\"model_id\\\"]\\n    if (\\\"-ic-\\\" in model_id) and model_id not in ic_models:\\n        ic_models.append(model_id)\\n\\nprint(f\\\"Number of ic models available for inference: {len(ic_models)}\\\")\";\n",
       "                var nbb_formatted_code = \"# filter-out all the Image Classification models from the manifest list.\\nic_models = []\\nfor model in model_list:\\n    model_id = model[\\\"model_id\\\"]\\n    if (\\\"-ic-\\\" in model_id) and model_id not in ic_models:\\n        ic_models.append(model_id)\\n\\nprint(f\\\"Number of ic models available for inference: {len(ic_models)}\\\")\";\n",
       "                var nbb_cells = Jupyter.notebook.get_cells();\n",
       "                for (var i = 0; i < nbb_cells.length; ++i) {\n",
       "                    if (nbb_cells[i].input_prompt_number == nbb_cell_id) {\n",
       "                        if (nbb_cells[i].get_text() == nbb_unformatted_code) {\n",
       "                             nbb_cells[i].set_text(nbb_formatted_code);\n",
       "                        }\n",
       "                        break;\n",
       "                    }\n",
       "                }\n",
       "            }, 500);\n",
       "            "
      ],
      "text/plain": [
       "<IPython.core.display.Javascript object>"
      ]
     },
     "metadata": {},
     "output_type": "display_data"
    }
   ],
   "source": [
    "# filter-out all the Image Classification models from the manifest list.\n",
    "ic_models = []\n",
    "for model in model_list:\n",
    "    model_id = model[\"model_id\"]\n",
    "    if (\"-ic-\" in model_id) and model_id not in ic_models:\n",
    "        ic_models.append(model_id)\n",
    "\n",
    "print(f\"Number of ic models available for inference: {len(ic_models)}\")"
   ]
  },
  {
   "cell_type": "code",
   "execution_count": 13,
   "id": "c8308367",
   "metadata": {},
   "outputs": [
    {
     "data": {
      "application/javascript": [
       "\n",
       "            setTimeout(function() {\n",
       "                var nbb_cell_id = 13;\n",
       "                var nbb_unformatted_code = \"# display the model-ids in a dropdown to select a model for inference.\\ninfer_model_dropdown = Dropdown(\\n    options=ic_models,\\n    value=\\\"pytorch-ic-alexnet\\\",\\n    description=\\\"Select a model:\\\",\\n    style={\\\"description_width\\\": \\\"initial\\\"},\\n    layout={\\\"width\\\": \\\"max-content\\\"},\\n)\";\n",
       "                var nbb_formatted_code = \"# display the model-ids in a dropdown to select a model for inference.\\ninfer_model_dropdown = Dropdown(\\n    options=ic_models,\\n    value=\\\"pytorch-ic-alexnet\\\",\\n    description=\\\"Select a model:\\\",\\n    style={\\\"description_width\\\": \\\"initial\\\"},\\n    layout={\\\"width\\\": \\\"max-content\\\"},\\n)\";\n",
       "                var nbb_cells = Jupyter.notebook.get_cells();\n",
       "                for (var i = 0; i < nbb_cells.length; ++i) {\n",
       "                    if (nbb_cells[i].input_prompt_number == nbb_cell_id) {\n",
       "                        if (nbb_cells[i].get_text() == nbb_unformatted_code) {\n",
       "                             nbb_cells[i].set_text(nbb_formatted_code);\n",
       "                        }\n",
       "                        break;\n",
       "                    }\n",
       "                }\n",
       "            }, 500);\n",
       "            "
      ],
      "text/plain": [
       "<IPython.core.display.Javascript object>"
      ]
     },
     "metadata": {},
     "output_type": "display_data"
    }
   ],
   "source": [
    "# display the model-ids in a dropdown to select a model for inference.\n",
    "infer_model_dropdown = Dropdown(\n",
    "    options=ic_models,\n",
    "    value=\"pytorch-ic-alexnet\",\n",
    "    description=\"Select a model:\",\n",
    "    style={\"description_width\": \"initial\"},\n",
    "    layout={\"width\": \"max-content\"},\n",
    ")"
   ]
  },
  {
   "cell_type": "code",
   "execution_count": 14,
   "id": "994247f0",
   "metadata": {},
   "outputs": [
    {
     "data": {
      "application/vnd.jupyter.widget-view+json": {
       "model_id": "f3432818f2e94273a92c280c2b31f809",
       "version_major": 2,
       "version_minor": 0
      },
      "text/plain": [
       "Dropdown(description='Select a model:', layout=Layout(width='max-content'), options=('pytorch-ic-alexnet', 'py…"
      ]
     },
     "metadata": {},
     "output_type": "display_data"
    },
    {
     "data": {
      "application/javascript": [
       "\n",
       "            setTimeout(function() {\n",
       "                var nbb_cell_id = 14;\n",
       "                var nbb_unformatted_code = \"display(infer_model_dropdown)\";\n",
       "                var nbb_formatted_code = \"display(infer_model_dropdown)\";\n",
       "                var nbb_cells = Jupyter.notebook.get_cells();\n",
       "                for (var i = 0; i < nbb_cells.length; ++i) {\n",
       "                    if (nbb_cells[i].input_prompt_number == nbb_cell_id) {\n",
       "                        if (nbb_cells[i].get_text() == nbb_unformatted_code) {\n",
       "                             nbb_cells[i].set_text(nbb_formatted_code);\n",
       "                        }\n",
       "                        break;\n",
       "                    }\n",
       "                }\n",
       "            }, 500);\n",
       "            "
      ],
      "text/plain": [
       "<IPython.core.display.Javascript object>"
      ]
     },
     "metadata": {},
     "output_type": "display_data"
    }
   ],
   "source": [
    "display(infer_model_dropdown)"
   ]
  },
  {
   "cell_type": "code",
   "execution_count": 15,
   "id": "adaaab3f",
   "metadata": {},
   "outputs": [
    {
     "name": "stdout",
     "output_type": "stream",
     "text": [
      "pytorch-ic-alexnet\n"
     ]
    },
    {
     "data": {
      "application/javascript": [
       "\n",
       "            setTimeout(function() {\n",
       "                var nbb_cell_id = 15;\n",
       "                var nbb_unformatted_code = \"print(infer_model_dropdown.value)\";\n",
       "                var nbb_formatted_code = \"print(infer_model_dropdown.value)\";\n",
       "                var nbb_cells = Jupyter.notebook.get_cells();\n",
       "                for (var i = 0; i < nbb_cells.length; ++i) {\n",
       "                    if (nbb_cells[i].input_prompt_number == nbb_cell_id) {\n",
       "                        if (nbb_cells[i].get_text() == nbb_unformatted_code) {\n",
       "                             nbb_cells[i].set_text(nbb_formatted_code);\n",
       "                        }\n",
       "                        break;\n",
       "                    }\n",
       "                }\n",
       "            }, 500);\n",
       "            "
      ],
      "text/plain": [
       "<IPython.core.display.Javascript object>"
      ]
     },
     "metadata": {},
     "output_type": "display_data"
    }
   ],
   "source": [
    "print(infer_model_dropdown.value)"
   ]
  },
  {
   "cell_type": "code",
   "execution_count": null,
   "id": "77939aa6",
   "metadata": {},
   "outputs": [],
   "source": []
  },
  {
   "cell_type": "code",
   "execution_count": null,
   "id": "6382e45b",
   "metadata": {},
   "outputs": [],
   "source": []
  }
 ],
 "metadata": {
  "kernelspec": {
   "display_name": "Python 3 (ipykernel)",
   "language": "python",
   "name": "python3"
  },
  "language_info": {
   "codemirror_mode": {
    "name": "ipython",
    "version": 3
   },
   "file_extension": ".py",
   "mimetype": "text/x-python",
   "name": "python",
   "nbconvert_exporter": "python",
   "pygments_lexer": "ipython3",
   "version": "3.8.13"
  },
  "toc": {
   "base_numbering": 1,
   "nav_menu": {},
   "number_sections": true,
   "sideBar": true,
   "skip_h1_title": false,
   "title_cell": "Table of Contents",
   "title_sidebar": "Contents",
   "toc_cell": false,
   "toc_position": {},
   "toc_section_display": true,
   "toc_window_display": false
  }
 },
 "nbformat": 4,
 "nbformat_minor": 5
}

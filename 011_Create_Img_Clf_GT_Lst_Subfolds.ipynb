{
 "cells": [
  {
   "cell_type": "code",
   "execution_count": 1,
   "id": "1fd5b9fa",
   "metadata": {},
   "outputs": [
    {
     "data": {
      "application/javascript": [
       "\n",
       "            setTimeout(function() {\n",
       "                var nbb_cell_id = 1;\n",
       "                var nbb_unformatted_code = \"%load_ext nb_black\";\n",
       "                var nbb_formatted_code = \"%load_ext nb_black\";\n",
       "                var nbb_cells = Jupyter.notebook.get_cells();\n",
       "                for (var i = 0; i < nbb_cells.length; ++i) {\n",
       "                    if (nbb_cells[i].input_prompt_number == nbb_cell_id) {\n",
       "                        if (nbb_cells[i].get_text() == nbb_unformatted_code) {\n",
       "                             nbb_cells[i].set_text(nbb_formatted_code);\n",
       "                        }\n",
       "                        break;\n",
       "                    }\n",
       "                }\n",
       "            }, 500);\n",
       "            "
      ],
      "text/plain": [
       "<IPython.core.display.Javascript object>"
      ]
     },
     "metadata": {},
     "output_type": "display_data"
    }
   ],
   "source": [
    "%load_ext nb_black"
   ]
  },
  {
   "cell_type": "code",
   "execution_count": 2,
   "id": "0b5c37e1",
   "metadata": {},
   "outputs": [
    {
     "data": {
      "application/javascript": [
       "\n",
       "            setTimeout(function() {\n",
       "                var nbb_cell_id = 2;\n",
       "                var nbb_unformatted_code = \"import os\\nimport json\\nimport random\\nimport pandas as pd\\nimport shutil\";\n",
       "                var nbb_formatted_code = \"import os\\nimport json\\nimport random\\nimport pandas as pd\\nimport shutil\";\n",
       "                var nbb_cells = Jupyter.notebook.get_cells();\n",
       "                for (var i = 0; i < nbb_cells.length; ++i) {\n",
       "                    if (nbb_cells[i].input_prompt_number == nbb_cell_id) {\n",
       "                        if (nbb_cells[i].get_text() == nbb_unformatted_code) {\n",
       "                             nbb_cells[i].set_text(nbb_formatted_code);\n",
       "                        }\n",
       "                        break;\n",
       "                    }\n",
       "                }\n",
       "            }, 500);\n",
       "            "
      ],
      "text/plain": [
       "<IPython.core.display.Javascript object>"
      ]
     },
     "metadata": {},
     "output_type": "display_data"
    }
   ],
   "source": [
    "import os\n",
    "import json\n",
    "import random\n",
    "import pandas as pd\n",
    "import shutil"
   ]
  },
  {
   "cell_type": "code",
   "execution_count": 3,
   "id": "9d208225",
   "metadata": {},
   "outputs": [
    {
     "name": "stdout",
     "output_type": "stream",
     "text": [
      "mkdir: prepare_data/img_clf_lst_from_subfolds/train_imgs: File exists\n",
      "mkdir: prepare_data/img_clf_lst_from_subfolds/valid_imgs: File exists\n",
      "mkdir: prepare_data/img_clf_lst_from_subfolds/train_annots: File exists\n",
      "mkdir: prepare_data/img_clf_lst_from_subfolds/valid_annots: File exists\n"
     ]
    },
    {
     "data": {
      "application/javascript": [
       "\n",
       "            setTimeout(function() {\n",
       "                var nbb_cell_id = 3;\n",
       "                var nbb_unformatted_code = \"!mkdir prepare_data/img_clf_lst_from_subfolds/train_imgs\\n!mkdir prepare_data/img_clf_lst_from_subfolds/valid_imgs\\n!mkdir prepare_data/img_clf_lst_from_subfolds/train_annots\\n!mkdir prepare_data/img_clf_lst_from_subfolds/valid_annots\";\n",
       "                var nbb_formatted_code = \"!mkdir prepare_data/img_clf_lst_from_subfolds/train_imgs\\n!mkdir prepare_data/img_clf_lst_from_subfolds/valid_imgs\\n!mkdir prepare_data/img_clf_lst_from_subfolds/train_annots\\n!mkdir prepare_data/img_clf_lst_from_subfolds/valid_annots\";\n",
       "                var nbb_cells = Jupyter.notebook.get_cells();\n",
       "                for (var i = 0; i < nbb_cells.length; ++i) {\n",
       "                    if (nbb_cells[i].input_prompt_number == nbb_cell_id) {\n",
       "                        if (nbb_cells[i].get_text() == nbb_unformatted_code) {\n",
       "                             nbb_cells[i].set_text(nbb_formatted_code);\n",
       "                        }\n",
       "                        break;\n",
       "                    }\n",
       "                }\n",
       "            }, 500);\n",
       "            "
      ],
      "text/plain": [
       "<IPython.core.display.Javascript object>"
      ]
     },
     "metadata": {},
     "output_type": "display_data"
    }
   ],
   "source": [
    "!mkdir prepare_data/img_clf_lst_from_subfolds/train_imgs\n",
    "!mkdir prepare_data/img_clf_lst_from_subfolds/valid_imgs\n",
    "!mkdir prepare_data/img_clf_lst_from_subfolds/train_annots\n",
    "!mkdir prepare_data/img_clf_lst_from_subfolds/valid_annots"
   ]
  },
  {
   "cell_type": "code",
   "execution_count": 4,
   "id": "4d73f970",
   "metadata": {},
   "outputs": [
    {
     "name": "stdout",
     "output_type": "stream",
     "text": [
      "['9884712.jpg', '1715218.jpg', '1689226.jpg', '2400881.jpg', '3011846.jpg']\n",
      "['apple', 'apple', 'apple', 'apple', 'apple']\n"
     ]
    },
    {
     "data": {
      "application/javascript": [
       "\n",
       "            setTimeout(function() {\n",
       "                var nbb_cell_id = 4;\n",
       "                var nbb_unformatted_code = \"images = []\\nclasses = []\\n\\nfor path, subdirs, files in os.walk(\\n    \\\"prepare_data/img_clf_lst_from_subfolds/all_images\\\"\\n):\\n    for file in files:\\n        # print(os.path.join(path, name))\\n        if file == \\\".DS_Store\\\":\\n            continue\\n        else:\\n            images.append(file)\\n            classes.append(path.split(\\\"/\\\")[-1])\\n\\nprint(images[:5])\\nprint(classes[:5])\";\n",
       "                var nbb_formatted_code = \"images = []\\nclasses = []\\n\\nfor path, subdirs, files in os.walk(\\n    \\\"prepare_data/img_clf_lst_from_subfolds/all_images\\\"\\n):\\n    for file in files:\\n        # print(os.path.join(path, name))\\n        if file == \\\".DS_Store\\\":\\n            continue\\n        else:\\n            images.append(file)\\n            classes.append(path.split(\\\"/\\\")[-1])\\n\\nprint(images[:5])\\nprint(classes[:5])\";\n",
       "                var nbb_cells = Jupyter.notebook.get_cells();\n",
       "                for (var i = 0; i < nbb_cells.length; ++i) {\n",
       "                    if (nbb_cells[i].input_prompt_number == nbb_cell_id) {\n",
       "                        if (nbb_cells[i].get_text() == nbb_unformatted_code) {\n",
       "                             nbb_cells[i].set_text(nbb_formatted_code);\n",
       "                        }\n",
       "                        break;\n",
       "                    }\n",
       "                }\n",
       "            }, 500);\n",
       "            "
      ],
      "text/plain": [
       "<IPython.core.display.Javascript object>"
      ]
     },
     "metadata": {},
     "output_type": "display_data"
    }
   ],
   "source": [
    "images = []\n",
    "classes = []\n",
    "\n",
    "for path, subdirs, files in os.walk(\n",
    "    \"prepare_data/img_clf_lst_from_subfolds/all_images\"\n",
    "):\n",
    "    for file in files:\n",
    "        # print(os.path.join(path, name))\n",
    "        if file == \".DS_Store\":\n",
    "            continue\n",
    "        else:\n",
    "            images.append(file)\n",
    "            classes.append(path.split(\"/\")[-1])\n",
    "\n",
    "print(images[:5])\n",
    "print(classes[:5])"
   ]
  },
  {
   "cell_type": "code",
   "execution_count": 5,
   "id": "6cc6d86b",
   "metadata": {},
   "outputs": [
    {
     "data": {
      "text/html": [
       "<div><div id=355daa0c-e37e-47da-af98-dba41d746f02 style=\"display:none; background-color:#9D6CFF; color:white; width:200px; height:30px; padding-left:5px; border-radius:4px; flex-direction:row; justify-content:space-around; align-items:center;\" onmouseover=\"this.style.backgroundColor='#BA9BF8'\" onmouseout=\"this.style.backgroundColor='#9D6CFF'\" onclick=\"window.commands?.execute('create-mitosheet-from-dataframe-output');\">See Full Dataframe in Mito</div> <script> if (window.commands?.hasCommand('create-mitosheet-from-dataframe-output')) document.getElementById('355daa0c-e37e-47da-af98-dba41d746f02').style.display = 'flex' </script> <table border=\"1\" class=\"dataframe\">\n",
       "  <thead>\n",
       "    <tr style=\"text-align: right;\">\n",
       "      <th></th>\n",
       "      <th>image</th>\n",
       "      <th>class</th>\n",
       "    </tr>\n",
       "  </thead>\n",
       "  <tbody>\n",
       "    <tr>\n",
       "      <th>0</th>\n",
       "      <td>9884712.jpg</td>\n",
       "      <td>apple</td>\n",
       "    </tr>\n",
       "    <tr>\n",
       "      <th>1</th>\n",
       "      <td>1715218.jpg</td>\n",
       "      <td>apple</td>\n",
       "    </tr>\n",
       "    <tr>\n",
       "      <th>2</th>\n",
       "      <td>1689226.jpg</td>\n",
       "      <td>apple</td>\n",
       "    </tr>\n",
       "    <tr>\n",
       "      <th>3</th>\n",
       "      <td>2400881.jpg</td>\n",
       "      <td>apple</td>\n",
       "    </tr>\n",
       "    <tr>\n",
       "      <th>4</th>\n",
       "      <td>3011846.jpg</td>\n",
       "      <td>apple</td>\n",
       "    </tr>\n",
       "  </tbody>\n",
       "</table></div>"
      ],
      "text/plain": [
       "         image  class\n",
       "0  9884712.jpg  apple\n",
       "1  1715218.jpg  apple\n",
       "2  1689226.jpg  apple\n",
       "3  2400881.jpg  apple\n",
       "4  3011846.jpg  apple"
      ]
     },
     "execution_count": 5,
     "metadata": {},
     "output_type": "execute_result"
    },
    {
     "data": {
      "application/javascript": [
       "\n",
       "            setTimeout(function() {\n",
       "                var nbb_cell_id = 5;\n",
       "                var nbb_unformatted_code = \"gt_df = pd.DataFrame({\\\"image\\\": images, \\\"class\\\": classes})\\ngt_df.head()\";\n",
       "                var nbb_formatted_code = \"gt_df = pd.DataFrame({\\\"image\\\": images, \\\"class\\\": classes})\\ngt_df.head()\";\n",
       "                var nbb_cells = Jupyter.notebook.get_cells();\n",
       "                for (var i = 0; i < nbb_cells.length; ++i) {\n",
       "                    if (nbb_cells[i].input_prompt_number == nbb_cell_id) {\n",
       "                        if (nbb_cells[i].get_text() == nbb_unformatted_code) {\n",
       "                             nbb_cells[i].set_text(nbb_formatted_code);\n",
       "                        }\n",
       "                        break;\n",
       "                    }\n",
       "                }\n",
       "            }, 500);\n",
       "            "
      ],
      "text/plain": [
       "<IPython.core.display.Javascript object>"
      ]
     },
     "metadata": {},
     "output_type": "display_data"
    }
   ],
   "source": [
    "gt_df = pd.DataFrame({\"image\": images, \"class\": classes})\n",
    "gt_df.head()"
   ]
  },
  {
   "cell_type": "code",
   "execution_count": 6,
   "id": "45bceb20",
   "metadata": {},
   "outputs": [
    {
     "data": {
      "application/javascript": [
       "\n",
       "            setTimeout(function() {\n",
       "                var nbb_cell_id = 6;\n",
       "                var nbb_unformatted_code = \"# gt_df = pd.read_csv(\\n#     \\\"prepare_date/img_clf_lst/all_images_gt/clf_labels.csv\\\", header=None\\n# )\\n# gt_df.columns = [\\\"image\\\", \\\"class\\\"]\\n# gt_df.head()\";\n",
       "                var nbb_formatted_code = \"# gt_df = pd.read_csv(\\n#     \\\"prepare_date/img_clf_lst/all_images_gt/clf_labels.csv\\\", header=None\\n# )\\n# gt_df.columns = [\\\"image\\\", \\\"class\\\"]\\n# gt_df.head()\";\n",
       "                var nbb_cells = Jupyter.notebook.get_cells();\n",
       "                for (var i = 0; i < nbb_cells.length; ++i) {\n",
       "                    if (nbb_cells[i].input_prompt_number == nbb_cell_id) {\n",
       "                        if (nbb_cells[i].get_text() == nbb_unformatted_code) {\n",
       "                             nbb_cells[i].set_text(nbb_formatted_code);\n",
       "                        }\n",
       "                        break;\n",
       "                    }\n",
       "                }\n",
       "            }, 500);\n",
       "            "
      ],
      "text/plain": [
       "<IPython.core.display.Javascript object>"
      ]
     },
     "metadata": {},
     "output_type": "display_data"
    }
   ],
   "source": [
    "# gt_df = pd.read_csv(\n",
    "#     \"prepare_date/img_clf_lst/all_images_gt/clf_labels.csv\", header=None\n",
    "# )\n",
    "# gt_df.columns = [\"image\", \"class\"]\n",
    "# gt_df.head()"
   ]
  },
  {
   "cell_type": "code",
   "execution_count": 7,
   "id": "7ffde883",
   "metadata": {},
   "outputs": [
    {
     "name": "stdout",
     "output_type": "stream",
     "text": [
      "100 70 30\n"
     ]
    },
    {
     "data": {
      "application/javascript": [
       "\n",
       "            setTimeout(function() {\n",
       "                var nbb_cell_id = 7;\n",
       "                var nbb_unformatted_code = \"train_valid_split = 0.7\\nnimages = gt_df[\\\"image\\\"].nunique()\\nntrain = int(train_valid_split * nimages)\\nnvalid = nimages - ntrain\\nprint(nimages, ntrain, nvalid)\";\n",
       "                var nbb_formatted_code = \"train_valid_split = 0.7\\nnimages = gt_df[\\\"image\\\"].nunique()\\nntrain = int(train_valid_split * nimages)\\nnvalid = nimages - ntrain\\nprint(nimages, ntrain, nvalid)\";\n",
       "                var nbb_cells = Jupyter.notebook.get_cells();\n",
       "                for (var i = 0; i < nbb_cells.length; ++i) {\n",
       "                    if (nbb_cells[i].input_prompt_number == nbb_cell_id) {\n",
       "                        if (nbb_cells[i].get_text() == nbb_unformatted_code) {\n",
       "                             nbb_cells[i].set_text(nbb_formatted_code);\n",
       "                        }\n",
       "                        break;\n",
       "                    }\n",
       "                }\n",
       "            }, 500);\n",
       "            "
      ],
      "text/plain": [
       "<IPython.core.display.Javascript object>"
      ]
     },
     "metadata": {},
     "output_type": "display_data"
    }
   ],
   "source": [
    "train_valid_split = 0.7\n",
    "nimages = gt_df[\"image\"].nunique()\n",
    "ntrain = int(train_valid_split * nimages)\n",
    "nvalid = nimages - ntrain\n",
    "print(nimages, ntrain, nvalid)"
   ]
  },
  {
   "cell_type": "code",
   "execution_count": 8,
   "id": "ec6ebf84",
   "metadata": {},
   "outputs": [
    {
     "data": {
      "application/javascript": [
       "\n",
       "            setTimeout(function() {\n",
       "                var nbb_cell_id = 8;\n",
       "                var nbb_unformatted_code = \"# gt_df[\\\"class\\\"] = gt_df[\\\"class\\\"].apply(lambda x: x[1:-1])\\n# gt_df.head()\";\n",
       "                var nbb_formatted_code = \"# gt_df[\\\"class\\\"] = gt_df[\\\"class\\\"].apply(lambda x: x[1:-1])\\n# gt_df.head()\";\n",
       "                var nbb_cells = Jupyter.notebook.get_cells();\n",
       "                for (var i = 0; i < nbb_cells.length; ++i) {\n",
       "                    if (nbb_cells[i].input_prompt_number == nbb_cell_id) {\n",
       "                        if (nbb_cells[i].get_text() == nbb_unformatted_code) {\n",
       "                             nbb_cells[i].set_text(nbb_formatted_code);\n",
       "                        }\n",
       "                        break;\n",
       "                    }\n",
       "                }\n",
       "            }, 500);\n",
       "            "
      ],
      "text/plain": [
       "<IPython.core.display.Javascript object>"
      ]
     },
     "metadata": {},
     "output_type": "display_data"
    }
   ],
   "source": [
    "# gt_df[\"class\"] = gt_df[\"class\"].apply(lambda x: x[1:-1])\n",
    "# gt_df.head()"
   ]
  },
  {
   "cell_type": "code",
   "execution_count": 9,
   "id": "850284bd",
   "metadata": {},
   "outputs": [
    {
     "data": {
      "text/plain": [
       "{'apple': 0, 'orange': 1, 'banana': 2}"
      ]
     },
     "execution_count": 9,
     "metadata": {},
     "output_type": "execute_result"
    },
    {
     "data": {
      "application/javascript": [
       "\n",
       "            setTimeout(function() {\n",
       "                var nbb_cell_id = 9;\n",
       "                var nbb_unformatted_code = \"labels = [\\\"apple\\\", \\\"orange\\\", \\\"banana\\\"]\\nlabels_map = {k: v for v, k in enumerate(labels)}\\nwith open(\\\"prepare_data/img_clf_lst_from_subfolds/labels_map.json\\\", \\\"w\\\") as fp:\\n    json.dump(labels_map, fp)\\nlabels_map\";\n",
       "                var nbb_formatted_code = \"labels = [\\\"apple\\\", \\\"orange\\\", \\\"banana\\\"]\\nlabels_map = {k: v for v, k in enumerate(labels)}\\nwith open(\\\"prepare_data/img_clf_lst_from_subfolds/labels_map.json\\\", \\\"w\\\") as fp:\\n    json.dump(labels_map, fp)\\nlabels_map\";\n",
       "                var nbb_cells = Jupyter.notebook.get_cells();\n",
       "                for (var i = 0; i < nbb_cells.length; ++i) {\n",
       "                    if (nbb_cells[i].input_prompt_number == nbb_cell_id) {\n",
       "                        if (nbb_cells[i].get_text() == nbb_unformatted_code) {\n",
       "                             nbb_cells[i].set_text(nbb_formatted_code);\n",
       "                        }\n",
       "                        break;\n",
       "                    }\n",
       "                }\n",
       "            }, 500);\n",
       "            "
      ],
      "text/plain": [
       "<IPython.core.display.Javascript object>"
      ]
     },
     "metadata": {},
     "output_type": "display_data"
    }
   ],
   "source": [
    "labels = [\"apple\", \"orange\", \"banana\"]\n",
    "labels_map = {k: v for v, k in enumerate(labels)}\n",
    "with open(\"prepare_data/img_clf_lst_from_subfolds/labels_map.json\", \"w\") as fp:\n",
    "    json.dump(labels_map, fp)\n",
    "labels_map"
   ]
  },
  {
   "cell_type": "code",
   "execution_count": 10,
   "id": "7c15e546",
   "metadata": {},
   "outputs": [
    {
     "data": {
      "text/html": [
       "<div><div id=32e4751d-74d2-4894-9981-2a94331bad15 style=\"display:none; background-color:#9D6CFF; color:white; width:200px; height:30px; padding-left:5px; border-radius:4px; flex-direction:row; justify-content:space-around; align-items:center;\" onmouseover=\"this.style.backgroundColor='#BA9BF8'\" onmouseout=\"this.style.backgroundColor='#9D6CFF'\" onclick=\"window.commands?.execute('create-mitosheet-from-dataframe-output');\">See Full Dataframe in Mito</div> <script> if (window.commands?.hasCommand('create-mitosheet-from-dataframe-output')) document.getElementById('32e4751d-74d2-4894-9981-2a94331bad15').style.display = 'flex' </script> <table border=\"1\" class=\"dataframe\">\n",
       "  <thead>\n",
       "    <tr style=\"text-align: right;\">\n",
       "      <th></th>\n",
       "      <th>image</th>\n",
       "      <th>class</th>\n",
       "      <th>class_id</th>\n",
       "    </tr>\n",
       "  </thead>\n",
       "  <tbody>\n",
       "    <tr>\n",
       "      <th>0</th>\n",
       "      <td>9884712.jpg</td>\n",
       "      <td>apple</td>\n",
       "      <td>0</td>\n",
       "    </tr>\n",
       "    <tr>\n",
       "      <th>1</th>\n",
       "      <td>1715218.jpg</td>\n",
       "      <td>apple</td>\n",
       "      <td>0</td>\n",
       "    </tr>\n",
       "    <tr>\n",
       "      <th>2</th>\n",
       "      <td>1689226.jpg</td>\n",
       "      <td>apple</td>\n",
       "      <td>0</td>\n",
       "    </tr>\n",
       "    <tr>\n",
       "      <th>3</th>\n",
       "      <td>2400881.jpg</td>\n",
       "      <td>apple</td>\n",
       "      <td>0</td>\n",
       "    </tr>\n",
       "    <tr>\n",
       "      <th>4</th>\n",
       "      <td>3011846.jpg</td>\n",
       "      <td>apple</td>\n",
       "      <td>0</td>\n",
       "    </tr>\n",
       "  </tbody>\n",
       "</table></div>"
      ],
      "text/plain": [
       "         image  class  class_id\n",
       "0  9884712.jpg  apple         0\n",
       "1  1715218.jpg  apple         0\n",
       "2  1689226.jpg  apple         0\n",
       "3  2400881.jpg  apple         0\n",
       "4  3011846.jpg  apple         0"
      ]
     },
     "execution_count": 10,
     "metadata": {},
     "output_type": "execute_result"
    },
    {
     "data": {
      "application/javascript": [
       "\n",
       "            setTimeout(function() {\n",
       "                var nbb_cell_id = 10;\n",
       "                var nbb_unformatted_code = \"gt_df[\\\"class_id\\\"] = gt_df[\\\"class\\\"].map(labels_map)\\ngt_df.head()\";\n",
       "                var nbb_formatted_code = \"gt_df[\\\"class_id\\\"] = gt_df[\\\"class\\\"].map(labels_map)\\ngt_df.head()\";\n",
       "                var nbb_cells = Jupyter.notebook.get_cells();\n",
       "                for (var i = 0; i < nbb_cells.length; ++i) {\n",
       "                    if (nbb_cells[i].input_prompt_number == nbb_cell_id) {\n",
       "                        if (nbb_cells[i].get_text() == nbb_unformatted_code) {\n",
       "                             nbb_cells[i].set_text(nbb_formatted_code);\n",
       "                        }\n",
       "                        break;\n",
       "                    }\n",
       "                }\n",
       "            }, 500);\n",
       "            "
      ],
      "text/plain": [
       "<IPython.core.display.Javascript object>"
      ]
     },
     "metadata": {},
     "output_type": "display_data"
    }
   ],
   "source": [
    "gt_df[\"class_id\"] = gt_df[\"class\"].map(labels_map)\n",
    "gt_df.head()"
   ]
  },
  {
   "cell_type": "code",
   "execution_count": 11,
   "id": "a45eec7c",
   "metadata": {},
   "outputs": [
    {
     "data": {
      "text/html": [
       "<div><div id=1e0dfe38-bbe8-4948-b7a5-fe76394adbaa style=\"display:none; background-color:#9D6CFF; color:white; width:200px; height:30px; padding-left:5px; border-radius:4px; flex-direction:row; justify-content:space-around; align-items:center;\" onmouseover=\"this.style.backgroundColor='#BA9BF8'\" onmouseout=\"this.style.backgroundColor='#9D6CFF'\" onclick=\"window.commands?.execute('create-mitosheet-from-dataframe-output');\">See Full Dataframe in Mito</div> <script> if (window.commands?.hasCommand('create-mitosheet-from-dataframe-output')) document.getElementById('1e0dfe38-bbe8-4948-b7a5-fe76394adbaa').style.display = 'flex' </script> <table border=\"1\" class=\"dataframe\">\n",
       "  <thead>\n",
       "    <tr style=\"text-align: right;\">\n",
       "      <th></th>\n",
       "      <th>image</th>\n",
       "      <th>class</th>\n",
       "      <th>class_id</th>\n",
       "    </tr>\n",
       "  </thead>\n",
       "  <tbody>\n",
       "    <tr>\n",
       "      <th>0</th>\n",
       "      <td>9693628.jpg</td>\n",
       "      <td>banana</td>\n",
       "      <td>2</td>\n",
       "    </tr>\n",
       "    <tr>\n",
       "      <th>1</th>\n",
       "      <td>4783824.jpg</td>\n",
       "      <td>orange</td>\n",
       "      <td>1</td>\n",
       "    </tr>\n",
       "    <tr>\n",
       "      <th>2</th>\n",
       "      <td>9653494.jpg</td>\n",
       "      <td>orange</td>\n",
       "      <td>1</td>\n",
       "    </tr>\n",
       "    <tr>\n",
       "      <th>3</th>\n",
       "      <td>6461325.jpg</td>\n",
       "      <td>banana</td>\n",
       "      <td>2</td>\n",
       "    </tr>\n",
       "    <tr>\n",
       "      <th>4</th>\n",
       "      <td>7633179.jpg</td>\n",
       "      <td>banana</td>\n",
       "      <td>2</td>\n",
       "    </tr>\n",
       "  </tbody>\n",
       "</table></div>"
      ],
      "text/plain": [
       "         image   class  class_id\n",
       "0  9693628.jpg  banana         2\n",
       "1  4783824.jpg  orange         1\n",
       "2  9653494.jpg  orange         1\n",
       "3  6461325.jpg  banana         2\n",
       "4  7633179.jpg  banana         2"
      ]
     },
     "execution_count": 11,
     "metadata": {},
     "output_type": "execute_result"
    },
    {
     "data": {
      "application/javascript": [
       "\n",
       "            setTimeout(function() {\n",
       "                var nbb_cell_id = 11;\n",
       "                var nbb_unformatted_code = \"gt_df = gt_df.sample(frac=1).reset_index(drop=True)\\ngt_df.head()\";\n",
       "                var nbb_formatted_code = \"gt_df = gt_df.sample(frac=1).reset_index(drop=True)\\ngt_df.head()\";\n",
       "                var nbb_cells = Jupyter.notebook.get_cells();\n",
       "                for (var i = 0; i < nbb_cells.length; ++i) {\n",
       "                    if (nbb_cells[i].input_prompt_number == nbb_cell_id) {\n",
       "                        if (nbb_cells[i].get_text() == nbb_unformatted_code) {\n",
       "                             nbb_cells[i].set_text(nbb_formatted_code);\n",
       "                        }\n",
       "                        break;\n",
       "                    }\n",
       "                }\n",
       "            }, 500);\n",
       "            "
      ],
      "text/plain": [
       "<IPython.core.display.Javascript object>"
      ]
     },
     "metadata": {},
     "output_type": "display_data"
    }
   ],
   "source": [
    "gt_df = gt_df.sample(frac=1).reset_index(drop=True)\n",
    "gt_df.head()"
   ]
  },
  {
   "cell_type": "code",
   "execution_count": 12,
   "id": "5148a4c1",
   "metadata": {},
   "outputs": [
    {
     "data": {
      "text/html": [
       "<div><div id=c28ae040-e127-4271-b340-097b036b10db style=\"display:none; background-color:#9D6CFF; color:white; width:200px; height:30px; padding-left:5px; border-radius:4px; flex-direction:row; justify-content:space-around; align-items:center;\" onmouseover=\"this.style.backgroundColor='#BA9BF8'\" onmouseout=\"this.style.backgroundColor='#9D6CFF'\" onclick=\"window.commands?.execute('create-mitosheet-from-dataframe-output');\">See Full Dataframe in Mito</div> <script> if (window.commands?.hasCommand('create-mitosheet-from-dataframe-output')) document.getElementById('c28ae040-e127-4271-b340-097b036b10db').style.display = 'flex' </script> <table border=\"1\" class=\"dataframe\">\n",
       "  <thead>\n",
       "    <tr style=\"text-align: right;\">\n",
       "      <th></th>\n",
       "      <th>image</th>\n",
       "      <th>class</th>\n",
       "      <th>class_id</th>\n",
       "      <th>index</th>\n",
       "    </tr>\n",
       "  </thead>\n",
       "  <tbody>\n",
       "    <tr>\n",
       "      <th>0</th>\n",
       "      <td>9693628.jpg</td>\n",
       "      <td>banana</td>\n",
       "      <td>2</td>\n",
       "      <td>1</td>\n",
       "    </tr>\n",
       "    <tr>\n",
       "      <th>1</th>\n",
       "      <td>4783824.jpg</td>\n",
       "      <td>orange</td>\n",
       "      <td>1</td>\n",
       "      <td>2</td>\n",
       "    </tr>\n",
       "    <tr>\n",
       "      <th>2</th>\n",
       "      <td>9653494.jpg</td>\n",
       "      <td>orange</td>\n",
       "      <td>1</td>\n",
       "      <td>3</td>\n",
       "    </tr>\n",
       "    <tr>\n",
       "      <th>3</th>\n",
       "      <td>6461325.jpg</td>\n",
       "      <td>banana</td>\n",
       "      <td>2</td>\n",
       "      <td>4</td>\n",
       "    </tr>\n",
       "    <tr>\n",
       "      <th>4</th>\n",
       "      <td>7633179.jpg</td>\n",
       "      <td>banana</td>\n",
       "      <td>2</td>\n",
       "      <td>5</td>\n",
       "    </tr>\n",
       "  </tbody>\n",
       "</table></div>"
      ],
      "text/plain": [
       "         image   class  class_id  index\n",
       "0  9693628.jpg  banana         2      1\n",
       "1  4783824.jpg  orange         1      2\n",
       "2  9653494.jpg  orange         1      3\n",
       "3  6461325.jpg  banana         2      4\n",
       "4  7633179.jpg  banana         2      5"
      ]
     },
     "execution_count": 12,
     "metadata": {},
     "output_type": "execute_result"
    },
    {
     "data": {
      "application/javascript": [
       "\n",
       "            setTimeout(function() {\n",
       "                var nbb_cell_id = 12;\n",
       "                var nbb_unformatted_code = \"gt_df[\\\"index\\\"] = gt_df.index + 1\\ngt_df.head()\";\n",
       "                var nbb_formatted_code = \"gt_df[\\\"index\\\"] = gt_df.index + 1\\ngt_df.head()\";\n",
       "                var nbb_cells = Jupyter.notebook.get_cells();\n",
       "                for (var i = 0; i < nbb_cells.length; ++i) {\n",
       "                    if (nbb_cells[i].input_prompt_number == nbb_cell_id) {\n",
       "                        if (nbb_cells[i].get_text() == nbb_unformatted_code) {\n",
       "                             nbb_cells[i].set_text(nbb_formatted_code);\n",
       "                        }\n",
       "                        break;\n",
       "                    }\n",
       "                }\n",
       "            }, 500);\n",
       "            "
      ],
      "text/plain": [
       "<IPython.core.display.Javascript object>"
      ]
     },
     "metadata": {},
     "output_type": "display_data"
    }
   ],
   "source": [
    "gt_df[\"index\"] = gt_df.index + 1\n",
    "gt_df.head()"
   ]
  },
  {
   "cell_type": "code",
   "execution_count": 21,
   "id": "84af2739",
   "metadata": {},
   "outputs": [
    {
     "name": "stdout",
     "output_type": "stream",
     "text": [
      "1\t2\t4985315.jpg\r\n",
      "2\t0\t1168697.jpg\r\n",
      "3\t2\t9071244.jpg\r\n",
      "4\t0\t8159023.jpg\r\n",
      "5\t2\t9638460.jpg\r\n"
     ]
    },
    {
     "data": {
      "application/javascript": [
       "\n",
       "            setTimeout(function() {\n",
       "                var nbb_cell_id = 21;\n",
       "                var nbb_unformatted_code = \"sel_cols = [\\\"index\\\", \\\"class_id\\\", \\\"image\\\"]\\ngt_df[sel_cols].head(ntrain).to_csv(\\n    \\\"prepare_data/img_clf_lst_from_subfolds/train_annots/train.lst\\\",\\n    sep=\\\"\\\\t\\\",\\n    index=False,\\n    header=False,\\n)\\n!head -n 5 prepare_data/img_clf_lst/train_annots/train.lst\";\n",
       "                var nbb_formatted_code = \"sel_cols = [\\\"index\\\", \\\"class_id\\\", \\\"image\\\"]\\ngt_df[sel_cols].head(ntrain).to_csv(\\n    \\\"prepare_data/img_clf_lst_from_subfolds/train_annots/train.lst\\\",\\n    sep=\\\"\\\\t\\\",\\n    index=False,\\n    header=False,\\n)\\n!head -n 5 prepare_data/img_clf_lst/train_annots/train.lst\";\n",
       "                var nbb_cells = Jupyter.notebook.get_cells();\n",
       "                for (var i = 0; i < nbb_cells.length; ++i) {\n",
       "                    if (nbb_cells[i].input_prompt_number == nbb_cell_id) {\n",
       "                        if (nbb_cells[i].get_text() == nbb_unformatted_code) {\n",
       "                             nbb_cells[i].set_text(nbb_formatted_code);\n",
       "                        }\n",
       "                        break;\n",
       "                    }\n",
       "                }\n",
       "            }, 500);\n",
       "            "
      ],
      "text/plain": [
       "<IPython.core.display.Javascript object>"
      ]
     },
     "metadata": {},
     "output_type": "display_data"
    }
   ],
   "source": [
    "sel_cols = [\"index\", \"class_id\", \"image\"]\n",
    "gt_df[sel_cols].head(ntrain).to_csv(\n",
    "    \"prepare_data/img_clf_lst_from_subfolds/train_annots/train.lst\",\n",
    "    sep=\"\\t\",\n",
    "    index=False,\n",
    "    header=False,\n",
    ")\n",
    "!head -n 5 prepare_data/img_clf_lst/train_annots/train.lst"
   ]
  },
  {
   "cell_type": "code",
   "execution_count": 22,
   "id": "a7450c34",
   "metadata": {},
   "outputs": [
    {
     "name": "stdout",
     "output_type": "stream",
     "text": [
      "71\t0\t8132975.jpg\r\n",
      "72\t1\t3224044.jpg\r\n",
      "73\t2\t2746994.jpg\r\n",
      "74\t0\t6361494.jpg\r\n",
      "75\t2\t1813817.jpg\r\n"
     ]
    },
    {
     "data": {
      "application/javascript": [
       "\n",
       "            setTimeout(function() {\n",
       "                var nbb_cell_id = 22;\n",
       "                var nbb_unformatted_code = \"gt_df[sel_cols].tail(nvalid).to_csv(\\n    \\\"prepare_data/img_clf_lst_from_subfolds/valid_annots/valid.lst\\\",\\n    sep=\\\"\\\\t\\\",\\n    index=False,\\n    header=False,\\n)\\n!head -n 5 prepare_data/img_clf_lst/valid_annots/valid.lst\";\n",
       "                var nbb_formatted_code = \"gt_df[sel_cols].tail(nvalid).to_csv(\\n    \\\"prepare_data/img_clf_lst_from_subfolds/valid_annots/valid.lst\\\",\\n    sep=\\\"\\\\t\\\",\\n    index=False,\\n    header=False,\\n)\\n!head -n 5 prepare_data/img_clf_lst/valid_annots/valid.lst\";\n",
       "                var nbb_cells = Jupyter.notebook.get_cells();\n",
       "                for (var i = 0; i < nbb_cells.length; ++i) {\n",
       "                    if (nbb_cells[i].input_prompt_number == nbb_cell_id) {\n",
       "                        if (nbb_cells[i].get_text() == nbb_unformatted_code) {\n",
       "                             nbb_cells[i].set_text(nbb_formatted_code);\n",
       "                        }\n",
       "                        break;\n",
       "                    }\n",
       "                }\n",
       "            }, 500);\n",
       "            "
      ],
      "text/plain": [
       "<IPython.core.display.Javascript object>"
      ]
     },
     "metadata": {},
     "output_type": "display_data"
    }
   ],
   "source": [
    "gt_df[sel_cols].tail(nvalid).to_csv(\n",
    "    \"prepare_data/img_clf_lst_from_subfolds/valid_annots/valid.lst\",\n",
    "    sep=\"\\t\",\n",
    "    index=False,\n",
    "    header=False,\n",
    ")\n",
    "!head -n 5 prepare_data/img_clf_lst/valid_annots/valid.lst"
   ]
  },
  {
   "cell_type": "code",
   "execution_count": 15,
   "id": "be15aa92",
   "metadata": {},
   "outputs": [
    {
     "name": "stdout",
     "output_type": "stream",
     "text": [
      "mkdir: prepare_data/img_clf_lst_from_subfolds/all_images_tmp: File exists\r\n"
     ]
    },
    {
     "data": {
      "application/javascript": [
       "\n",
       "            setTimeout(function() {\n",
       "                var nbb_cell_id = 15;\n",
       "                var nbb_unformatted_code = \"!mkdir prepare_data/img_clf_lst_from_subfolds/all_images_tmp\\nfor label in labels:\\n    !cp prepare_data/img_clf_lst_from_subfolds/all_images/{label}/* prepare_data/img_clf_lst_from_subfolds/all_images_tmp/\";\n",
       "                var nbb_formatted_code = \"!mkdir prepare_data/img_clf_lst_from_subfolds/all_images_tmp\\nfor label in labels:\\n    !cp prepare_data/img_clf_lst_from_subfolds/all_images/{label}/* prepare_data/img_clf_lst_from_subfolds/all_images_tmp/\";\n",
       "                var nbb_cells = Jupyter.notebook.get_cells();\n",
       "                for (var i = 0; i < nbb_cells.length; ++i) {\n",
       "                    if (nbb_cells[i].input_prompt_number == nbb_cell_id) {\n",
       "                        if (nbb_cells[i].get_text() == nbb_unformatted_code) {\n",
       "                             nbb_cells[i].set_text(nbb_formatted_code);\n",
       "                        }\n",
       "                        break;\n",
       "                    }\n",
       "                }\n",
       "            }, 500);\n",
       "            "
      ],
      "text/plain": [
       "<IPython.core.display.Javascript object>"
      ]
     },
     "metadata": {},
     "output_type": "display_data"
    }
   ],
   "source": [
    "!mkdir prepare_data/img_clf_lst_from_subfolds/all_images_tmp\n",
    "for label in labels:\n",
    "    !cp prepare_data/img_clf_lst_from_subfolds/all_images/{label}/* prepare_data/img_clf_lst_from_subfolds/all_images_tmp/"
   ]
  },
  {
   "cell_type": "code",
   "execution_count": 16,
   "id": "09377ae3",
   "metadata": {},
   "outputs": [
    {
     "data": {
      "application/javascript": [
       "\n",
       "            setTimeout(function() {\n",
       "                var nbb_cell_id = 16;\n",
       "                var nbb_unformatted_code = \"train_df = pd.read_csv(\\n    \\\"prepare_data/img_clf_lst_from_subfolds/train_annots/train.lst\\\",\\n    sep=\\\"\\\\t\\\",\\n    header=None,\\n)\\nimages = list(train_df[2].values)\\nfor image in images:\\n    shutil.copy(\\n        \\\"prepare_data/img_clf_lst_from_subfolds/all_images_tmp/\\\" + image,\\n        \\\"prepare_data/img_clf_lst_from_subfolds/train_imgs/\\\",\\n    )\";\n",
       "                var nbb_formatted_code = \"train_df = pd.read_csv(\\n    \\\"prepare_data/img_clf_lst_from_subfolds/train_annots/train.lst\\\",\\n    sep=\\\"\\\\t\\\",\\n    header=None,\\n)\\nimages = list(train_df[2].values)\\nfor image in images:\\n    shutil.copy(\\n        \\\"prepare_data/img_clf_lst_from_subfolds/all_images_tmp/\\\" + image,\\n        \\\"prepare_data/img_clf_lst_from_subfolds/train_imgs/\\\",\\n    )\";\n",
       "                var nbb_cells = Jupyter.notebook.get_cells();\n",
       "                for (var i = 0; i < nbb_cells.length; ++i) {\n",
       "                    if (nbb_cells[i].input_prompt_number == nbb_cell_id) {\n",
       "                        if (nbb_cells[i].get_text() == nbb_unformatted_code) {\n",
       "                             nbb_cells[i].set_text(nbb_formatted_code);\n",
       "                        }\n",
       "                        break;\n",
       "                    }\n",
       "                }\n",
       "            }, 500);\n",
       "            "
      ],
      "text/plain": [
       "<IPython.core.display.Javascript object>"
      ]
     },
     "metadata": {},
     "output_type": "display_data"
    }
   ],
   "source": [
    "train_df = pd.read_csv(\n",
    "    \"prepare_data/img_clf_lst_from_subfolds/train_annots/train.lst\",\n",
    "    sep=\"\\t\",\n",
    "    header=None,\n",
    ")\n",
    "images = list(train_df[2].values)\n",
    "for image in images:\n",
    "    shutil.copy(\n",
    "        \"prepare_data/img_clf_lst_from_subfolds/all_images_tmp/\" + image,\n",
    "        \"prepare_data/img_clf_lst_from_subfolds/train_imgs/\",\n",
    "    )"
   ]
  },
  {
   "cell_type": "code",
   "execution_count": 17,
   "id": "16ff9807",
   "metadata": {},
   "outputs": [
    {
     "data": {
      "application/javascript": [
       "\n",
       "            setTimeout(function() {\n",
       "                var nbb_cell_id = 17;\n",
       "                var nbb_unformatted_code = \"valid_df = pd.read_csv(\\n    \\\"prepare_data/img_clf_lst/valid_annots/valid.lst\\\", sep=\\\"\\\\t\\\", header=None\\n)\\nimages = list(valid_df[2].values)\\nfor image in images:\\n    shutil.copy(\\n        \\\"prepare_data/img_clf_lst_from_subfolds/all_images_tmp/\\\" + image,\\n        \\\"prepare_data/img_clf_lst_from_subfolds/valid_imgs/\\\",\\n    )\";\n",
       "                var nbb_formatted_code = \"valid_df = pd.read_csv(\\n    \\\"prepare_data/img_clf_lst/valid_annots/valid.lst\\\", sep=\\\"\\\\t\\\", header=None\\n)\\nimages = list(valid_df[2].values)\\nfor image in images:\\n    shutil.copy(\\n        \\\"prepare_data/img_clf_lst_from_subfolds/all_images_tmp/\\\" + image,\\n        \\\"prepare_data/img_clf_lst_from_subfolds/valid_imgs/\\\",\\n    )\";\n",
       "                var nbb_cells = Jupyter.notebook.get_cells();\n",
       "                for (var i = 0; i < nbb_cells.length; ++i) {\n",
       "                    if (nbb_cells[i].input_prompt_number == nbb_cell_id) {\n",
       "                        if (nbb_cells[i].get_text() == nbb_unformatted_code) {\n",
       "                             nbb_cells[i].set_text(nbb_formatted_code);\n",
       "                        }\n",
       "                        break;\n",
       "                    }\n",
       "                }\n",
       "            }, 500);\n",
       "            "
      ],
      "text/plain": [
       "<IPython.core.display.Javascript object>"
      ]
     },
     "metadata": {},
     "output_type": "display_data"
    }
   ],
   "source": [
    "valid_df = pd.read_csv(\n",
    "    \"prepare_data/img_clf_lst/valid_annots/valid.lst\", sep=\"\\t\", header=None\n",
    ")\n",
    "images = list(valid_df[2].values)\n",
    "for image in images:\n",
    "    shutil.copy(\n",
    "        \"prepare_data/img_clf_lst_from_subfolds/all_images_tmp/\" + image,\n",
    "        \"prepare_data/img_clf_lst_from_subfolds/valid_imgs/\",\n",
    "    )"
   ]
  },
  {
   "cell_type": "code",
   "execution_count": 18,
   "id": "e6909606",
   "metadata": {},
   "outputs": [
    {
     "data": {
      "application/javascript": [
       "\n",
       "            setTimeout(function() {\n",
       "                var nbb_cell_id = 18;\n",
       "                var nbb_unformatted_code = \"!rm -r prepare_data/img_clf_lst_from_subfolds/all_images_tmp\";\n",
       "                var nbb_formatted_code = \"!rm -r prepare_data/img_clf_lst_from_subfolds/all_images_tmp\";\n",
       "                var nbb_cells = Jupyter.notebook.get_cells();\n",
       "                for (var i = 0; i < nbb_cells.length; ++i) {\n",
       "                    if (nbb_cells[i].input_prompt_number == nbb_cell_id) {\n",
       "                        if (nbb_cells[i].get_text() == nbb_unformatted_code) {\n",
       "                             nbb_cells[i].set_text(nbb_formatted_code);\n",
       "                        }\n",
       "                        break;\n",
       "                    }\n",
       "                }\n",
       "            }, 500);\n",
       "            "
      ],
      "text/plain": [
       "<IPython.core.display.Javascript object>"
      ]
     },
     "metadata": {},
     "output_type": "display_data"
    }
   ],
   "source": [
    "!rm -r prepare_data/img_clf_lst_from_subfolds/all_images_tmp"
   ]
  },
  {
   "cell_type": "code",
   "execution_count": null,
   "id": "cdf3edd3",
   "metadata": {},
   "outputs": [],
   "source": []
  },
  {
   "cell_type": "code",
   "execution_count": null,
   "id": "cc3844f2",
   "metadata": {},
   "outputs": [],
   "source": []
  },
  {
   "cell_type": "code",
   "execution_count": null,
   "id": "7434f33a",
   "metadata": {},
   "outputs": [],
   "source": []
  },
  {
   "cell_type": "code",
   "execution_count": null,
   "id": "3a098913",
   "metadata": {},
   "outputs": [],
   "source": []
  },
  {
   "cell_type": "code",
   "execution_count": 19,
   "id": "5c01064b",
   "metadata": {},
   "outputs": [
    {
     "data": {
      "application/javascript": [
       "\n",
       "            setTimeout(function() {\n",
       "                var nbb_cell_id = 19;\n",
       "                var nbb_unformatted_code = \"# import ast\\n# labels = [\\\"apple\\\", \\\"orange\\\", \\\"banana\\\"]\\n# imgs = [str(random.randint(1000000, 9999999)) + \\\".jpg\\\" for i in range(100)]\\n# for img in imgs:\\n#     shutil.copy(\\\"images/rose.jpg\\\", \\\"prepare_date/img_clf_lst/all_images_gt/\\\" + img)\\n# clss = [random.sample(labels, 1) for i in range(100)]\\n# clss = [str(cl).replace(\\\"'\\\", \\\"\\\") for cl in clss]\\n# gt_df = pd.DataFrame({\\\"image\\\": imgs, \\\"class\\\": clss})\\n# gt_df.to_csv(\\\"prepare_date/img_clf_lst/all_images_gt/clf_labels.csv\\\", index=False)\\n# gt_df.head()\";\n",
       "                var nbb_formatted_code = \"# import ast\\n# labels = [\\\"apple\\\", \\\"orange\\\", \\\"banana\\\"]\\n# imgs = [str(random.randint(1000000, 9999999)) + \\\".jpg\\\" for i in range(100)]\\n# for img in imgs:\\n#     shutil.copy(\\\"images/rose.jpg\\\", \\\"prepare_date/img_clf_lst/all_images_gt/\\\" + img)\\n# clss = [random.sample(labels, 1) for i in range(100)]\\n# clss = [str(cl).replace(\\\"'\\\", \\\"\\\") for cl in clss]\\n# gt_df = pd.DataFrame({\\\"image\\\": imgs, \\\"class\\\": clss})\\n# gt_df.to_csv(\\\"prepare_date/img_clf_lst/all_images_gt/clf_labels.csv\\\", index=False)\\n# gt_df.head()\";\n",
       "                var nbb_cells = Jupyter.notebook.get_cells();\n",
       "                for (var i = 0; i < nbb_cells.length; ++i) {\n",
       "                    if (nbb_cells[i].input_prompt_number == nbb_cell_id) {\n",
       "                        if (nbb_cells[i].get_text() == nbb_unformatted_code) {\n",
       "                             nbb_cells[i].set_text(nbb_formatted_code);\n",
       "                        }\n",
       "                        break;\n",
       "                    }\n",
       "                }\n",
       "            }, 500);\n",
       "            "
      ],
      "text/plain": [
       "<IPython.core.display.Javascript object>"
      ]
     },
     "metadata": {},
     "output_type": "display_data"
    }
   ],
   "source": []
  },
  {
   "cell_type": "code",
   "execution_count": 20,
   "id": "acb8f9ce",
   "metadata": {},
   "outputs": [
    {
     "data": {
      "application/javascript": [
       "\n",
       "            setTimeout(function() {\n",
       "                var nbb_cell_id = 20;\n",
       "                var nbb_unformatted_code = \"# !head clf_labels.csv\\n# !head /Users/sridharkannam/Desktop/makesense_images/classfication/labels_my-project-name_2023-03-25-02-26-43.csv\";\n",
       "                var nbb_formatted_code = \"# !head clf_labels.csv\\n# !head /Users/sridharkannam/Desktop/makesense_images/classfication/labels_my-project-name_2023-03-25-02-26-43.csv\";\n",
       "                var nbb_cells = Jupyter.notebook.get_cells();\n",
       "                for (var i = 0; i < nbb_cells.length; ++i) {\n",
       "                    if (nbb_cells[i].input_prompt_number == nbb_cell_id) {\n",
       "                        if (nbb_cells[i].get_text() == nbb_unformatted_code) {\n",
       "                             nbb_cells[i].set_text(nbb_formatted_code);\n",
       "                        }\n",
       "                        break;\n",
       "                    }\n",
       "                }\n",
       "            }, 500);\n",
       "            "
      ],
      "text/plain": [
       "<IPython.core.display.Javascript object>"
      ]
     },
     "metadata": {},
     "output_type": "display_data"
    }
   ],
   "source": []
  }
 ],
 "metadata": {
  "kernelspec": {
   "display_name": "Python 3 (ipykernel)",
   "language": "python",
   "name": "python3"
  },
  "language_info": {
   "codemirror_mode": {
    "name": "ipython",
    "version": 3
   },
   "file_extension": ".py",
   "mimetype": "text/x-python",
   "name": "python",
   "nbconvert_exporter": "python",
   "pygments_lexer": "ipython3",
   "version": "3.8.13"
  },
  "toc": {
   "base_numbering": 1,
   "nav_menu": {},
   "number_sections": true,
   "sideBar": true,
   "skip_h1_title": false,
   "title_cell": "Table of Contents",
   "title_sidebar": "Contents",
   "toc_cell": false,
   "toc_position": {},
   "toc_section_display": true,
   "toc_window_display": false
  }
 },
 "nbformat": 4,
 "nbformat_minor": 5
}

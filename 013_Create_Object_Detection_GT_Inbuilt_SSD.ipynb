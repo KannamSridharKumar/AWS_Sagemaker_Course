{
 "cells": [
  {
   "cell_type": "code",
   "execution_count": 1,
   "id": "1fd5b9fa",
   "metadata": {},
   "outputs": [
    {
     "data": {
      "application/javascript": [
       "\n",
       "            setTimeout(function() {\n",
       "                var nbb_cell_id = 1;\n",
       "                var nbb_unformatted_code = \"%load_ext nb_black\";\n",
       "                var nbb_formatted_code = \"%load_ext nb_black\";\n",
       "                var nbb_cells = Jupyter.notebook.get_cells();\n",
       "                for (var i = 0; i < nbb_cells.length; ++i) {\n",
       "                    if (nbb_cells[i].input_prompt_number == nbb_cell_id) {\n",
       "                        if (nbb_cells[i].get_text() == nbb_unformatted_code) {\n",
       "                             nbb_cells[i].set_text(nbb_formatted_code);\n",
       "                        }\n",
       "                        break;\n",
       "                    }\n",
       "                }\n",
       "            }, 500);\n",
       "            "
      ],
      "text/plain": [
       "<IPython.core.display.Javascript object>"
      ]
     },
     "metadata": {},
     "output_type": "display_data"
    }
   ],
   "source": [
    "%load_ext nb_black"
   ]
  },
  {
   "cell_type": "code",
   "execution_count": 2,
   "id": "0b5c37e1",
   "metadata": {},
   "outputs": [
    {
     "data": {
      "application/javascript": [
       "\n",
       "            setTimeout(function() {\n",
       "                var nbb_cell_id = 2;\n",
       "                var nbb_unformatted_code = \"import os\\nimport json\\nimport random\\nimport pandas as pd\\nimport shutil\";\n",
       "                var nbb_formatted_code = \"import os\\nimport json\\nimport random\\nimport pandas as pd\\nimport shutil\";\n",
       "                var nbb_cells = Jupyter.notebook.get_cells();\n",
       "                for (var i = 0; i < nbb_cells.length; ++i) {\n",
       "                    if (nbb_cells[i].input_prompt_number == nbb_cell_id) {\n",
       "                        if (nbb_cells[i].get_text() == nbb_unformatted_code) {\n",
       "                             nbb_cells[i].set_text(nbb_formatted_code);\n",
       "                        }\n",
       "                        break;\n",
       "                    }\n",
       "                }\n",
       "            }, 500);\n",
       "            "
      ],
      "text/plain": [
       "<IPython.core.display.Javascript object>"
      ]
     },
     "metadata": {},
     "output_type": "display_data"
    }
   ],
   "source": [
    "import os\n",
    "import json\n",
    "import random\n",
    "import pandas as pd\n",
    "import shutil"
   ]
  },
  {
   "cell_type": "code",
   "execution_count": 3,
   "id": "9d208225",
   "metadata": {},
   "outputs": [
    {
     "data": {
      "application/javascript": [
       "\n",
       "            setTimeout(function() {\n",
       "                var nbb_cell_id = 3;\n",
       "                var nbb_unformatted_code = \"!mkdir prepare_data/obj_det_ssd_json/train_imgs\\n!mkdir prepare_data/obj_det_ssd_json/valid_imgs\\n!mkdir prepare_data/obj_det_ssd_json/train_annots\\n!mkdir prepare_data/obj_det_ssd_json/valid_annots\";\n",
       "                var nbb_formatted_code = \"!mkdir prepare_data/obj_det_ssd_json/train_imgs\\n!mkdir prepare_data/obj_det_ssd_json/valid_imgs\\n!mkdir prepare_data/obj_det_ssd_json/train_annots\\n!mkdir prepare_data/obj_det_ssd_json/valid_annots\";\n",
       "                var nbb_cells = Jupyter.notebook.get_cells();\n",
       "                for (var i = 0; i < nbb_cells.length; ++i) {\n",
       "                    if (nbb_cells[i].input_prompt_number == nbb_cell_id) {\n",
       "                        if (nbb_cells[i].get_text() == nbb_unformatted_code) {\n",
       "                             nbb_cells[i].set_text(nbb_formatted_code);\n",
       "                        }\n",
       "                        break;\n",
       "                    }\n",
       "                }\n",
       "            }, 500);\n",
       "            "
      ],
      "text/plain": [
       "<IPython.core.display.Javascript object>"
      ]
     },
     "metadata": {},
     "output_type": "display_data"
    }
   ],
   "source": [
    "!mkdir prepare_data/obj_det_ssd_json/train_imgs\n",
    "!mkdir prepare_data/obj_det_ssd_json/valid_imgs\n",
    "!mkdir prepare_data/obj_det_ssd_json/train_annots\n",
    "!mkdir prepare_data/obj_det_ssd_json/valid_annots"
   ]
  },
  {
   "cell_type": "code",
   "execution_count": null,
   "id": "4d73f970",
   "metadata": {},
   "outputs": [],
   "source": []
  },
  {
   "cell_type": "code",
   "execution_count": 4,
   "id": "45bceb20",
   "metadata": {},
   "outputs": [
    {
     "name": "stdout",
     "output_type": "stream",
     "text": [
      "(161, 8)\n"
     ]
    },
    {
     "data": {
      "text/html": [
       "<div><div id=a25f6841-7bd2-4af1-bccc-cf9b28bc2120 style=\"display:none; background-color:#9D6CFF; color:white; width:200px; height:30px; padding-left:5px; border-radius:4px; flex-direction:row; justify-content:space-around; align-items:center;\" onmouseover=\"this.style.backgroundColor='#BA9BF8'\" onmouseout=\"this.style.backgroundColor='#9D6CFF'\" onclick=\"window.commands?.execute('create-mitosheet-from-dataframe-output');\">See Full Dataframe in Mito</div> <script> if (window.commands?.hasCommand('create-mitosheet-from-dataframe-output')) document.getElementById('a25f6841-7bd2-4af1-bccc-cf9b28bc2120').style.display = 'flex' </script> <table border=\"1\" class=\"dataframe\">\n",
       "  <thead>\n",
       "    <tr style=\"text-align: right;\">\n",
       "      <th></th>\n",
       "      <th>label_name</th>\n",
       "      <th>bbox_x</th>\n",
       "      <th>bbox_y</th>\n",
       "      <th>bbox_width</th>\n",
       "      <th>bbox_height</th>\n",
       "      <th>image_name</th>\n",
       "      <th>image_width</th>\n",
       "      <th>image_height</th>\n",
       "    </tr>\n",
       "  </thead>\n",
       "  <tbody>\n",
       "    <tr>\n",
       "      <th>0</th>\n",
       "      <td>apple</td>\n",
       "      <td>76</td>\n",
       "      <td>31</td>\n",
       "      <td>410</td>\n",
       "      <td>350</td>\n",
       "      <td>7385219.jpg</td>\n",
       "      <td>705</td>\n",
       "      <td>724</td>\n",
       "    </tr>\n",
       "    <tr>\n",
       "      <th>1</th>\n",
       "      <td>orange</td>\n",
       "      <td>169</td>\n",
       "      <td>172</td>\n",
       "      <td>396</td>\n",
       "      <td>465</td>\n",
       "      <td>7385219.jpg</td>\n",
       "      <td>705</td>\n",
       "      <td>724</td>\n",
       "    </tr>\n",
       "    <tr>\n",
       "      <th>2</th>\n",
       "      <td>apple</td>\n",
       "      <td>143</td>\n",
       "      <td>54</td>\n",
       "      <td>357</td>\n",
       "      <td>341</td>\n",
       "      <td>3503298.jpg</td>\n",
       "      <td>730</td>\n",
       "      <td>725</td>\n",
       "    </tr>\n",
       "    <tr>\n",
       "      <th>3</th>\n",
       "      <td>banana</td>\n",
       "      <td>101</td>\n",
       "      <td>186</td>\n",
       "      <td>481</td>\n",
       "      <td>363</td>\n",
       "      <td>3503298.jpg</td>\n",
       "      <td>730</td>\n",
       "      <td>725</td>\n",
       "    </tr>\n",
       "    <tr>\n",
       "      <th>4</th>\n",
       "      <td>apple</td>\n",
       "      <td>81</td>\n",
       "      <td>40</td>\n",
       "      <td>473</td>\n",
       "      <td>332</td>\n",
       "      <td>3503298.jpg</td>\n",
       "      <td>730</td>\n",
       "      <td>725</td>\n",
       "    </tr>\n",
       "  </tbody>\n",
       "</table></div>"
      ],
      "text/plain": [
       "  label_name  bbox_x  bbox_y  bbox_width  bbox_height   image_name  \\\n",
       "0      apple      76      31         410          350  7385219.jpg   \n",
       "1     orange     169     172         396          465  7385219.jpg   \n",
       "2      apple     143      54         357          341  3503298.jpg   \n",
       "3     banana     101     186         481          363  3503298.jpg   \n",
       "4      apple      81      40         473          332  3503298.jpg   \n",
       "\n",
       "   image_width  image_height  \n",
       "0          705           724  \n",
       "1          705           724  \n",
       "2          730           725  \n",
       "3          730           725  \n",
       "4          730           725  "
      ]
     },
     "execution_count": 4,
     "metadata": {},
     "output_type": "execute_result"
    },
    {
     "data": {
      "application/javascript": [
       "\n",
       "            setTimeout(function() {\n",
       "                var nbb_cell_id = 4;\n",
       "                var nbb_unformatted_code = \"gt_df = pd.read_csv(\\\"prepare_data/obj_det_ssd_json/all_images_gt/od_labels.csv\\\",)\\nprint(gt_df.shape)\\ngt_df.head()\";\n",
       "                var nbb_formatted_code = \"gt_df = pd.read_csv(\\\"prepare_data/obj_det_ssd_json/all_images_gt/od_labels.csv\\\",)\\nprint(gt_df.shape)\\ngt_df.head()\";\n",
       "                var nbb_cells = Jupyter.notebook.get_cells();\n",
       "                for (var i = 0; i < nbb_cells.length; ++i) {\n",
       "                    if (nbb_cells[i].input_prompt_number == nbb_cell_id) {\n",
       "                        if (nbb_cells[i].get_text() == nbb_unformatted_code) {\n",
       "                             nbb_cells[i].set_text(nbb_formatted_code);\n",
       "                        }\n",
       "                        break;\n",
       "                    }\n",
       "                }\n",
       "            }, 500);\n",
       "            "
      ],
      "text/plain": [
       "<IPython.core.display.Javascript object>"
      ]
     },
     "metadata": {},
     "output_type": "display_data"
    }
   ],
   "source": [
    "gt_df = pd.read_csv(\"prepare_data/obj_det_ssd_json/all_images_gt/od_labels.csv\",)\n",
    "print(gt_df.shape)\n",
    "gt_df.head()"
   ]
  },
  {
   "cell_type": "code",
   "execution_count": 5,
   "id": "7ffde883",
   "metadata": {},
   "outputs": [
    {
     "name": "stdout",
     "output_type": "stream",
     "text": [
      "100 70 30\n"
     ]
    },
    {
     "data": {
      "application/javascript": [
       "\n",
       "            setTimeout(function() {\n",
       "                var nbb_cell_id = 5;\n",
       "                var nbb_unformatted_code = \"train_valid_split = 0.7\\nnimages = gt_df[\\\"image_name\\\"].nunique()\\nntrain = int(train_valid_split * nimages)\\nnvalid = nimages - ntrain\\nprint(nimages, ntrain, nvalid)\";\n",
       "                var nbb_formatted_code = \"train_valid_split = 0.7\\nnimages = gt_df[\\\"image_name\\\"].nunique()\\nntrain = int(train_valid_split * nimages)\\nnvalid = nimages - ntrain\\nprint(nimages, ntrain, nvalid)\";\n",
       "                var nbb_cells = Jupyter.notebook.get_cells();\n",
       "                for (var i = 0; i < nbb_cells.length; ++i) {\n",
       "                    if (nbb_cells[i].input_prompt_number == nbb_cell_id) {\n",
       "                        if (nbb_cells[i].get_text() == nbb_unformatted_code) {\n",
       "                             nbb_cells[i].set_text(nbb_formatted_code);\n",
       "                        }\n",
       "                        break;\n",
       "                    }\n",
       "                }\n",
       "            }, 500);\n",
       "            "
      ],
      "text/plain": [
       "<IPython.core.display.Javascript object>"
      ]
     },
     "metadata": {},
     "output_type": "display_data"
    }
   ],
   "source": [
    "train_valid_split = 0.7\n",
    "nimages = gt_df[\"image_name\"].nunique()\n",
    "ntrain = int(train_valid_split * nimages)\n",
    "nvalid = nimages - ntrain\n",
    "print(nimages, ntrain, nvalid)"
   ]
  },
  {
   "cell_type": "code",
   "execution_count": 6,
   "id": "63bd3439",
   "metadata": {},
   "outputs": [
    {
     "data": {
      "text/plain": [
       "{'apple': 0, 'orange': 1, 'banana': 2}"
      ]
     },
     "execution_count": 6,
     "metadata": {},
     "output_type": "execute_result"
    },
    {
     "data": {
      "application/javascript": [
       "\n",
       "            setTimeout(function() {\n",
       "                var nbb_cell_id = 6;\n",
       "                var nbb_unformatted_code = \"labels = [\\\"apple\\\", \\\"orange\\\", \\\"banana\\\"]\\nlabels_map = {k: v for v, k in enumerate(labels)}\\nwith open(\\\"prepare_data/obj_det_ssd_json/labels_map.json\\\", \\\"w\\\") as fp:\\n    json.dump(labels_map, fp)\\nlabels_map\";\n",
       "                var nbb_formatted_code = \"labels = [\\\"apple\\\", \\\"orange\\\", \\\"banana\\\"]\\nlabels_map = {k: v for v, k in enumerate(labels)}\\nwith open(\\\"prepare_data/obj_det_ssd_json/labels_map.json\\\", \\\"w\\\") as fp:\\n    json.dump(labels_map, fp)\\nlabels_map\";\n",
       "                var nbb_cells = Jupyter.notebook.get_cells();\n",
       "                for (var i = 0; i < nbb_cells.length; ++i) {\n",
       "                    if (nbb_cells[i].input_prompt_number == nbb_cell_id) {\n",
       "                        if (nbb_cells[i].get_text() == nbb_unformatted_code) {\n",
       "                             nbb_cells[i].set_text(nbb_formatted_code);\n",
       "                        }\n",
       "                        break;\n",
       "                    }\n",
       "                }\n",
       "            }, 500);\n",
       "            "
      ],
      "text/plain": [
       "<IPython.core.display.Javascript object>"
      ]
     },
     "metadata": {},
     "output_type": "display_data"
    }
   ],
   "source": [
    "labels = [\"apple\", \"orange\", \"banana\"]\n",
    "labels_map = {k: v for v, k in enumerate(labels)}\n",
    "with open(\"prepare_data/obj_det_ssd_json/labels_map.json\", \"w\") as fp:\n",
    "    json.dump(labels_map, fp)\n",
    "labels_map"
   ]
  },
  {
   "cell_type": "code",
   "execution_count": 7,
   "id": "97d8eac5",
   "metadata": {},
   "outputs": [
    {
     "data": {
      "text/html": [
       "<div><div id=f8c9a34f-5955-4394-a239-d532f7acbbd0 style=\"display:none; background-color:#9D6CFF; color:white; width:200px; height:30px; padding-left:5px; border-radius:4px; flex-direction:row; justify-content:space-around; align-items:center;\" onmouseover=\"this.style.backgroundColor='#BA9BF8'\" onmouseout=\"this.style.backgroundColor='#9D6CFF'\" onclick=\"window.commands?.execute('create-mitosheet-from-dataframe-output');\">See Full Dataframe in Mito</div> <script> if (window.commands?.hasCommand('create-mitosheet-from-dataframe-output')) document.getElementById('f8c9a34f-5955-4394-a239-d532f7acbbd0').style.display = 'flex' </script> <table border=\"1\" class=\"dataframe\">\n",
       "  <thead>\n",
       "    <tr style=\"text-align: right;\">\n",
       "      <th></th>\n",
       "      <th>label_name</th>\n",
       "      <th>bbox_x</th>\n",
       "      <th>bbox_y</th>\n",
       "      <th>bbox_width</th>\n",
       "      <th>bbox_height</th>\n",
       "      <th>image_name</th>\n",
       "      <th>image_width</th>\n",
       "      <th>image_height</th>\n",
       "      <th>class_id</th>\n",
       "    </tr>\n",
       "  </thead>\n",
       "  <tbody>\n",
       "    <tr>\n",
       "      <th>0</th>\n",
       "      <td>apple</td>\n",
       "      <td>76</td>\n",
       "      <td>31</td>\n",
       "      <td>410</td>\n",
       "      <td>350</td>\n",
       "      <td>7385219.jpg</td>\n",
       "      <td>705</td>\n",
       "      <td>724</td>\n",
       "      <td>0</td>\n",
       "    </tr>\n",
       "    <tr>\n",
       "      <th>1</th>\n",
       "      <td>orange</td>\n",
       "      <td>169</td>\n",
       "      <td>172</td>\n",
       "      <td>396</td>\n",
       "      <td>465</td>\n",
       "      <td>7385219.jpg</td>\n",
       "      <td>705</td>\n",
       "      <td>724</td>\n",
       "      <td>1</td>\n",
       "    </tr>\n",
       "    <tr>\n",
       "      <th>2</th>\n",
       "      <td>apple</td>\n",
       "      <td>143</td>\n",
       "      <td>54</td>\n",
       "      <td>357</td>\n",
       "      <td>341</td>\n",
       "      <td>3503298.jpg</td>\n",
       "      <td>730</td>\n",
       "      <td>725</td>\n",
       "      <td>0</td>\n",
       "    </tr>\n",
       "    <tr>\n",
       "      <th>3</th>\n",
       "      <td>banana</td>\n",
       "      <td>101</td>\n",
       "      <td>186</td>\n",
       "      <td>481</td>\n",
       "      <td>363</td>\n",
       "      <td>3503298.jpg</td>\n",
       "      <td>730</td>\n",
       "      <td>725</td>\n",
       "      <td>2</td>\n",
       "    </tr>\n",
       "    <tr>\n",
       "      <th>4</th>\n",
       "      <td>apple</td>\n",
       "      <td>81</td>\n",
       "      <td>40</td>\n",
       "      <td>473</td>\n",
       "      <td>332</td>\n",
       "      <td>3503298.jpg</td>\n",
       "      <td>730</td>\n",
       "      <td>725</td>\n",
       "      <td>0</td>\n",
       "    </tr>\n",
       "  </tbody>\n",
       "</table></div>"
      ],
      "text/plain": [
       "  label_name  bbox_x  bbox_y  bbox_width  bbox_height   image_name  \\\n",
       "0      apple      76      31         410          350  7385219.jpg   \n",
       "1     orange     169     172         396          465  7385219.jpg   \n",
       "2      apple     143      54         357          341  3503298.jpg   \n",
       "3     banana     101     186         481          363  3503298.jpg   \n",
       "4      apple      81      40         473          332  3503298.jpg   \n",
       "\n",
       "   image_width  image_height  class_id  \n",
       "0          705           724         0  \n",
       "1          705           724         1  \n",
       "2          730           725         0  \n",
       "3          730           725         2  \n",
       "4          730           725         0  "
      ]
     },
     "execution_count": 7,
     "metadata": {},
     "output_type": "execute_result"
    },
    {
     "data": {
      "application/javascript": [
       "\n",
       "            setTimeout(function() {\n",
       "                var nbb_cell_id = 7;\n",
       "                var nbb_unformatted_code = \"gt_df[\\\"class_id\\\"] = gt_df[\\\"label_name\\\"].map(labels_map)\\ngt_df.head()\";\n",
       "                var nbb_formatted_code = \"gt_df[\\\"class_id\\\"] = gt_df[\\\"label_name\\\"].map(labels_map)\\ngt_df.head()\";\n",
       "                var nbb_cells = Jupyter.notebook.get_cells();\n",
       "                for (var i = 0; i < nbb_cells.length; ++i) {\n",
       "                    if (nbb_cells[i].input_prompt_number == nbb_cell_id) {\n",
       "                        if (nbb_cells[i].get_text() == nbb_unformatted_code) {\n",
       "                             nbb_cells[i].set_text(nbb_formatted_code);\n",
       "                        }\n",
       "                        break;\n",
       "                    }\n",
       "                }\n",
       "            }, 500);\n",
       "            "
      ],
      "text/plain": [
       "<IPython.core.display.Javascript object>"
      ]
     },
     "metadata": {},
     "output_type": "display_data"
    }
   ],
   "source": [
    "gt_df[\"class_id\"] = gt_df[\"label_name\"].map(labels_map)\n",
    "gt_df.head()"
   ]
  },
  {
   "cell_type": "code",
   "execution_count": 8,
   "id": "9d394c2d",
   "metadata": {},
   "outputs": [
    {
     "data": {
      "text/html": [
       "<div><div id=816aeb27-08de-4e4d-8337-4c4d472f31a7 style=\"display:none; background-color:#9D6CFF; color:white; width:200px; height:30px; padding-left:5px; border-radius:4px; flex-direction:row; justify-content:space-around; align-items:center;\" onmouseover=\"this.style.backgroundColor='#BA9BF8'\" onmouseout=\"this.style.backgroundColor='#9D6CFF'\" onclick=\"window.commands?.execute('create-mitosheet-from-dataframe-output');\">See Full Dataframe in Mito</div> <script> if (window.commands?.hasCommand('create-mitosheet-from-dataframe-output')) document.getElementById('816aeb27-08de-4e4d-8337-4c4d472f31a7').style.display = 'flex' </script> <table border=\"1\" class=\"dataframe\">\n",
       "  <thead>\n",
       "    <tr style=\"text-align: right;\">\n",
       "      <th></th>\n",
       "      <th>label_name</th>\n",
       "      <th>left</th>\n",
       "      <th>top</th>\n",
       "      <th>width</th>\n",
       "      <th>height</th>\n",
       "      <th>image_name</th>\n",
       "      <th>image_width</th>\n",
       "      <th>image_height</th>\n",
       "      <th>class_id</th>\n",
       "    </tr>\n",
       "  </thead>\n",
       "  <tbody>\n",
       "    <tr>\n",
       "      <th>0</th>\n",
       "      <td>apple</td>\n",
       "      <td>76</td>\n",
       "      <td>31</td>\n",
       "      <td>410</td>\n",
       "      <td>350</td>\n",
       "      <td>7385219.jpg</td>\n",
       "      <td>705</td>\n",
       "      <td>724</td>\n",
       "      <td>0</td>\n",
       "    </tr>\n",
       "    <tr>\n",
       "      <th>1</th>\n",
       "      <td>orange</td>\n",
       "      <td>169</td>\n",
       "      <td>172</td>\n",
       "      <td>396</td>\n",
       "      <td>465</td>\n",
       "      <td>7385219.jpg</td>\n",
       "      <td>705</td>\n",
       "      <td>724</td>\n",
       "      <td>1</td>\n",
       "    </tr>\n",
       "    <tr>\n",
       "      <th>2</th>\n",
       "      <td>apple</td>\n",
       "      <td>143</td>\n",
       "      <td>54</td>\n",
       "      <td>357</td>\n",
       "      <td>341</td>\n",
       "      <td>3503298.jpg</td>\n",
       "      <td>730</td>\n",
       "      <td>725</td>\n",
       "      <td>0</td>\n",
       "    </tr>\n",
       "    <tr>\n",
       "      <th>3</th>\n",
       "      <td>banana</td>\n",
       "      <td>101</td>\n",
       "      <td>186</td>\n",
       "      <td>481</td>\n",
       "      <td>363</td>\n",
       "      <td>3503298.jpg</td>\n",
       "      <td>730</td>\n",
       "      <td>725</td>\n",
       "      <td>2</td>\n",
       "    </tr>\n",
       "    <tr>\n",
       "      <th>4</th>\n",
       "      <td>apple</td>\n",
       "      <td>81</td>\n",
       "      <td>40</td>\n",
       "      <td>473</td>\n",
       "      <td>332</td>\n",
       "      <td>3503298.jpg</td>\n",
       "      <td>730</td>\n",
       "      <td>725</td>\n",
       "      <td>0</td>\n",
       "    </tr>\n",
       "  </tbody>\n",
       "</table></div>"
      ],
      "text/plain": [
       "  label_name  left  top  width  height   image_name  image_width  \\\n",
       "0      apple    76   31    410     350  7385219.jpg          705   \n",
       "1     orange   169  172    396     465  7385219.jpg          705   \n",
       "2      apple   143   54    357     341  3503298.jpg          730   \n",
       "3     banana   101  186    481     363  3503298.jpg          730   \n",
       "4      apple    81   40    473     332  3503298.jpg          730   \n",
       "\n",
       "   image_height  class_id  \n",
       "0           724         0  \n",
       "1           724         1  \n",
       "2           725         0  \n",
       "3           725         2  \n",
       "4           725         0  "
      ]
     },
     "execution_count": 8,
     "metadata": {},
     "output_type": "execute_result"
    },
    {
     "data": {
      "application/javascript": [
       "\n",
       "            setTimeout(function() {\n",
       "                var nbb_cell_id = 8;\n",
       "                var nbb_unformatted_code = \"columns_map = {\\n    \\\"bbox_x\\\": \\\"left\\\",\\n    \\\"bbox_y\\\": \\\"top\\\",\\n    \\\"bbox_width\\\": \\\"width\\\",\\n    \\\"bbox_height\\\": \\\"height\\\",\\n}\\n\\ngt_df = gt_df.rename(columns=columns_map)\\ngt_df.head()\";\n",
       "                var nbb_formatted_code = \"columns_map = {\\n    \\\"bbox_x\\\": \\\"left\\\",\\n    \\\"bbox_y\\\": \\\"top\\\",\\n    \\\"bbox_width\\\": \\\"width\\\",\\n    \\\"bbox_height\\\": \\\"height\\\",\\n}\\n\\ngt_df = gt_df.rename(columns=columns_map)\\ngt_df.head()\";\n",
       "                var nbb_cells = Jupyter.notebook.get_cells();\n",
       "                for (var i = 0; i < nbb_cells.length; ++i) {\n",
       "                    if (nbb_cells[i].input_prompt_number == nbb_cell_id) {\n",
       "                        if (nbb_cells[i].get_text() == nbb_unformatted_code) {\n",
       "                             nbb_cells[i].set_text(nbb_formatted_code);\n",
       "                        }\n",
       "                        break;\n",
       "                    }\n",
       "                }\n",
       "            }, 500);\n",
       "            "
      ],
      "text/plain": [
       "<IPython.core.display.Javascript object>"
      ]
     },
     "metadata": {},
     "output_type": "display_data"
    }
   ],
   "source": [
    "columns_map = {\n",
    "    \"bbox_x\": \"left\",\n",
    "    \"bbox_y\": \"top\",\n",
    "    \"bbox_width\": \"width\",\n",
    "    \"bbox_height\": \"height\",\n",
    "}\n",
    "\n",
    "gt_df = gt_df.rename(columns=columns_map)\n",
    "gt_df.head()"
   ]
  },
  {
   "cell_type": "code",
   "execution_count": 9,
   "id": "3ce6acf1",
   "metadata": {},
   "outputs": [
    {
     "name": "stdout",
     "output_type": "stream",
     "text": [
      "[{'class_id': 0, 'name': 'apple'}, {'class_id': 1, 'name': 'orange'}, {'class_id': 2, 'name': 'banana'}]\n"
     ]
    },
    {
     "data": {
      "application/javascript": [
       "\n",
       "            setTimeout(function() {\n",
       "                var nbb_cell_id = 9;\n",
       "                var nbb_unformatted_code = \"categories = []\\nfor k, v in labels_map.items():\\n    categories.append({\\\"class_id\\\": v, \\\"name\\\": k})\\nprint(categories)\";\n",
       "                var nbb_formatted_code = \"categories = []\\nfor k, v in labels_map.items():\\n    categories.append({\\\"class_id\\\": v, \\\"name\\\": k})\\nprint(categories)\";\n",
       "                var nbb_cells = Jupyter.notebook.get_cells();\n",
       "                for (var i = 0; i < nbb_cells.length; ++i) {\n",
       "                    if (nbb_cells[i].input_prompt_number == nbb_cell_id) {\n",
       "                        if (nbb_cells[i].get_text() == nbb_unformatted_code) {\n",
       "                             nbb_cells[i].set_text(nbb_formatted_code);\n",
       "                        }\n",
       "                        break;\n",
       "                    }\n",
       "                }\n",
       "            }, 500);\n",
       "            "
      ],
      "text/plain": [
       "<IPython.core.display.Javascript object>"
      ]
     },
     "metadata": {},
     "output_type": "display_data"
    }
   ],
   "source": [
    "categories = []\n",
    "for k, v in labels_map.items():\n",
    "    categories.append({\"class_id\": v, \"name\": k})\n",
    "print(categories)"
   ]
  },
  {
   "cell_type": "code",
   "execution_count": 10,
   "id": "bf0e72b6",
   "metadata": {},
   "outputs": [
    {
     "data": {
      "application/javascript": [
       "\n",
       "            setTimeout(function() {\n",
       "                var nbb_cell_id = 10;\n",
       "                var nbb_unformatted_code = \"images = gt_df[\\\"image_name\\\"].unique().tolist()\\nfor image in images:\\n    img_df = gt_df[gt_df[\\\"image_name\\\"] == image]\\n    image_size = [\\n        {\\n            \\\"width\\\": int(img_df[\\\"image_width\\\"].iloc[0]),\\n            \\\"height\\\": int(img_df[\\\"image_height\\\"].iloc[0]),\\n            \\\"depth\\\": 3,\\n        }\\n    ]\\n\\n    annotations = img_df[[\\\"class_id\\\", \\\"left\\\", \\\"top\\\", \\\"width\\\", \\\"height\\\"]].to_dict(\\n        orient=\\\"records\\\"\\n    )\\n\\n    gt_dct = {\\n        \\\"file\\\": image,\\n        \\\"image_size\\\": image_size,\\n        \\\"annotation\\\": annotations,\\n        \\\"categories\\\": categories,\\n    }\\n\\n    if random.random() < 0.7:\\n        shutil.copy(\\n            \\\"prepare_data/obj_det_ssd_json/all_images_gt/\\\" + image,\\n            \\\"prepare_data/obj_det_ssd_json/train_imgs/\\\",\\n        )\\n        json_name = (\\n            \\\"prepare_data/obj_det_ssd_json/train_annots/\\\"\\n            + image.split(\\\".\\\")[0]\\n            + \\\".json\\\"\\n        )\\n        with open(json_name, \\\"w\\\") as fp:\\n            json.dump(gt_dct, fp)\\n    else:\\n        shutil.copy(\\n            \\\"prepare_data/obj_det_ssd_json/all_images_gt/\\\" + image,\\n            \\\"prepare_data/obj_det_ssd_json/valid_imgs/\\\",\\n        )\\n        json_name = (\\n            \\\"prepare_data/obj_det_ssd_json/valid_annots/\\\"\\n            + image.split(\\\".\\\")[0]\\n            + \\\".json\\\"\\n        )\\n        with open(json_name, \\\"w\\\") as fp:\\n            json.dump(gt_dct, fp)\";\n",
       "                var nbb_formatted_code = \"images = gt_df[\\\"image_name\\\"].unique().tolist()\\nfor image in images:\\n    img_df = gt_df[gt_df[\\\"image_name\\\"] == image]\\n    image_size = [\\n        {\\n            \\\"width\\\": int(img_df[\\\"image_width\\\"].iloc[0]),\\n            \\\"height\\\": int(img_df[\\\"image_height\\\"].iloc[0]),\\n            \\\"depth\\\": 3,\\n        }\\n    ]\\n\\n    annotations = img_df[[\\\"class_id\\\", \\\"left\\\", \\\"top\\\", \\\"width\\\", \\\"height\\\"]].to_dict(\\n        orient=\\\"records\\\"\\n    )\\n\\n    gt_dct = {\\n        \\\"file\\\": image,\\n        \\\"image_size\\\": image_size,\\n        \\\"annotation\\\": annotations,\\n        \\\"categories\\\": categories,\\n    }\\n\\n    if random.random() < 0.7:\\n        shutil.copy(\\n            \\\"prepare_data/obj_det_ssd_json/all_images_gt/\\\" + image,\\n            \\\"prepare_data/obj_det_ssd_json/train_imgs/\\\",\\n        )\\n        json_name = (\\n            \\\"prepare_data/obj_det_ssd_json/train_annots/\\\"\\n            + image.split(\\\".\\\")[0]\\n            + \\\".json\\\"\\n        )\\n        with open(json_name, \\\"w\\\") as fp:\\n            json.dump(gt_dct, fp)\\n    else:\\n        shutil.copy(\\n            \\\"prepare_data/obj_det_ssd_json/all_images_gt/\\\" + image,\\n            \\\"prepare_data/obj_det_ssd_json/valid_imgs/\\\",\\n        )\\n        json_name = (\\n            \\\"prepare_data/obj_det_ssd_json/valid_annots/\\\"\\n            + image.split(\\\".\\\")[0]\\n            + \\\".json\\\"\\n        )\\n        with open(json_name, \\\"w\\\") as fp:\\n            json.dump(gt_dct, fp)\";\n",
       "                var nbb_cells = Jupyter.notebook.get_cells();\n",
       "                for (var i = 0; i < nbb_cells.length; ++i) {\n",
       "                    if (nbb_cells[i].input_prompt_number == nbb_cell_id) {\n",
       "                        if (nbb_cells[i].get_text() == nbb_unformatted_code) {\n",
       "                             nbb_cells[i].set_text(nbb_formatted_code);\n",
       "                        }\n",
       "                        break;\n",
       "                    }\n",
       "                }\n",
       "            }, 500);\n",
       "            "
      ],
      "text/plain": [
       "<IPython.core.display.Javascript object>"
      ]
     },
     "metadata": {},
     "output_type": "display_data"
    }
   ],
   "source": [
    "images = gt_df[\"image_name\"].unique().tolist()\n",
    "for image in images:\n",
    "    img_df = gt_df[gt_df[\"image_name\"] == image]\n",
    "    image_size = [\n",
    "        {\n",
    "            \"width\": int(img_df[\"image_width\"].iloc[0]),\n",
    "            \"height\": int(img_df[\"image_height\"].iloc[0]),\n",
    "            \"depth\": 3,\n",
    "        }\n",
    "    ]\n",
    "\n",
    "    annotations = img_df[[\"class_id\", \"left\", \"top\", \"width\", \"height\"]].to_dict(\n",
    "        orient=\"records\"\n",
    "    )\n",
    "\n",
    "    gt_dct = {\n",
    "        \"file\": image,\n",
    "        \"image_size\": image_size,\n",
    "        \"annotation\": annotations,\n",
    "        \"categories\": categories,\n",
    "    }\n",
    "\n",
    "    if random.random() < 0.7:\n",
    "        shutil.copy(\n",
    "            \"prepare_data/obj_det_ssd_json/all_images_gt/\" + image,\n",
    "            \"prepare_data/obj_det_ssd_json/train_imgs/\",\n",
    "        )\n",
    "        json_name = (\n",
    "            \"prepare_data/obj_det_ssd_json/train_annots/\"\n",
    "            + image.split(\".\")[0]\n",
    "            + \".json\"\n",
    "        )\n",
    "        with open(json_name, \"w\") as fp:\n",
    "            json.dump(gt_dct, fp)\n",
    "    else:\n",
    "        shutil.copy(\n",
    "            \"prepare_data/obj_det_ssd_json/all_images_gt/\" + image,\n",
    "            \"prepare_data/obj_det_ssd_json/valid_imgs/\",\n",
    "        )\n",
    "        json_name = (\n",
    "            \"prepare_data/obj_det_ssd_json/valid_annots/\"\n",
    "            + image.split(\".\")[0]\n",
    "            + \".json\"\n",
    "        )\n",
    "        with open(json_name, \"w\") as fp:\n",
    "            json.dump(gt_dct, fp)"
   ]
  },
  {
   "cell_type": "code",
   "execution_count": 11,
   "id": "aaa8c8ed",
   "metadata": {},
   "outputs": [
    {
     "name": "stdout",
     "output_type": "stream",
     "text": [
      "{\n",
      "    \"file\": \"8278941.jpg\",\n",
      "    \"image_size\": [\n",
      "        {\n",
      "            \"width\": 676,\n",
      "            \"height\": 797,\n",
      "            \"depth\": 3\n",
      "        }\n",
      "    ],\n",
      "    \"annotation\": [\n",
      "        {\n",
      "            \"class_id\": 2,\n",
      "            \"left\": 74,\n",
      "            \"top\": 121,\n",
      "            \"width\": 425,\n",
      "            \"height\": 363\n",
      "        },\n",
      "        {\n",
      "            \"class_id\": 0,\n",
      "            \"left\": 59,\n",
      "            \"top\": 148,\n",
      "            \"width\": 482,\n",
      "            \"height\": 352\n",
      "        }\n",
      "    ],\n",
      "    \"categories\": [\n",
      "        {\n",
      "            \"class_id\": 0,\n",
      "            \"name\": \"apple\"\n",
      "        },\n",
      "        {\n",
      "            \"class_id\": 1,\n",
      "            \"name\": \"orange\"\n",
      "        },\n",
      "        {\n",
      "            \"class_id\": 2,\n",
      "            \"name\": \"banana\"\n",
      "        }\n",
      "    ]\n",
      "}\n"
     ]
    },
    {
     "data": {
      "application/javascript": [
       "\n",
       "            setTimeout(function() {\n",
       "                var nbb_cell_id = 11;\n",
       "                var nbb_unformatted_code = \"print(json.dumps(gt_dct, indent=4))\";\n",
       "                var nbb_formatted_code = \"print(json.dumps(gt_dct, indent=4))\";\n",
       "                var nbb_cells = Jupyter.notebook.get_cells();\n",
       "                for (var i = 0; i < nbb_cells.length; ++i) {\n",
       "                    if (nbb_cells[i].input_prompt_number == nbb_cell_id) {\n",
       "                        if (nbb_cells[i].get_text() == nbb_unformatted_code) {\n",
       "                             nbb_cells[i].set_text(nbb_formatted_code);\n",
       "                        }\n",
       "                        break;\n",
       "                    }\n",
       "                }\n",
       "            }, 500);\n",
       "            "
      ],
      "text/plain": [
       "<IPython.core.display.Javascript object>"
      ]
     },
     "metadata": {},
     "output_type": "display_data"
    }
   ],
   "source": [
    "print(json.dumps(gt_dct, indent=4))"
   ]
  },
  {
   "cell_type": "code",
   "execution_count": null,
   "id": "ec6ebf84",
   "metadata": {},
   "outputs": [],
   "source": []
  },
  {
   "cell_type": "code",
   "execution_count": null,
   "id": "850284bd",
   "metadata": {},
   "outputs": [],
   "source": []
  },
  {
   "cell_type": "code",
   "execution_count": null,
   "id": "7c15e546",
   "metadata": {},
   "outputs": [],
   "source": []
  },
  {
   "cell_type": "code",
   "execution_count": null,
   "id": "a45eec7c",
   "metadata": {},
   "outputs": [],
   "source": []
  },
  {
   "cell_type": "code",
   "execution_count": null,
   "id": "5148a4c1",
   "metadata": {},
   "outputs": [],
   "source": []
  },
  {
   "cell_type": "code",
   "execution_count": null,
   "id": "84af2739",
   "metadata": {},
   "outputs": [],
   "source": []
  },
  {
   "cell_type": "code",
   "execution_count": null,
   "id": "a7450c34",
   "metadata": {},
   "outputs": [],
   "source": []
  },
  {
   "cell_type": "code",
   "execution_count": null,
   "id": "09377ae3",
   "metadata": {},
   "outputs": [],
   "source": []
  },
  {
   "cell_type": "code",
   "execution_count": null,
   "id": "16ff9807",
   "metadata": {},
   "outputs": [],
   "source": []
  },
  {
   "cell_type": "code",
   "execution_count": null,
   "id": "e6909606",
   "metadata": {},
   "outputs": [],
   "source": []
  },
  {
   "cell_type": "code",
   "execution_count": null,
   "id": "cdf3edd3",
   "metadata": {},
   "outputs": [],
   "source": []
  },
  {
   "cell_type": "code",
   "execution_count": null,
   "id": "cc3844f2",
   "metadata": {},
   "outputs": [],
   "source": []
  },
  {
   "cell_type": "code",
   "execution_count": null,
   "id": "7434f33a",
   "metadata": {},
   "outputs": [],
   "source": []
  },
  {
   "cell_type": "code",
   "execution_count": null,
   "id": "3a098913",
   "metadata": {},
   "outputs": [],
   "source": []
  },
  {
   "cell_type": "code",
   "execution_count": 12,
   "id": "5c01064b",
   "metadata": {},
   "outputs": [
    {
     "data": {
      "application/javascript": [
       "\n",
       "            setTimeout(function() {\n",
       "                var nbb_cell_id = 12;\n",
       "                var nbb_unformatted_code = \"# labels = [\\\"apple\\\", \\\"orange\\\", \\\"banana\\\"]\\n# gt_df = pd.DataFrame()\\n\\n# for i in range(100):\\n#     image_name = str(random.randint(1000000, 9999999)) + \\\".jpg\\\"\\n#     image_width = random.randint(600, 800)\\n#     image_height = random.randint(600, 800)\\n\\n#     shutil.copy(\\n#         \\\"images/rose.jpg\\\", \\\"prepare_date/obj_det_ssd_json/all_images_gt/\\\" + image_name\\n#     )\\n\\n#     for nobj in range(random.sample([1, 1, 1, 2, 2, 3], 1)[0]):\\n#         label_name = random.sample(labels, 1)\\n#         bbox_x = random.randint(0, 200)\\n#         bbox_y = random.randint(0, 200)\\n#         bbox_width = random.randint(300, 500)\\n#         bbox_height = random.randint(300, 500)\\n\\n#         row = {\\n#             \\\"label_name\\\": label_name,\\n#             \\\"bbox_x\\\": bbox_x,\\n#             \\\"bbox_y\\\": bbox_y,\\n#             \\\"bbox_width\\\": bbox_width,\\n#             \\\"bbox_height\\\": bbox_height,\\n#             \\\"image_name\\\": image_name,\\n#             \\\"image_width\\\": image_width,\\n#             \\\"image_height\\\": image_height,\\n#         }\\n\\n#         gt_df = pd.concat([gt_df, pd.DataFrame(row)], ignore_index=True)\\n\\n\\n# gt_df.to_csv(\\n#     \\\"prepare_date/obj_det_ssd_json/all_images_gt/od_labels.csv\\\", index=False,\\n# )\\n# print(gt_df.shape)\\n# gt_df.head()\";\n",
       "                var nbb_formatted_code = \"# labels = [\\\"apple\\\", \\\"orange\\\", \\\"banana\\\"]\\n# gt_df = pd.DataFrame()\\n\\n# for i in range(100):\\n#     image_name = str(random.randint(1000000, 9999999)) + \\\".jpg\\\"\\n#     image_width = random.randint(600, 800)\\n#     image_height = random.randint(600, 800)\\n\\n#     shutil.copy(\\n#         \\\"images/rose.jpg\\\", \\\"prepare_date/obj_det_ssd_json/all_images_gt/\\\" + image_name\\n#     )\\n\\n#     for nobj in range(random.sample([1, 1, 1, 2, 2, 3], 1)[0]):\\n#         label_name = random.sample(labels, 1)\\n#         bbox_x = random.randint(0, 200)\\n#         bbox_y = random.randint(0, 200)\\n#         bbox_width = random.randint(300, 500)\\n#         bbox_height = random.randint(300, 500)\\n\\n#         row = {\\n#             \\\"label_name\\\": label_name,\\n#             \\\"bbox_x\\\": bbox_x,\\n#             \\\"bbox_y\\\": bbox_y,\\n#             \\\"bbox_width\\\": bbox_width,\\n#             \\\"bbox_height\\\": bbox_height,\\n#             \\\"image_name\\\": image_name,\\n#             \\\"image_width\\\": image_width,\\n#             \\\"image_height\\\": image_height,\\n#         }\\n\\n#         gt_df = pd.concat([gt_df, pd.DataFrame(row)], ignore_index=True)\\n\\n\\n# gt_df.to_csv(\\n#     \\\"prepare_date/obj_det_ssd_json/all_images_gt/od_labels.csv\\\", index=False,\\n# )\\n# print(gt_df.shape)\\n# gt_df.head()\";\n",
       "                var nbb_cells = Jupyter.notebook.get_cells();\n",
       "                for (var i = 0; i < nbb_cells.length; ++i) {\n",
       "                    if (nbb_cells[i].input_prompt_number == nbb_cell_id) {\n",
       "                        if (nbb_cells[i].get_text() == nbb_unformatted_code) {\n",
       "                             nbb_cells[i].set_text(nbb_formatted_code);\n",
       "                        }\n",
       "                        break;\n",
       "                    }\n",
       "                }\n",
       "            }, 500);\n",
       "            "
      ],
      "text/plain": [
       "<IPython.core.display.Javascript object>"
      ]
     },
     "metadata": {},
     "output_type": "display_data"
    }
   ],
   "source": []
  },
  {
   "cell_type": "code",
   "execution_count": null,
   "id": "acb8f9ce",
   "metadata": {},
   "outputs": [],
   "source": []
  },
  {
   "cell_type": "code",
   "execution_count": null,
   "id": "287c61b4",
   "metadata": {},
   "outputs": [],
   "source": []
  }
 ],
 "metadata": {
  "kernelspec": {
   "display_name": "Python 3 (ipykernel)",
   "language": "python",
   "name": "python3"
  },
  "language_info": {
   "codemirror_mode": {
    "name": "ipython",
    "version": 3
   },
   "file_extension": ".py",
   "mimetype": "text/x-python",
   "name": "python",
   "nbconvert_exporter": "python",
   "pygments_lexer": "ipython3",
   "version": "3.8.13"
  },
  "toc": {
   "base_numbering": 1,
   "nav_menu": {},
   "number_sections": true,
   "sideBar": true,
   "skip_h1_title": false,
   "title_cell": "Table of Contents",
   "title_sidebar": "Contents",
   "toc_cell": false,
   "toc_position": {},
   "toc_section_display": true,
   "toc_window_display": false
  }
 },
 "nbformat": 4,
 "nbformat_minor": 5
}
